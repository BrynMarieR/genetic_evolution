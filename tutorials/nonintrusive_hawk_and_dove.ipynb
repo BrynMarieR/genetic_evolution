{
 "cells": [
  {
   "cell_type": "markdown",
   "metadata": {},
   "source": [
    "# Set working directory and import modules"
   ]
  },
  {
   "cell_type": "code",
   "execution_count": 6,
   "metadata": {
    "pycharm": {
     "is_executing": false
    }
   },
   "outputs": [],
   "source": [
    "import os\n",
    "# Change working directory to the root of the repository (assumes notebook working directory is `tutorials`)\n",
    "os.chdir('/Users/breinsta/Desktop/alfa_research/donkey_ge/')\n",
    "import main\n",
    "from util.plot_ipd import plot_iterated_prisoners_dilemma, plot_ipd_from_file\n",
    "from fitness.game_theory_game import NonIntrusiveHawkAndDoveGame\n",
    "from typing import List, Tuple"
   ]
  },
  {
   "cell_type": "markdown",
   "metadata": {},
   "source": [
    "# Run Non-intrusive hawk and dove with two different player strategies"
   ]
  },
  {
   "cell_type": "code",
   "execution_count": 10,
   "metadata": {
    "pycharm": {
     "is_executing": false
    }
   },
   "outputs": [],
   "source": [
    "player_1 = lambda h, i: \"D\"\n",
    "player_2 = lambda h, i: \"X\"\n",
    "n_iterations = 3\n",
    "memory_size = 1\n",
    "# Setup a prisoners dilemma engagment\n",
    "nihd = NonIntrusiveHawkAndDoveGame(n_iterations=n_iterations, memory_size=memory_size, \n",
    "                               store_stats=True, out_file_name=NonIntrusiveHawkAndDoveGame.DEFAULT_OUT_FILE)\n",
    "# Run the strategies against each other\n",
    "sentences, histories = nihd.run(player_1=player_1, player_2=player_2)\n",
    "# Plot the choices and the payoffs from the engagement\n",
    "# plot_iterated_prisoners_dilemma(sentences, ihd.revise_history(histories), out_path='.')"
   ]
  },
  {
   "cell_type": "markdown",
   "metadata": {},
   "source": [
    "# Run the heuristic search"
   ]
  },
  {
   "cell_type": "code",
   "execution_count": 13,
   "metadata": {
    "pycharm": {
     "is_executing": false
    }
   },
   "outputs": [
    {
     "name": "stdout",
     "text": [
      "Namespace(coev=False, configuration_file='tests/configurations/nonintrusive_hawk_dove.yml', output_dir='tmp')\n",
      "Setting random seed: 1 0.13436\n",
      "donkey_ge settings: {'population_size': 10, 'max_length': 10, 'elite_size': 3, 'generations': 5, 'tournament_size': 2, 'seed': 1, 'crossover_probability': 0.8, 'mutation_probability': 0.1, 'codon_size': 127, 'integer_input_element_max': 1000, 'bnf_grammar': 'tests/grammars/complex_hawk_dove.bnf', 'fitness_function': {'name': 'NonIntrusiveHawkAndDove', 'opponent': \"lambda h, i: 'X'\", 'n_iterations': 4}, 'output_dir': 'tmp', 'coev': False, 'brynset': 'hello'}\n",
      "Gen:0 t:0.001 fit_ave:-0.95+-1.588 size_ave:4.50+-1.025 length_ave:10.00+-0.000 Ind: lambda h, i: \"B\" if i == 0 else (\"H\" if h[i-1] == \"D\" else \"B\"); 2.0\n",
      "Gen:1 t:0.002 fit_ave:-0.35+-1.361 size_ave:5.30+-0.458 length_ave:10.00+-2.280 Ind: lambda h, i: \"B\" if i == 0 else (\"B\" if h[i-1] == \"B\" else \"B\"); 2.0\n",
      "Gen:2 t:0.001 fit_ave:0.65+-1.266 size_ave:5.30+-0.458 length_ave:8.90+-1.972 Ind: lambda h, i: \"B\" if i == 0 else (\"B\" if h[i-1] == \"B\" else \"B\"); 2.0\n",
      "Gen:3 t:0.002 fit_ave:1.90+-0.300 size_ave:5.00+-0.000 length_ave:7.90+-1.758 Ind: lambda h, i: \"B\" if i == 0 else (\"B\" if h[i-1] == \"X\" else \"B\"); 2.0\n",
      "Gen:4 t:0.001 fit_ave:2.00+-0.000 size_ave:5.00+-0.000 length_ave:8.40+-2.538 Ind: lambda h, i: \"B\" if i == 0 else (\"B\" if h[i-1] == \"B\" else \"B\"); 2.0\n",
      "Cache entries:27 Total Fitness Evaluations:500 Fitness Values:12\n",
      "Time: 0.014 Best solution:Ind: lambda h, i: \"B\" if i == 0 else (\"B\" if h[i-1] == \"B\" else \"B\"); 2.0\n"
     ],
     "output_type": "stream"
    }
   ],
   "source": [
    "# Set to use the configuration file and output directory\n",
    "args = [\"-o\", \"tmp\", \"-f\", \"tests/configurations/nonintrusive_hawk_dove.yml\"]\n",
    "_ = main.main(args)"
   ]
  },
  {
   "cell_type": "code",
   "execution_count": 14,
   "metadata": {
    "pycharm": {
     "is_executing": false,
     "name": "#%%\n"
    }
   },
   "outputs": [
    {
     "data": {
      "text/plain": "<Figure size 432x288 with 1 Axes>",
      "image/png": "[encoded data removed]"
     },
     "metadata": {
      "needs_background": "light"
     },
     "output_type": "display_data"
    }
   ],
   "source": [
    "from util.plot_donkey_ge import plot_fitness\n",
    "# Plot fitness from a search\n",
    "plot_fitness(in_path=\"tmp\")"
   ]
  }
 ],
 "metadata": {
  "kernelspec": {
   "display_name": "Python 3",
   "language": "python",
   "name": "python3"
  },
  "language_info": {
   "codemirror_mode": {
    "name": "ipython",
    "version": 3
   },
   "file_extension": ".py",
   "mimetype": "text/x-python",
   "name": "python",
   "nbconvert_exporter": "python",
   "pygments_lexer": "ipython3",
   "version": "3.7.4"
  },
  "pycharm": {
   "stem_cell": {
    "cell_type": "raw",
    "source": [],
    "metadata": {
     "collapsed": false
    }
   }
  }
 },
 "nbformat": 4,
 "nbformat_minor": 2
}