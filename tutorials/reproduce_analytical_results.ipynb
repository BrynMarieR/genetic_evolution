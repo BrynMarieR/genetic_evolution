{
 "cells": [
  {
   "cell_type": "markdown",
   "metadata": {},
   "source": [
    "# Set working directory and import modules"
   ]
  },
  {
   "cell_type": "code",
   "execution_count": 28,
   "metadata": {
    "pycharm": {
     "is_executing": false
    }
   },
   "outputs": [],
   "source": [
    "import os\n",
    "import util.plot_donkey_ge as pdg\n",
    "# Change working directory to the root of the repository (assumes notebook working directory is `tutorials`)\n",
    "os.chdir('/Users/breinsta/Desktop/alfa_research/donkey_ge/')\n",
    "import main\n",
    "from util.plot_hd import plot_hawk_and_dove\n",
    "from fitness.game_theory_game import IntrusiveHawkAndDoveGame, NonIntrusiveHawkAndDoveGame, \\\n",
    "    PrisonersDilemma, HawkAndDove\n",
    "from typing import List, Tuple"
   ]
  },
  {
   "cell_type": "code",
   "execution_count": 29,
   "outputs": [
    {
     "name": "stdout",
     "text": [
      "Namespace(coev=False, configuration_file='tests/configurations/iterated_prisoners_dilemma.yml', output_dir='tmp_pd')\n",
      "Setting random seed: 1579901951 0.26201\n",
      "donkey_ge settings: {'population_size': 500, 'max_length': 10, 'elite_size': 25, 'generations': 25, 'tournament_size': 2, 'crossover_probability': 0.8, 'mutation_probability': 0.1, 'codon_size': 127, 'integer_input_element_max': 1000, 'bnf_grammar': 'tests/grammars/simple_iterated_prisoners_dilemma.bnf', 'fitness_function': {'name': 'IteratedPrisonersDilemma', 'opponent': \"lambda h, i: 'D'\", 'n_iterations': 4}, 'output_dir': 'tmp_pd', 'coev': False, 'seed': 1579901951}\n",
      "Gen:0 t:0.005 fit_ave:-2.48+-0.500 size_ave:1.00+-0.000 length_ave:10.00+-0.000 Ind: lambda h, i: \"D\"; -2.0\n",
      "Gen:1 t:0.012 fit_ave:-2.18+-0.381 size_ave:1.00+-0.000 length_ave:10.00+-0.000 Ind: lambda h, i: \"D\"; -2.0\n",
      "Gen:2 t:0.012 fit_ave:-2.01+-0.117 size_ave:1.00+-0.000 length_ave:10.00+-0.000 Ind: lambda h, i: \"D\"; -2.0\n",
      "Gen:3 t:0.012 fit_ave:-2.00+-0.000 size_ave:1.00+-0.000 length_ave:10.00+-0.000 Ind: lambda h, i: \"D\"; -2.0\n",
      "Gen:4 t:0.056 fit_ave:-2.00+-0.000 size_ave:1.00+-0.000 length_ave:10.00+-0.000 Ind: lambda h, i: \"D\"; -2.0\n",
      "Gen:5 t:0.011 fit_ave:-2.00+-0.045 size_ave:1.00+-0.000 length_ave:10.00+-0.000 Ind: lambda h, i: \"D\"; -2.0\n",
      "Gen:6 t:0.010 fit_ave:-2.00+-0.000 size_ave:1.00+-0.000 length_ave:10.00+-0.000 Ind: lambda h, i: \"D\"; -2.0\n",
      "Gen:7 t:0.010 fit_ave:-2.00+-0.045 size_ave:1.00+-0.000 length_ave:10.00+-0.000 Ind: lambda h, i: \"D\"; -2.0\n",
      "Gen:8 t:0.011 fit_ave:-2.00+-0.000 size_ave:1.00+-0.000 length_ave:10.00+-0.000 Ind: lambda h, i: \"D\"; -2.0\n",
      "Gen:9 t:0.011 fit_ave:-2.00+-0.000 size_ave:1.00+-0.000 length_ave:10.00+-0.000 Ind: lambda h, i: \"D\"; -2.0\n",
      "Gen:10 t:0.011 fit_ave:-2.00+-0.000 size_ave:1.00+-0.000 length_ave:10.00+-0.000 Ind: lambda h, i: \"D\"; -2.0\n",
      "Gen:11 t:0.011 fit_ave:-2.00+-0.000 size_ave:1.00+-0.000 length_ave:10.00+-0.000 Ind: lambda h, i: \"D\"; -2.0\n",
      "Gen:12 t:0.011 fit_ave:-2.00+-0.000 size_ave:1.00+-0.000 length_ave:10.00+-0.000 Ind: lambda h, i: \"D\"; -2.0\n",
      "Gen:13 t:0.011 fit_ave:-2.00+-0.000 size_ave:1.00+-0.000 length_ave:10.00+-0.000 Ind: lambda h, i: \"D\"; -2.0\n",
      "Gen:14 t:0.013 fit_ave:-2.01+-0.099 size_ave:1.00+-0.000 length_ave:10.00+-0.000 Ind: lambda h, i: \"D\"; -2.0\n",
      "Gen:15 t:0.012 fit_ave:-2.00+-0.000 size_ave:1.00+-0.000 length_ave:10.00+-0.000 Ind: lambda h, i: \"D\"; -2.0\n",
      "Gen:16 t:0.012 fit_ave:-2.01+-0.077 size_ave:1.00+-0.000 length_ave:10.00+-0.000 Ind: lambda h, i: \"D\"; -2.0\n",
      "Gen:17 t:0.011 fit_ave:-2.00+-0.000 size_ave:1.00+-0.000 length_ave:10.00+-0.000 Ind: lambda h, i: \"D\"; -2.0\n",
      "Gen:18 t:0.012 fit_ave:-2.01+-0.089 size_ave:1.00+-0.000 length_ave:10.00+-0.000 Ind: lambda h, i: \"D\"; -2.0\n",
      "Gen:19 t:0.012 fit_ave:-2.00+-0.000 size_ave:1.00+-0.000 length_ave:10.00+-0.000 Ind: lambda h, i: \"D\"; -2.0\n",
      "Gen:20 t:0.020 fit_ave:-2.00+-0.063 size_ave:1.00+-0.000 length_ave:10.00+-0.000 Ind: lambda h, i: \"D\"; -2.0\n",
      "Gen:21 t:0.020 fit_ave:-2.00+-0.000 size_ave:1.00+-0.000 length_ave:10.00+-0.000 Ind: lambda h, i: \"D\"; -2.0\n",
      "Gen:22 t:0.015 fit_ave:-2.00+-0.000 size_ave:1.00+-0.000 length_ave:10.00+-0.000 Ind: lambda h, i: \"D\"; -2.0\n",
      "Gen:23 t:0.013 fit_ave:-2.01+-0.099 size_ave:1.00+-0.000 length_ave:10.00+-0.000 Ind: lambda h, i: \"D\"; -2.0\n",
      "Gen:24 t:0.012 fit_ave:-2.01+-0.117 size_ave:1.00+-0.000 length_ave:10.00+-0.000 Ind: lambda h, i: \"D\"; -2.0\n",
      "Cache:OrderedDict([('lambda h, i: \"D\"-lambda h, i: \\'D\\'', -2.0), ('lambda h, i: \"C\"-lambda h, i: \\'D\\'', -3.0)]) Cache entries:2 Total Fitness Evaluations:6250000 Fitness Values:2\n",
      "Time: 0.442 Best solution:Ind: lambda h, i: \"D\"; -2.0\n"
     ],
     "output_type": "stream"
    },
    {
     "data": {
      "text/plain": "<Figure size 432x288 with 0 Axes>"
     },
     "metadata": {},
     "output_type": "display_data"
    }
   ],
   "source": [
    "# prisoner's dilemma\n",
    "args = [\"-o\", \"tmp_pd\", \"-f\", \"tests/configurations/iterated_prisoners_dilemma.yml\"]\n",
    "_ = main.main(args)\n",
    "pdg.plot_population_freqs(out_path=\"tmp_pd\", in_path=\"tmp_pd\", title=\"Opponent: D\")\n"
   ],
   "metadata": {
    "collapsed": false,
    "pycharm": {
     "name": "#%%\n",
     "is_executing": false
    }
   }
  },
  {
   "cell_type": "code",
   "execution_count": 30,
   "outputs": [
    {
     "name": "stdout",
     "text": [
      "Namespace(coev=False, configuration_file='tests/configurations/hawk_and_dove.yml', output_dir='tmp_hd')\n",
      "Setting random seed: 1579901958 0.95724\n",
      "donkey_ge settings: {'population_size': 100, 'max_length': 10, 'elite_size': 14, 'generations': 10, 'tournament_size': 2, 'crossover_probability': 0.8, 'mutation_probability': 0.1, 'codon_size': 127, 'integer_input_element_max': 1000, 'bnf_grammar': 'tests/grammars/hawk_and_dove.bnf', 'fitness_function': {'name': 'HawkAndDove', 'opponent': \"lambda h, i: 'D'\", 'n_iterations': 4}, 'output_dir': 'tmp_hd', 'coev': False, 'seed': 1579901958}\n"
     ],
     "output_type": "stream"
    },
    {
     "traceback": [
      "\u001b[0;31m---------------------------------------------------------------------------\u001b[0m",
      "\u001b[0;31mBaseException\u001b[0m                             Traceback (most recent call last)",
      "\u001b[0;32m<ipython-input-30-90b0c3b7e825>\u001b[0m in \u001b[0;36m<module>\u001b[0;34m\u001b[0m\n\u001b[1;32m      1\u001b[0m \u001b[0;31m# hawk-dove (2-player)\u001b[0m\u001b[0;34m\u001b[0m\u001b[0;34m\u001b[0m\u001b[0;34m\u001b[0m\u001b[0m\n\u001b[1;32m      2\u001b[0m \u001b[0margs\u001b[0m \u001b[0;34m=\u001b[0m \u001b[0;34m[\u001b[0m\u001b[0;34m\"-o\"\u001b[0m\u001b[0;34m,\u001b[0m \u001b[0;34m\"tmp_hd\"\u001b[0m\u001b[0;34m,\u001b[0m \u001b[0;34m\"-f\"\u001b[0m\u001b[0;34m,\u001b[0m \u001b[0;34m\"tests/configurations/hawk_and_dove.yml\"\u001b[0m\u001b[0;34m]\u001b[0m\u001b[0;34m\u001b[0m\u001b[0;34m\u001b[0m\u001b[0m\n\u001b[0;32m----> 3\u001b[0;31m \u001b[0m_\u001b[0m \u001b[0;34m=\u001b[0m \u001b[0mmain\u001b[0m\u001b[0;34m.\u001b[0m\u001b[0mmain\u001b[0m\u001b[0;34m(\u001b[0m\u001b[0margs\u001b[0m\u001b[0;34m)\u001b[0m\u001b[0;34m\u001b[0m\u001b[0;34m\u001b[0m\u001b[0m\n\u001b[0m\u001b[1;32m      4\u001b[0m \u001b[0mpdg\u001b[0m\u001b[0;34m.\u001b[0m\u001b[0mplot_population_freqs\u001b[0m\u001b[0;34m(\u001b[0m\u001b[0mout_path\u001b[0m\u001b[0;34m=\u001b[0m\u001b[0;34m\"tmp_hd\"\u001b[0m\u001b[0;34m,\u001b[0m \u001b[0min_path\u001b[0m\u001b[0;34m=\u001b[0m\u001b[0;34m\"tmp_hd\"\u001b[0m\u001b[0;34m,\u001b[0m \u001b[0mtitle\u001b[0m\u001b[0;34m=\u001b[0m\u001b[0;34m\"Opponent: D\"\u001b[0m\u001b[0;34m)\u001b[0m\u001b[0;34m\u001b[0m\u001b[0;34m\u001b[0m\u001b[0m\n\u001b[1;32m      5\u001b[0m \u001b[0;34m\u001b[0m\u001b[0m\n",
      "\u001b[0;32m~/Desktop/alfa_research/donkey_ge/main.py\u001b[0m in \u001b[0;36mmain\u001b[0;34m(args)\u001b[0m\n\u001b[1;32m     69\u001b[0m         \u001b[0mdonkey_ge_coev\u001b[0m\u001b[0;34m.\u001b[0m\u001b[0mrun\u001b[0m\u001b[0;34m(\u001b[0m\u001b[0margs\u001b[0m\u001b[0;34m)\u001b[0m\u001b[0;34m\u001b[0m\u001b[0;34m\u001b[0m\u001b[0m\n\u001b[1;32m     70\u001b[0m     \u001b[0;32melse\u001b[0m\u001b[0;34m:\u001b[0m\u001b[0;34m\u001b[0m\u001b[0;34m\u001b[0m\u001b[0m\n\u001b[0;32m---> 71\u001b[0;31m         \u001b[0mdonkey_ge\u001b[0m\u001b[0;34m.\u001b[0m\u001b[0mrun\u001b[0m\u001b[0;34m(\u001b[0m\u001b[0margs\u001b[0m\u001b[0;34m)\u001b[0m\u001b[0;34m\u001b[0m\u001b[0;34m\u001b[0m\u001b[0m\n\u001b[0m\u001b[1;32m     72\u001b[0m \u001b[0;34m\u001b[0m\u001b[0m\n\u001b[1;32m     73\u001b[0m     \u001b[0;32mreturn\u001b[0m \u001b[0margs\u001b[0m\u001b[0;34m\u001b[0m\u001b[0;34m\u001b[0m\u001b[0m\n",
      "\u001b[0;32m~/Desktop/alfa_research/donkey_ge/heuristics/donkey_ge.py\u001b[0m in \u001b[0;36mrun\u001b[0;34m(param)\u001b[0m\n\u001b[1;32m    946\u001b[0m     \u001b[0mgrammar\u001b[0m \u001b[0;34m=\u001b[0m \u001b[0mGrammar\u001b[0m\u001b[0;34m(\u001b[0m\u001b[0mparam\u001b[0m\u001b[0;34m[\u001b[0m\u001b[0;34m\"bnf_grammar\"\u001b[0m\u001b[0;34m]\u001b[0m\u001b[0;34m)\u001b[0m\u001b[0;34m\u001b[0m\u001b[0;34m\u001b[0m\u001b[0m\n\u001b[1;32m    947\u001b[0m     \u001b[0mgrammar\u001b[0m\u001b[0;34m.\u001b[0m\u001b[0mread_bnf_file\u001b[0m\u001b[0;34m(\u001b[0m\u001b[0mgrammar\u001b[0m\u001b[0;34m.\u001b[0m\u001b[0mfile_name\u001b[0m\u001b[0;34m)\u001b[0m\u001b[0;34m\u001b[0m\u001b[0;34m\u001b[0m\u001b[0m\n\u001b[0;32m--> 948\u001b[0;31m     \u001b[0mfitness_function\u001b[0m \u001b[0;34m=\u001b[0m \u001b[0mget_fitness_function\u001b[0m\u001b[0;34m(\u001b[0m\u001b[0mparam\u001b[0m\u001b[0;34m[\u001b[0m\u001b[0;34m\"fitness_function\"\u001b[0m\u001b[0;34m]\u001b[0m\u001b[0;34m)\u001b[0m\u001b[0;34m\u001b[0m\u001b[0;34m\u001b[0m\u001b[0m\n\u001b[0m\u001b[1;32m    949\u001b[0m     \u001b[0;31m# These are parameters since defaults are dangerous\u001b[0m\u001b[0;34m\u001b[0m\u001b[0;34m\u001b[0m\u001b[0;34m\u001b[0m\u001b[0m\n\u001b[1;32m    950\u001b[0m     \u001b[0;31m# TODO make clearer\u001b[0m\u001b[0;34m\u001b[0m\u001b[0;34m\u001b[0m\u001b[0;34m\u001b[0m\u001b[0m\n",
      "\u001b[0;32m~/Desktop/alfa_research/donkey_ge/heuristics/donkey_ge.py\u001b[0m in \u001b[0;36mget_fitness_function\u001b[0;34m(param)\u001b[0m\n\u001b[1;32m    998\u001b[0m         \u001b[0mfitness_function\u001b[0m \u001b[0;34m=\u001b[0m \u001b[0mNonIntrusiveHawkAndDove\u001b[0m\u001b[0;34m(\u001b[0m\u001b[0mparam\u001b[0m\u001b[0;34m)\u001b[0m\u001b[0;34m\u001b[0m\u001b[0;34m\u001b[0m\u001b[0m\n\u001b[1;32m    999\u001b[0m     \u001b[0;32melse\u001b[0m\u001b[0;34m:\u001b[0m\u001b[0;34m\u001b[0m\u001b[0;34m\u001b[0m\u001b[0m\n\u001b[0;32m-> 1000\u001b[0;31m         \u001b[0;32mraise\u001b[0m \u001b[0mBaseException\u001b[0m\u001b[0;34m(\u001b[0m\u001b[0;34m\"Unknown fitness function: {}\"\u001b[0m\u001b[0;34m.\u001b[0m\u001b[0mformat\u001b[0m\u001b[0;34m(\u001b[0m\u001b[0mname\u001b[0m\u001b[0;34m)\u001b[0m\u001b[0;34m)\u001b[0m\u001b[0;34m\u001b[0m\u001b[0;34m\u001b[0m\u001b[0m\n\u001b[0m\u001b[1;32m   1001\u001b[0m \u001b[0;34m\u001b[0m\u001b[0m\n\u001b[1;32m   1002\u001b[0m     \u001b[0;32mreturn\u001b[0m \u001b[0mfitness_function\u001b[0m\u001b[0;34m\u001b[0m\u001b[0;34m\u001b[0m\u001b[0m\n",
      "\u001b[0;31mBaseException\u001b[0m: Unknown fitness function: HawkAndDove"
     ],
     "ename": "BaseException",
     "evalue": "Unknown fitness function: HawkAndDove",
     "output_type": "error"
    }
   ],
   "source": [
    "# hawk-dove (2-player)\n",
    "args = [\"-o\", \"tmp_hd\", \"-f\", \"tests/configurations/hawk_and_dove.yml\"]\n",
    "_ = main.main(args)\n",
    "pdg.plot_population_freqs(out_path=\"tmp_hd\", in_path=\"tmp_hd\", title=\"Opponent: D\")"
   ],
   "metadata": {
    "collapsed": false,
    "pycharm": {
     "name": "#%%\n",
     "is_executing": false
    }
   }
  },
  {
   "cell_type": "code",
   "execution_count": 27,
   "outputs": [
    {
     "name": "stdout",
     "text": [
      "Namespace(coev=True, configuration_file='tests/configurations/coevolution_single_pop_intrusive_hawk_dove.yml', output_dir='tmp_coev_int_onepop')\n",
      "Setting random seed: 1579899956 0.74342\n",
      "donkey_ge settings: {'population_size': 100, 'max_length': 100, 'generations': 40, 'tournament_size': 2, 'crossover_probability': 0.8, 'mutation_probability': 0.1, 'codon_size': 127, 'integer_input_element_max': 1000, 'elite_size': 95, 'populations': {'attacker': {'adversary': 'attacker', 'bnf_grammar': 'tests/grammars/simple_hawk_dove.bnf', 'fitness_function': {'name': 'IteratedHawkAndDove', 'opponent': 'None', 'n_iterations': 1}}}, 'output_dir': 'tmp_coev_int_onepop', 'coev': True, 'seed': 1579899956}\n"
     ],
     "output_type": "stream"
    },
    {
     "traceback": [
      "\u001b[0;31m---------------------------------------------------------------------------\u001b[0m",
      "\u001b[0;31mKeyError\u001b[0m                                  Traceback (most recent call last)",
      "\u001b[0;32m<ipython-input-27-902cce20c53d>\u001b[0m in \u001b[0;36m<module>\u001b[0;34m\u001b[0m\n\u001b[1;32m      3\u001b[0m         \u001b[0;34m\"-f\"\u001b[0m\u001b[0;34m,\u001b[0m \u001b[0;34m\"tests/configurations/coevolution_single_pop_intrusive_hawk_dove.yml\"\u001b[0m\u001b[0;34m,\u001b[0m\u001b[0;34m\u001b[0m\u001b[0;34m\u001b[0m\u001b[0m\n\u001b[1;32m      4\u001b[0m         \"--coev\"]\n\u001b[0;32m----> 5\u001b[0;31m \u001b[0m_\u001b[0m \u001b[0;34m=\u001b[0m \u001b[0mmain\u001b[0m\u001b[0;34m.\u001b[0m\u001b[0mmain\u001b[0m\u001b[0;34m(\u001b[0m\u001b[0margs\u001b[0m\u001b[0;34m)\u001b[0m\u001b[0;34m\u001b[0m\u001b[0;34m\u001b[0m\u001b[0m\n\u001b[0m\u001b[1;32m      6\u001b[0m pdg.plot_population_freqs(out_path=\"tmp_coev_int_onepop\", in_path=\"tmp_coev_int_onepop\", \n\u001b[1;32m      7\u001b[0m                           title=\"Opponent: Self\")\n",
      "\u001b[0;32m~/Desktop/alfa_research/donkey_ge/main.py\u001b[0m in \u001b[0;36mmain\u001b[0;34m(args)\u001b[0m\n\u001b[1;32m     67\u001b[0m     \u001b[0;31m# Run heuristic search\u001b[0m\u001b[0;34m\u001b[0m\u001b[0;34m\u001b[0m\u001b[0;34m\u001b[0m\u001b[0m\n\u001b[1;32m     68\u001b[0m     \u001b[0;32mif\u001b[0m \u001b[0margs\u001b[0m\u001b[0;34m[\u001b[0m\u001b[0;34m\"coev\"\u001b[0m\u001b[0;34m]\u001b[0m\u001b[0;34m:\u001b[0m\u001b[0;34m\u001b[0m\u001b[0;34m\u001b[0m\u001b[0m\n\u001b[0;32m---> 69\u001b[0;31m         \u001b[0mdonkey_ge_coev\u001b[0m\u001b[0;34m.\u001b[0m\u001b[0mrun\u001b[0m\u001b[0;34m(\u001b[0m\u001b[0margs\u001b[0m\u001b[0;34m)\u001b[0m\u001b[0;34m\u001b[0m\u001b[0;34m\u001b[0m\u001b[0m\n\u001b[0m\u001b[1;32m     70\u001b[0m     \u001b[0;32melse\u001b[0m\u001b[0;34m:\u001b[0m\u001b[0;34m\u001b[0m\u001b[0;34m\u001b[0m\u001b[0m\n\u001b[1;32m     71\u001b[0m         \u001b[0mdonkey_ge\u001b[0m\u001b[0;34m.\u001b[0m\u001b[0mrun\u001b[0m\u001b[0;34m(\u001b[0m\u001b[0margs\u001b[0m\u001b[0;34m)\u001b[0m\u001b[0;34m\u001b[0m\u001b[0;34m\u001b[0m\u001b[0m\n",
      "\u001b[0;32m~/Desktop/alfa_research/donkey_ge/heuristics/donkey_ge_coev.py\u001b[0m in \u001b[0;36mrun\u001b[0;34m(param)\u001b[0m\n\u001b[1;32m    331\u001b[0m     \u001b[0;31m# Evolutionary search\u001b[0m\u001b[0;34m\u001b[0m\u001b[0;34m\u001b[0m\u001b[0;34m\u001b[0m\u001b[0m\n\u001b[1;32m    332\u001b[0m     \u001b[0;31m###########################\u001b[0m\u001b[0;34m\u001b[0m\u001b[0;34m\u001b[0m\u001b[0;34m\u001b[0m\u001b[0m\n\u001b[0;32m--> 333\u001b[0;31m     \u001b[0mbest_ever\u001b[0m \u001b[0;34m=\u001b[0m \u001b[0msearch_loop_coevolution\u001b[0m\u001b[0;34m(\u001b[0m\u001b[0mpopulations\u001b[0m\u001b[0;34m,\u001b[0m \u001b[0mparam\u001b[0m\u001b[0;34m)\u001b[0m\u001b[0;34m\u001b[0m\u001b[0;34m\u001b[0m\u001b[0m\n\u001b[0m\u001b[1;32m    334\u001b[0m \u001b[0;34m\u001b[0m\u001b[0m\n\u001b[1;32m    335\u001b[0m     \u001b[0;31m# Display results\u001b[0m\u001b[0;34m\u001b[0m\u001b[0;34m\u001b[0m\u001b[0;34m\u001b[0m\u001b[0m\n",
      "\u001b[0;32m~/Desktop/alfa_research/donkey_ge/heuristics/donkey_ge_coev.py\u001b[0m in \u001b[0;36msearch_loop_coevolution\u001b[0;34m(populations, param)\u001b[0m\n\u001b[1;32m    174\u001b[0m \u001b[0;34m\u001b[0m\u001b[0m\n\u001b[1;32m    175\u001b[0m         population.individuals = evaluate_fitness(\n\u001b[0;32m--> 176\u001b[0;31m             \u001b[0mpopulation\u001b[0m\u001b[0;34m.\u001b[0m\u001b[0mindividuals\u001b[0m\u001b[0;34m,\u001b[0m \u001b[0mgrammar\u001b[0m\u001b[0;34m,\u001b[0m \u001b[0mfitness_function\u001b[0m\u001b[0;34m,\u001b[0m \u001b[0madversary\u001b[0m\u001b[0;34m.\u001b[0m\u001b[0mindividuals\u001b[0m\u001b[0;34m,\u001b[0m \u001b[0mparam\u001b[0m\u001b[0;34m\u001b[0m\u001b[0;34m\u001b[0m\u001b[0m\n\u001b[0m\u001b[1;32m    177\u001b[0m         )\n\u001b[1;32m    178\u001b[0m         \u001b[0;31m# Set best solution\u001b[0m\u001b[0;34m\u001b[0m\u001b[0;34m\u001b[0m\u001b[0;34m\u001b[0m\u001b[0m\n",
      "\u001b[0;32m~/Desktop/alfa_research/donkey_ge/heuristics/donkey_ge_coev.py\u001b[0m in \u001b[0;36mevaluate_fitness\u001b[0;34m(individuals, grammar, fitness_function, adversaries, param)\u001b[0m\n\u001b[1;32m    136\u001b[0m         \u001b[0;32mif\u001b[0m \u001b[0mind\u001b[0m\u001b[0;34m.\u001b[0m\u001b[0mphenotype\u001b[0m \u001b[0;34m!=\u001b[0m \u001b[0;34m\"\"\u001b[0m\u001b[0;34m:\u001b[0m\u001b[0;34m\u001b[0m\u001b[0;34m\u001b[0m\u001b[0m\n\u001b[1;32m    137\u001b[0m             \u001b[0;31m# Execute the fitness function\u001b[0m\u001b[0;34m\u001b[0m\u001b[0;34m\u001b[0m\u001b[0;34m\u001b[0m\u001b[0m\n\u001b[0;32m--> 138\u001b[0;31m             \u001b[0mevaluate\u001b[0m\u001b[0;34m(\u001b[0m\u001b[0mind\u001b[0m\u001b[0;34m,\u001b[0m \u001b[0mfitness_function\u001b[0m\u001b[0;34m,\u001b[0m \u001b[0madversaries\u001b[0m\u001b[0;34m,\u001b[0m \u001b[0mcache\u001b[0m\u001b[0;34m)\u001b[0m\u001b[0;34m\u001b[0m\u001b[0;34m\u001b[0m\u001b[0m\n\u001b[0m\u001b[1;32m    139\u001b[0m             \u001b[0;32massert\u001b[0m \u001b[0mind\u001b[0m\u001b[0;34m.\u001b[0m\u001b[0mfitness\u001b[0m \u001b[0;32mis\u001b[0m \u001b[0;32mnot\u001b[0m \u001b[0;32mNone\u001b[0m\u001b[0;34m\u001b[0m\u001b[0;34m\u001b[0m\u001b[0m\n\u001b[1;32m    140\u001b[0m \u001b[0;34m\u001b[0m\u001b[0m\n",
      "\u001b[0;32m~/Desktop/alfa_research/donkey_ge/heuristics/donkey_ge_coev.py\u001b[0m in \u001b[0;36mevaluate\u001b[0;34m(individual, fitness_function, inds, cache)\u001b[0m\n\u001b[1;32m     96\u001b[0m     \"\"\"\n\u001b[1;32m     97\u001b[0m \u001b[0;34m\u001b[0m\u001b[0m\n\u001b[0;32m---> 98\u001b[0;31m     \u001b[0mindividual\u001b[0m\u001b[0;34m.\u001b[0m\u001b[0mfitness\u001b[0m \u001b[0;34m=\u001b[0m \u001b[0mfitness_function\u001b[0m\u001b[0;34m.\u001b[0m\u001b[0mcoev\u001b[0m\u001b[0;34m(\u001b[0m\u001b[0mindividual\u001b[0m\u001b[0;34m.\u001b[0m\u001b[0mphenotype\u001b[0m\u001b[0;34m,\u001b[0m \u001b[0minds\u001b[0m\u001b[0;34m,\u001b[0m \u001b[0mcache\u001b[0m\u001b[0;34m)\u001b[0m\u001b[0;34m\u001b[0m\u001b[0;34m\u001b[0m\u001b[0m\n\u001b[0m\u001b[1;32m     99\u001b[0m \u001b[0;34m\u001b[0m\u001b[0m\n\u001b[1;32m    100\u001b[0m     \u001b[0;32massert\u001b[0m \u001b[0mindividual\u001b[0m\u001b[0;34m.\u001b[0m\u001b[0mfitness\u001b[0m \u001b[0;32mis\u001b[0m \u001b[0;32mnot\u001b[0m \u001b[0;32mNone\u001b[0m\u001b[0;34m\u001b[0m\u001b[0;34m\u001b[0m\u001b[0m\n",
      "\u001b[0;32m~/Desktop/alfa_research/donkey_ge/fitness/fitness.py\u001b[0m in \u001b[0;36mcoev\u001b[0;34m(self, fcn_str, strategies, cache)\u001b[0m\n\u001b[1;32m    127\u001b[0m         \u001b[0mfitnesses\u001b[0m\u001b[0;34m:\u001b[0m \u001b[0mList\u001b[0m\u001b[0;34m[\u001b[0m\u001b[0mfloat\u001b[0m\u001b[0;34m]\u001b[0m \u001b[0;34m=\u001b[0m \u001b[0;34m[\u001b[0m\u001b[0mDEFAULT_FITNESS\u001b[0m\u001b[0;34m]\u001b[0m \u001b[0;34m*\u001b[0m \u001b[0mlen\u001b[0m\u001b[0;34m(\u001b[0m\u001b[0mstrategies\u001b[0m\u001b[0;34m)\u001b[0m\u001b[0;34m\u001b[0m\u001b[0;34m\u001b[0m\u001b[0m\n\u001b[1;32m    128\u001b[0m         \u001b[0;32mfor\u001b[0m \u001b[0mi\u001b[0m\u001b[0;34m,\u001b[0m \u001b[0mstrategy\u001b[0m \u001b[0;32min\u001b[0m \u001b[0menumerate\u001b[0m\u001b[0;34m(\u001b[0m\u001b[0mstrategies\u001b[0m\u001b[0;34m)\u001b[0m\u001b[0;34m:\u001b[0m\u001b[0;34m\u001b[0m\u001b[0;34m\u001b[0m\u001b[0m\n\u001b[0;32m--> 129\u001b[0;31m             \u001b[0mfitnesses\u001b[0m\u001b[0;34m[\u001b[0m\u001b[0mi\u001b[0m\u001b[0;34m]\u001b[0m \u001b[0;34m=\u001b[0m \u001b[0mself\u001b[0m\u001b[0;34m.\u001b[0m\u001b[0m__call__\u001b[0m\u001b[0;34m(\u001b[0m\u001b[0mfcn_str\u001b[0m\u001b[0;34m,\u001b[0m \u001b[0mstrategy\u001b[0m\u001b[0;34m.\u001b[0m\u001b[0mphenotype\u001b[0m\u001b[0;34m,\u001b[0m \u001b[0mcache\u001b[0m\u001b[0;34m)\u001b[0m\u001b[0;34m\u001b[0m\u001b[0;34m\u001b[0m\u001b[0m\n\u001b[0m\u001b[1;32m    130\u001b[0m \u001b[0;34m\u001b[0m\u001b[0m\n\u001b[1;32m    131\u001b[0m         \u001b[0;31m# Mean Expected Utility\u001b[0m\u001b[0;34m\u001b[0m\u001b[0;34m\u001b[0m\u001b[0;34m\u001b[0m\u001b[0m\n",
      "\u001b[0;32m~/Desktop/alfa_research/donkey_ge/fitness/fitness.py\u001b[0m in \u001b[0;36m__call__\u001b[0;34m(self, fcn_str, strat_str, cache)\u001b[0m\n\u001b[1;32m    109\u001b[0m             \u001b[0mself\u001b[0m\u001b[0;34m.\u001b[0m\u001b[0mplayer\u001b[0m \u001b[0;34m=\u001b[0m \u001b[0meval\u001b[0m\u001b[0;34m(\u001b[0m\u001b[0mfcn_str\u001b[0m\u001b[0;34m)\u001b[0m  \u001b[0;31m# pylint: disable=eval-used\u001b[0m\u001b[0;34m\u001b[0m\u001b[0;34m\u001b[0m\u001b[0m\n\u001b[1;32m    110\u001b[0m             \u001b[0mself\u001b[0m\u001b[0;34m.\u001b[0m\u001b[0mopponent\u001b[0m \u001b[0;34m=\u001b[0m \u001b[0meval\u001b[0m\u001b[0;34m(\u001b[0m\u001b[0mstrat_str\u001b[0m\u001b[0;34m)\u001b[0m  \u001b[0;31m# pylint: disable=eval-used\u001b[0m\u001b[0;34m\u001b[0m\u001b[0;34m\u001b[0m\u001b[0m\n\u001b[0;32m--> 111\u001b[0;31m             \u001b[0mpayoff\u001b[0m\u001b[0;34m,\u001b[0m \u001b[0m_\u001b[0m \u001b[0;34m=\u001b[0m \u001b[0mself\u001b[0m\u001b[0;34m.\u001b[0m\u001b[0mhawk_and_dove\u001b[0m\u001b[0;34m.\u001b[0m\u001b[0mrun\u001b[0m\u001b[0;34m(\u001b[0m\u001b[0mself\u001b[0m\u001b[0;34m.\u001b[0m\u001b[0mplayer\u001b[0m\u001b[0;34m,\u001b[0m \u001b[0mself\u001b[0m\u001b[0;34m.\u001b[0m\u001b[0mopponent\u001b[0m\u001b[0;34m)\u001b[0m\u001b[0;34m\u001b[0m\u001b[0;34m\u001b[0m\u001b[0m\n\u001b[0m\u001b[1;32m    112\u001b[0m             \u001b[0mfitness\u001b[0m \u001b[0;34m=\u001b[0m \u001b[0mIteratedHawkAndDove\u001b[0m\u001b[0;34m.\u001b[0m\u001b[0mget_fitness\u001b[0m\u001b[0;34m(\u001b[0m\u001b[0mpayoff\u001b[0m\u001b[0;34m)\u001b[0m\u001b[0;34m\u001b[0m\u001b[0;34m\u001b[0m\u001b[0m\n\u001b[1;32m    113\u001b[0m             \u001b[0mcache\u001b[0m\u001b[0;34m[\u001b[0m\u001b[0mkey\u001b[0m\u001b[0;34m]\u001b[0m \u001b[0;34m=\u001b[0m \u001b[0mfitness\u001b[0m\u001b[0;34m\u001b[0m\u001b[0;34m\u001b[0m\u001b[0m\n",
      "\u001b[0;32m~/Desktop/alfa_research/donkey_ge/fitness/game_theory_game.py\u001b[0m in \u001b[0;36mrun\u001b[0;34m(self, player_1, player_2)\u001b[0m\n\u001b[1;32m     77\u001b[0m                 \u001b[0mstate\u001b[0m\u001b[0;34m[\u001b[0m\u001b[0;34m\"player_2\"\u001b[0m\u001b[0;34m]\u001b[0m\u001b[0;34m[\u001b[0m\u001b[0;34m\"strategy_history\"\u001b[0m\u001b[0;34m]\u001b[0m\u001b[0;34m.\u001b[0m\u001b[0mappend\u001b[0m\u001b[0;34m(\u001b[0m\u001b[0mmove_2\u001b[0m\u001b[0;34m)\u001b[0m\u001b[0;34m\u001b[0m\u001b[0;34m\u001b[0m\u001b[0m\n\u001b[1;32m     78\u001b[0m             \u001b[0mmoves\u001b[0m \u001b[0;34m=\u001b[0m \u001b[0;34m(\u001b[0m\u001b[0mmove_1\u001b[0m\u001b[0;34m,\u001b[0m \u001b[0mmove_2\u001b[0m\u001b[0;34m)\u001b[0m\u001b[0;34m\u001b[0m\u001b[0;34m\u001b[0m\u001b[0m\n\u001b[0;32m---> 79\u001b[0;31m             \u001b[0mpayoffs\u001b[0m\u001b[0;34m.\u001b[0m\u001b[0mappend\u001b[0m\u001b[0;34m(\u001b[0m\u001b[0m_payoff\u001b[0m\u001b[0;34m[\u001b[0m\u001b[0mmoves\u001b[0m\u001b[0;34m]\u001b[0m\u001b[0;34m)\u001b[0m\u001b[0;34m\u001b[0m\u001b[0;34m\u001b[0m\u001b[0m\n\u001b[0m\u001b[1;32m     80\u001b[0m \u001b[0;34m\u001b[0m\u001b[0m\n\u001b[1;32m     81\u001b[0m         \u001b[0;32mif\u001b[0m \u001b[0mself\u001b[0m\u001b[0;34m.\u001b[0m\u001b[0mstore_stats\u001b[0m\u001b[0;34m:\u001b[0m\u001b[0;34m\u001b[0m\u001b[0;34m\u001b[0m\u001b[0m\n",
      "\u001b[0;31mKeyError\u001b[0m: ('D', 'X')"
     ],
     "ename": "KeyError",
     "evalue": "('D', 'X')",
     "output_type": "error"
    }
   ],
   "source": [
    "# hawk-dove (2-player)\n",
    "args = [\"-o\", \"tmp_coev_int_onepop\", \n",
    "        \"-f\", \"tests/configurations/coevolution_single_pop_intrusive_hawk_dove.yml\",\n",
    "        \"--coev\"]\n",
    "_ = main.main(args)\n",
    "pdg.plot_population_freqs(out_path=\"tmp_coev_int_onepop\", in_path=\"tmp_coev_int_onepop\", \n",
    "                          title=\"Opponent: Self\")\n",
    "\n"
   ],
   "metadata": {
    "collapsed": false,
    "pycharm": {
     "name": "#%%\n",
     "is_executing": false
    }
   }
  },
  {
   "cell_type": "code",
   "execution_count": 4,
   "metadata": {
    "pycharm": {
     "is_executing": false
    }
   },
   "outputs": [
    {
     "name": "stdout",
     "text": [
      "Namespace(coev=False, configuration_file='tests/configurations/intrusive_hawk_dove.yml', output_dir='tmp')\n",
      "Setting random seed: 1579881156 0.13783\n",
      "donkey_ge settings: {'population_size': 50, 'max_length': 15, 'elite_size': 20, 'generations': 15, 'tournament_size': 2, 'crossover_probability': 0.8, 'mutation_probability': 0.1, 'codon_size': 127, 'integer_input_element_max': 1000, 'bnf_grammar': 'tests/grammars/simple_hawk_dove.bnf', 'fitness_function': {'name': 'IntrusiveHawkAndDove', 'opponent': \"lambda h, i: 'B'\", 'n_iterations': 1}, 'output_dir': 'tmp', 'coev': False, 'seed': 1579881156}\n",
      "Gen:0 t:0.002 fit_ave:0.43+-0.300 size_ave:1.00+-0.000 length_ave:15.00+-0.000 Ind: lambda h, i: \"B\"; 1.0\n",
      "Gen:1 t:0.003 fit_ave:0.74+-0.250 size_ave:1.00+-0.000 length_ave:15.00+-0.000 Ind: lambda h, i: \"B\"; 1.0\n",
      "Gen:2 t:0.002 fit_ave:0.99+-0.070 size_ave:1.00+-0.000 length_ave:15.00+-0.000 Ind: lambda h, i: \"B\"; 1.0\n",
      "Gen:3 t:0.002 fit_ave:1.00+-0.000 size_ave:1.00+-0.000 length_ave:15.00+-0.000 Ind: lambda h, i: \"B\"; 1.0\n",
      "Gen:4 t:0.003 fit_ave:1.00+-0.000 size_ave:1.00+-0.000 length_ave:15.00+-0.000 Ind: lambda h, i: \"B\"; 1.0\n",
      "Gen:5 t:0.002 fit_ave:1.00+-0.000 size_ave:1.00+-0.000 length_ave:15.00+-0.000 Ind: lambda h, i: \"B\"; 1.0\n",
      "Gen:6 t:0.003 fit_ave:1.00+-0.000 size_ave:1.00+-0.000 length_ave:15.00+-0.000 Ind: lambda h, i: \"B\"; 1.0\n",
      "Gen:7 t:0.002 fit_ave:1.00+-0.000 size_ave:1.00+-0.000 length_ave:15.00+-0.000 Ind: lambda h, i: \"B\"; 1.0\n",
      "Gen:8 t:0.003 fit_ave:1.00+-0.000 size_ave:1.00+-0.000 length_ave:15.00+-0.000 Ind: lambda h, i: \"B\"; 1.0\n",
      "Gen:9 t:0.004 fit_ave:1.00+-0.000 size_ave:1.00+-0.000 length_ave:15.00+-0.000 Ind: lambda h, i: \"B\"; 1.0\n",
      "Gen:10 t:0.002 fit_ave:1.00+-0.000 size_ave:1.00+-0.000 length_ave:15.00+-0.000 Ind: lambda h, i: \"B\"; 1.0\n",
      "Gen:11 t:0.002 fit_ave:1.00+-0.000 size_ave:1.00+-0.000 length_ave:15.00+-0.000 Ind: lambda h, i: \"B\"; 1.0\n",
      "Gen:12 t:0.002 fit_ave:1.00+-0.000 size_ave:1.00+-0.000 length_ave:15.00+-0.000 Ind: lambda h, i: \"B\"; 1.0\n",
      "Gen:13 t:0.002 fit_ave:1.00+-0.000 size_ave:1.00+-0.000 length_ave:15.00+-0.000 Ind: lambda h, i: \"B\"; 1.0\n",
      "Gen:14 t:0.002 fit_ave:1.00+-0.000 size_ave:1.00+-0.000 length_ave:15.00+-0.000 Ind: lambda h, i: \"B\"; 1.0\n",
      "Cache:OrderedDict([('lambda h, i: \"D\"-lambda h, i: \\'B\\'', 0.5), ('lambda h, i: \"X\"-lambda h, i: \\'B\\'', 0.0), ('lambda h, i: \"H\"-lambda h, i: \\'B\\'', 0.5), ('lambda h, i: \"B\"-lambda h, i: \\'B\\'', 1.0)]) Cache entries:4 Total Fitness Evaluations:37500 Fitness Values:3\n",
      "Time: 0.061 Best solution:Ind: lambda h, i: \"B\"; 1.0\n"
     ],
     "output_type": "stream"
    }
   ],
   "source": [
    "# Set to use the configuration file and output directory\n",
    "args = [\"-o\", \"tmp\", \"-f\", \"tests/configurations/intrusive_hawk_dove.yml\"]\n",
    "_ = main.main(args)"
   ]
  },
  {
   "cell_type": "code",
   "execution_count": 4,
   "metadata": {
    "pycharm": {
     "is_executing": false,
     "name": "#%%\n"
    }
   },
   "outputs": [
    {
     "data": {
      "text/plain": "<Figure size 432x288 with 0 Axes>"
     },
     "metadata": {},
     "output_type": "display_data"
    }
   ],
   "source": [
    "pdg.plot_population_freqs(out_path=\"tmp\", in_path=\"tmp\", title=\"Intrusive opponent: B\")\n"
   ]
  },
  {
   "cell_type": "code",
   "execution_count": 26,
   "outputs": [
    {
     "name": "stdout",
     "text": [
      "Namespace(coev=True, configuration_file='tests/configurations/coevolution_intrusive_hawk_dove.yml', output_dir='tmp_coev_intrusive')\n",
      "Setting random seed: 1579899869 0.13492\n",
      "donkey_ge settings: {'population_size': 100, 'max_length': 100, 'generations': 50, 'tournament_size': 2, 'crossover_probability': 0.8, 'mutation_probability': 0.1, 'codon_size': 127, 'integer_input_element_max': 1000, 'elite_size': 95, 'populations': {'attacker': {'adversary': 'defender', 'bnf_grammar': 'tests/grammars/simple_hawk_dove.bnf', 'fitness_function': {'name': 'IntrusiveHawkAndDove', 'opponent': 'None', 'n_iterations': 1}}, 'defender': {'adversary': 'attacker', 'bnf_grammar': 'tests/grammars/simple_hawk_dove.bnf', 'fitness_function': {'name': 'IntrusiveHawkAndDove', 'opponent': 'None', 'n_iterations': 1}}}, 'output_dir': 'tmp_coev_intrusive', 'coev': True, 'seed': 1579899869}\n",
      "attacker 16\n",
      "Gen:0 t:0.014 fit_ave:-0.27+-0.515 size_ave:1.00+-0.000 length_ave:100.00+-0.000 Ind: lambda h, i: \"D\"; 0.51\n",
      "defender 16\n",
      "Gen:0 t:0.009 fit_ave:-0.36+-0.530 size_ave:1.00+-0.000 length_ave:100.00+-0.000 Ind: lambda h, i: \"D\"; 0.465\n",
      "attacker 16\n",
      "Gen:1 t:0.012 fit_ave:-0.22+-0.497 size_ave:1.00+-0.000 length_ave:100.00+-0.000 Ind: lambda h, i: \"D\"; 0.51\n",
      "defender 16\n",
      "Gen:1 t:0.012 fit_ave:-0.21+-0.456 size_ave:1.00+-0.000 length_ave:100.00+-0.000 Ind: lambda h, i: \"D\"; 0.495\n",
      "attacker 16\n",
      "Gen:2 t:0.011 fit_ave:-0.07+-0.434 size_ave:1.00+-0.000 length_ave:100.00+-0.000 Ind: lambda h, i: \"D\"; 0.54\n",
      "defender 16\n",
      "Gen:2 t:0.012 fit_ave:-0.04+-0.367 size_ave:1.00+-0.000 length_ave:100.00+-0.000 Ind: lambda h, i: \"D\"; 0.535\n",
      "attacker 16\n",
      "Gen:3 t:0.011 fit_ave:0.07+-0.361 size_ave:1.00+-0.000 length_ave:100.00+-0.000 Ind: lambda h, i: \"D\"; 0.57\n",
      "defender 16\n",
      "Gen:3 t:0.011 fit_ave:0.11+-0.297 size_ave:1.00+-0.000 length_ave:100.00+-0.000 Ind: lambda h, i: \"D\"; 0.565\n",
      "attacker 16\n",
      "Gen:4 t:0.012 fit_ave:0.23+-0.280 size_ave:1.00+-0.000 length_ave:100.00+-0.000 Ind: lambda h, i: \"D\"; 0.61\n",
      "defender 16\n",
      "Gen:4 t:0.011 fit_ave:0.25+-0.219 size_ave:1.00+-0.000 length_ave:100.00+-0.000 Ind: lambda h, i: \"D\"; 0.605\n",
      "attacker 16\n",
      "Gen:5 t:0.011 fit_ave:0.35+-0.212 size_ave:1.00+-0.000 length_ave:100.00+-0.000 Ind: lambda h, i: \"D\"; 0.64\n",
      "defender 16\n",
      "Gen:5 t:0.011 fit_ave:0.36+-0.185 size_ave:1.00+-0.000 length_ave:100.00+-0.000 Ind: lambda h, i: \"D\"; 0.64\n",
      "attacker 16\n",
      "Gen:6 t:0.012 fit_ave:0.42+-0.181 size_ave:1.00+-0.000 length_ave:100.00+-0.000 Ind: lambda h, i: \"D\"; 0.655\n",
      "defender 16\n",
      "Gen:6 t:0.011 fit_ave:0.47+-0.149 size_ave:1.00+-0.000 length_ave:100.00+-0.000 Ind: lambda h, i: \"D\"; 0.675\n",
      "attacker 16\n",
      "Gen:7 t:0.011 fit_ave:0.47+-0.172 size_ave:1.00+-0.000 length_ave:100.00+-0.000 Ind: lambda h, i: \"D\"; 0.67\n",
      "defender 16\n",
      "Gen:7 t:0.013 fit_ave:0.52+-0.144 size_ave:1.00+-0.000 length_ave:100.00+-0.000 Ind: lambda h, i: \"D\"; 0.69\n",
      "attacker 16\n",
      "Gen:8 t:0.013 fit_ave:0.51+-0.145 size_ave:1.00+-0.000 length_ave:100.00+-0.000 Ind: lambda h, i: \"D\"; 0.685\n",
      "defender 16\n",
      "Gen:8 t:0.020 fit_ave:0.55+-0.173 size_ave:1.00+-0.000 length_ave:100.00+-0.000 Ind: lambda h, i: \"D\"; 0.695\n",
      "attacker 16\n",
      "Gen:9 t:0.022 fit_ave:0.56+-0.131 size_ave:1.00+-0.000 length_ave:100.00+-0.000 Ind: lambda h, i: \"D\"; 0.695\n",
      "defender 16\n",
      "Gen:9 t:0.023 fit_ave:0.63+-0.192 size_ave:1.00+-0.000 length_ave:100.00+-0.000 Ind: lambda h, i: \"B\"; 0.74\n",
      "attacker 16\n",
      "Gen:10 t:0.028 fit_ave:0.63+-0.137 size_ave:1.00+-0.000 length_ave:100.00+-0.000 Ind: lambda h, i: \"D\"; 0.71\n",
      "defender 16\n",
      "Gen:10 t:0.024 fit_ave:0.70+-0.208 size_ave:1.00+-0.000 length_ave:100.00+-0.000 Ind: lambda h, i: \"B\"; 0.855\n",
      "attacker 16\n",
      "Gen:11 t:0.021 fit_ave:0.71+-0.149 size_ave:1.00+-0.000 length_ave:100.00+-0.000 Ind: lambda h, i: \"B\"; 0.8\n",
      "defender 16\n",
      "Gen:11 t:0.021 fit_ave:0.80+-0.234 size_ave:1.00+-0.000 length_ave:100.00+-0.000 Ind: lambda h, i: \"B\"; 1.0\n",
      "attacker 16\n",
      "Gen:12 t:0.020 fit_ave:0.78+-0.175 size_ave:1.00+-0.000 length_ave:100.00+-0.000 Ind: lambda h, i: \"B\"; 0.925\n",
      "defender 16\n",
      "Gen:12 t:0.021 fit_ave:0.88+-0.269 size_ave:1.00+-0.000 length_ave:100.00+-0.000 Ind: lambda h, i: \"B\"; 1.13\n",
      "attacker 16\n",
      "Gen:13 t:0.024 fit_ave:0.89+-0.162 size_ave:1.00+-0.000 length_ave:100.00+-0.000 Ind: lambda h, i: \"B\"; 1.065\n",
      "defender 16\n",
      "Gen:13 t:0.019 fit_ave:1.00+-0.279 size_ave:1.00+-0.000 length_ave:100.00+-0.000 Ind: lambda h, i: \"B\"; 1.27\n",
      "attacker 16\n",
      "Gen:14 t:0.018 fit_ave:0.94+-0.231 size_ave:1.00+-0.000 length_ave:100.00+-0.000 Ind: lambda h, i: \"B\"; 1.165\n",
      "defender 16\n",
      "Gen:14 t:0.019 fit_ave:1.00+-0.237 size_ave:1.00+-0.000 length_ave:100.00+-0.000 Ind: lambda h, i: \"B\"; 1.23\n",
      "attacker 16\n",
      "Gen:15 t:0.014 fit_ave:1.01+-0.250 size_ave:1.00+-0.000 length_ave:100.00+-0.000 Ind: lambda h, i: \"B\"; 1.245\n",
      "defender 16\n",
      "Gen:15 t:0.013 fit_ave:1.02+-0.248 size_ave:1.00+-0.000 length_ave:100.00+-0.000 Ind: lambda h, i: \"B\"; 1.24\n",
      "attacker 16\n",
      "Gen:16 t:0.012 fit_ave:1.00+-0.248 size_ave:1.00+-0.000 length_ave:100.00+-0.000 Ind: lambda h, i: \"B\"; 1.22\n",
      "defender 16\n",
      "Gen:16 t:0.012 fit_ave:1.02+-0.244 size_ave:1.00+-0.000 length_ave:100.00+-0.000 Ind: lambda h, i: \"B\"; 1.22\n",
      "attacker 16\n",
      "Gen:17 t:0.012 fit_ave:0.99+-0.245 size_ave:1.00+-0.000 length_ave:100.00+-0.000 Ind: lambda h, i: \"B\"; 1.195\n",
      "defender 16\n",
      "Gen:17 t:0.012 fit_ave:1.03+-0.237 size_ave:1.00+-0.000 length_ave:100.00+-0.000 Ind: lambda h, i: \"B\"; 1.2\n",
      "attacker 16\n",
      "Gen:18 t:0.013 fit_ave:1.00+-0.238 size_ave:1.00+-0.000 length_ave:100.00+-0.000 Ind: lambda h, i: \"B\"; 1.17\n",
      "defender 16\n",
      "Gen:18 t:0.012 fit_ave:1.02+-0.246 size_ave:1.00+-0.000 length_ave:100.00+-0.000 Ind: lambda h, i: \"B\"; 1.175\n",
      "attacker 16\n",
      "Gen:19 t:0.012 fit_ave:0.97+-0.220 size_ave:1.00+-0.000 length_ave:100.00+-0.000 Ind: lambda h, i: \"B\"; 1.115\n",
      "defender 16\n",
      "Gen:19 t:0.012 fit_ave:1.02+-0.224 size_ave:1.00+-0.000 length_ave:100.00+-0.000 Ind: lambda h, i: \"B\"; 1.155\n",
      "attacker 16\n",
      "Gen:20 t:0.013 fit_ave:1.01+-0.219 size_ave:1.00+-0.000 length_ave:100.00+-0.000 Ind: lambda h, i: \"B\"; 1.14\n",
      "defender 16\n",
      "Gen:20 t:0.013 fit_ave:1.01+-0.210 size_ave:1.00+-0.000 length_ave:100.00+-0.000 Ind: lambda h, i: \"B\"; 1.13\n",
      "attacker 16\n",
      "Gen:21 t:0.013 fit_ave:1.01+-0.204 size_ave:1.00+-0.000 length_ave:100.00+-0.000 Ind: lambda h, i: \"B\"; 1.115\n",
      "defender 16\n",
      "Gen:21 t:0.013 fit_ave:1.02+-0.192 size_ave:1.00+-0.000 length_ave:100.00+-0.000 Ind: lambda h, i: \"B\"; 1.105\n",
      "attacker 16\n",
      "Gen:22 t:0.013 fit_ave:1.01+-0.183 size_ave:1.00+-0.000 length_ave:100.00+-0.000 Ind: lambda h, i: \"B\"; 1.09\n",
      "defender 16\n",
      "Gen:22 t:0.013 fit_ave:1.01+-0.168 size_ave:1.00+-0.000 length_ave:100.00+-0.000 Ind: lambda h, i: \"B\"; 1.08\n",
      "attacker 16\n",
      "Gen:23 t:0.022 fit_ave:1.01+-0.156 size_ave:1.00+-0.000 length_ave:100.00+-0.000 Ind: lambda h, i: \"B\"; 1.065\n",
      "defender 16\n",
      "Gen:23 t:0.036 fit_ave:1.00+-0.216 size_ave:1.00+-0.000 length_ave:100.00+-0.000 Ind: lambda h, i: \"B\"; 1.055\n",
      "attacker 16\n",
      "Gen:24 t:0.015 fit_ave:0.98+-0.113 size_ave:1.00+-0.000 length_ave:100.00+-0.000 Ind: lambda h, i: \"B\"; 1.01\n",
      "defender 16\n",
      "Gen:24 t:0.014 fit_ave:1.01+-0.098 size_ave:1.00+-0.000 length_ave:100.00+-0.000 Ind: lambda h, i: \"B\"; 1.03\n",
      "attacker 16\n",
      "Gen:25 t:0.013 fit_ave:1.01+-0.050 size_ave:1.00+-0.000 length_ave:100.00+-0.000 Ind: lambda h, i: \"B\"; 1.02\n",
      "defender 16\n",
      "Gen:25 t:0.012 fit_ave:1.00+-0.000 size_ave:1.00+-0.000 length_ave:100.00+-0.000 Ind: lambda h, i: \"B\"; 1.005\n",
      "attacker 16\n",
      "Gen:26 t:0.013 fit_ave:1.00+-0.000 size_ave:1.00+-0.000 length_ave:100.00+-0.000 Ind: lambda h, i: \"B\"; 1.0\n",
      "defender 16\n",
      "Gen:26 t:0.012 fit_ave:1.00+-0.000 size_ave:1.00+-0.000 length_ave:100.00+-0.000 Ind: lambda h, i: \"B\"; 1.0\n",
      "attacker 16\n",
      "Gen:27 t:0.014 fit_ave:1.00+-0.000 size_ave:1.00+-0.000 length_ave:100.00+-0.000 Ind: lambda h, i: \"B\"; 1.0\n",
      "defender 16\n",
      "Gen:27 t:0.014 fit_ave:1.00+-0.000 size_ave:1.00+-0.000 length_ave:100.00+-0.000 Ind: lambda h, i: \"B\"; 1.0\n",
      "attacker 16\n",
      "Gen:28 t:0.013 fit_ave:1.00+-0.000 size_ave:1.00+-0.000 length_ave:100.00+-0.000 Ind: lambda h, i: \"B\"; 1.0\n",
      "defender 16\n",
      "Gen:28 t:0.013 fit_ave:0.97+-0.249 size_ave:1.00+-0.000 length_ave:100.00+-0.000 Ind: lambda h, i: \"B\"; 1.0\n",
      "attacker 16\n",
      "Gen:29 t:0.013 fit_ave:0.97+-0.000 size_ave:1.00+-0.000 length_ave:100.00+-0.000 Ind: lambda h, i: \"B\"; 0.975\n",
      "defender 16\n",
      "Gen:29 t:0.013 fit_ave:1.00+-0.000 size_ave:1.00+-0.000 length_ave:100.00+-0.000 Ind: lambda h, i: \"B\"; 1.0\n",
      "attacker 16\n",
      "Gen:30 t:0.012 fit_ave:1.00+-0.000 size_ave:1.00+-0.000 length_ave:100.00+-0.000 Ind: lambda h, i: \"B\"; 1.0\n",
      "defender 16\n",
      "Gen:30 t:0.012 fit_ave:1.00+-0.000 size_ave:1.00+-0.000 length_ave:100.00+-0.000 Ind: lambda h, i: \"B\"; 1.0\n",
      "attacker 16\n",
      "Gen:31 t:0.013 fit_ave:1.00+-0.000 size_ave:1.00+-0.000 length_ave:100.00+-0.000 Ind: lambda h, i: \"B\"; 1.0\n",
      "defender 16\n",
      "Gen:31 t:0.012 fit_ave:1.00+-0.000 size_ave:1.00+-0.000 length_ave:100.00+-0.000 Ind: lambda h, i: \"B\"; 1.0\n",
      "attacker 16\n",
      "Gen:32 t:0.012 fit_ave:1.00+-0.000 size_ave:1.00+-0.000 length_ave:100.00+-0.000 Ind: lambda h, i: \"B\"; 1.0\n",
      "defender 16\n",
      "Gen:32 t:0.012 fit_ave:1.00+-0.000 size_ave:1.00+-0.000 length_ave:100.00+-0.000 Ind: lambda h, i: \"B\"; 1.0\n",
      "attacker 16\n",
      "Gen:33 t:0.011 fit_ave:1.00+-0.000 size_ave:1.00+-0.000 length_ave:100.00+-0.000 Ind: lambda h, i: \"B\"; 1.0\n",
      "defender 16\n",
      "Gen:33 t:0.012 fit_ave:0.97+-0.249 size_ave:1.00+-0.000 length_ave:100.00+-0.000 Ind: lambda h, i: \"B\"; 1.0\n",
      "attacker 16\n",
      "Gen:34 t:0.012 fit_ave:0.96+-0.197 size_ave:1.00+-0.000 length_ave:100.00+-0.000 Ind: lambda h, i: \"B\"; 0.975\n",
      "defender 16\n",
      "Gen:34 t:0.011 fit_ave:0.97+-0.000 size_ave:1.00+-0.000 length_ave:100.00+-0.000 Ind: lambda h, i: \"B\"; 0.97\n",
      "attacker 16\n",
      "Gen:35 t:0.011 fit_ave:0.98+-0.199 size_ave:1.00+-0.000 length_ave:100.00+-0.000 Ind: lambda h, i: \"B\"; 1.0\n",
      "defender 16\n",
      "Gen:35 t:0.011 fit_ave:0.95+-0.246 size_ave:1.00+-0.000 length_ave:100.00+-0.000 Ind: lambda h, i: \"B\"; 0.97\n",
      "attacker 16\n",
      "Gen:36 t:0.012 fit_ave:0.97+-0.047 size_ave:1.00+-0.000 length_ave:100.00+-0.000 Ind: lambda h, i: \"B\"; 0.975\n",
      "defender 16\n",
      "Gen:36 t:0.015 fit_ave:1.00+-0.000 size_ave:1.00+-0.000 length_ave:100.00+-0.000 Ind: lambda h, i: \"B\"; 1.005\n",
      "attacker 16\n",
      "Gen:37 t:0.012 fit_ave:1.00+-0.000 size_ave:1.00+-0.000 length_ave:100.00+-0.000 Ind: lambda h, i: \"B\"; 1.0\n",
      "defender 16\n",
      "Gen:37 t:0.013 fit_ave:1.00+-0.000 size_ave:1.00+-0.000 length_ave:100.00+-0.000 Ind: lambda h, i: \"B\"; 1.0\n",
      "attacker 16\n",
      "Gen:38 t:0.012 fit_ave:0.97+-0.249 size_ave:1.00+-0.000 length_ave:100.00+-0.000 Ind: lambda h, i: \"B\"; 1.0\n",
      "defender 16\n",
      "Gen:38 t:0.012 fit_ave:0.97+-0.000 size_ave:1.00+-0.000 length_ave:100.00+-0.000 Ind: lambda h, i: \"B\"; 0.975\n",
      "attacker 16\n",
      "Gen:39 t:0.014 fit_ave:1.00+-0.000 size_ave:1.00+-0.000 length_ave:100.00+-0.000 Ind: lambda h, i: \"B\"; 1.0\n",
      "defender 16\n",
      "Gen:39 t:0.022 fit_ave:1.00+-0.000 size_ave:1.00+-0.000 length_ave:100.00+-0.000 Ind: lambda h, i: \"B\"; 1.0\n",
      "attacker 16\n",
      "Gen:40 t:0.021 fit_ave:1.00+-0.000 size_ave:1.00+-0.000 length_ave:100.00+-0.000 Ind: lambda h, i: \"B\"; 1.0\n",
      "defender 16\n",
      "Gen:40 t:0.014 fit_ave:0.98+-0.199 size_ave:1.00+-0.000 length_ave:100.00+-0.000 Ind: lambda h, i: \"B\"; 1.0\n",
      "attacker 16\n",
      "Gen:41 t:0.014 fit_ave:0.97+-0.000 size_ave:1.00+-0.000 length_ave:100.00+-0.000 Ind: lambda h, i: \"B\"; 0.97\n",
      "defender 16\n",
      "Gen:41 t:0.013 fit_ave:0.97+-0.253 size_ave:1.00+-0.000 length_ave:100.00+-0.000 Ind: lambda h, i: \"B\"; 1.0\n",
      "attacker 16\n",
      "Gen:42 t:0.012 fit_ave:0.98+-0.000 size_ave:1.00+-0.000 length_ave:100.00+-0.000 Ind: lambda h, i: \"B\"; 0.98\n",
      "defender 16\n",
      "Gen:42 t:0.012 fit_ave:1.00+-0.000 size_ave:1.00+-0.000 length_ave:100.00+-0.000 Ind: lambda h, i: \"B\"; 1.0\n",
      "attacker 16\n",
      "Gen:43 t:0.011 fit_ave:0.96+-0.280 size_ave:1.00+-0.000 length_ave:100.00+-0.000 Ind: lambda h, i: \"B\"; 1.0\n",
      "defender 16\n",
      "Gen:43 t:0.012 fit_ave:0.94+-0.000 size_ave:1.00+-0.000 length_ave:100.00+-0.000 Ind: lambda h, i: \"B\"; 0.94\n",
      "attacker 16\n",
      "Gen:44 t:0.013 fit_ave:1.00+-0.000 size_ave:1.00+-0.000 length_ave:100.00+-0.000 Ind: lambda h, i: \"B\"; 1.0\n",
      "defender 16\n",
      "Gen:44 t:0.015 fit_ave:1.00+-0.000 size_ave:1.00+-0.000 length_ave:100.00+-0.000 Ind: lambda h, i: \"B\"; 1.0\n",
      "attacker 16\n",
      "Gen:45 t:0.015 fit_ave:1.00+-0.000 size_ave:1.00+-0.000 length_ave:100.00+-0.000 Ind: lambda h, i: \"B\"; 1.0\n",
      "defender 16\n",
      "Gen:45 t:0.013 fit_ave:0.97+-0.249 size_ave:1.00+-0.000 length_ave:100.00+-0.000 Ind: lambda h, i: \"B\"; 1.0\n",
      "attacker 16\n",
      "Gen:46 t:0.013 fit_ave:0.97+-0.000 size_ave:1.00+-0.000 length_ave:100.00+-0.000 Ind: lambda h, i: \"B\"; 0.975\n",
      "defender 16\n",
      "Gen:46 t:0.012 fit_ave:1.00+-0.000 size_ave:1.00+-0.000 length_ave:100.00+-0.000 Ind: lambda h, i: \"B\"; 1.0\n",
      "attacker 16\n",
      "Gen:47 t:0.012 fit_ave:1.00+-0.000 size_ave:1.00+-0.000 length_ave:100.00+-0.000 Ind: lambda h, i: \"B\"; 1.0\n",
      "defender 16\n",
      "Gen:47 t:0.012 fit_ave:0.98+-0.199 size_ave:1.00+-0.000 length_ave:100.00+-0.000 Ind: lambda h, i: \"B\"; 1.0\n",
      "attacker 16\n",
      "Gen:48 t:0.012 fit_ave:0.97+-0.000 size_ave:1.00+-0.000 length_ave:100.00+-0.000 Ind: lambda h, i: \"B\"; 0.97\n",
      "defender 16\n",
      "Gen:48 t:0.012 fit_ave:0.97+-0.253 size_ave:1.00+-0.000 length_ave:100.00+-0.000 Ind: lambda h, i: \"B\"; 1.0\n",
      "attacker 16\n",
      "Gen:49 t:0.012 fit_ave:0.98+-0.000 size_ave:1.00+-0.000 length_ave:100.00+-0.000 Ind: lambda h, i: \"B\"; 0.98\n",
      "defender 16\n",
      "Gen:49 t:0.012 fit_ave:1.00+-0.000 size_ave:1.00+-0.000 length_ave:100.00+-0.000 Ind: lambda h, i: \"B\"; 1.0\n",
      "Cache:OrderedDict([('lambda h, i: \"D\"-lambda h, i: \"H\"', 0.0), ('lambda h, i: \"D\"-lambda h, i: \"B\"', 0.5), ('lambda h, i: \"D\"-lambda h, i: \"X\"', 0.5), ('lambda h, i: \"D\"-lambda h, i: \"D\"', 1.0), ('lambda h, i: \"H\"-lambda h, i: \"H\"', -4.0), ('lambda h, i: \"H\"-lambda h, i: \"B\"', -1.0), ('lambda h, i: \"H\"-lambda h, i: \"X\"', -1.0), ('lambda h, i: \"H\"-lambda h, i: \"D\"', 2.0), ('lambda h, i: \"X\"-lambda h, i: \"H\"', -2.0), ('lambda h, i: \"X\"-lambda h, i: \"B\"', -1.5), ('lambda h, i: \"X\"-lambda h, i: \"X\"', 1.0), ('lambda h, i: \"X\"-lambda h, i: \"D\"', 1.5), ('lambda h, i: \"B\"-lambda h, i: \"H\"', -2.0), ('lambda h, i: \"B\"-lambda h, i: \"B\"', 1.0), ('lambda h, i: \"B\"-lambda h, i: \"X\"', -1.5), ('lambda h, i: \"B\"-lambda h, i: \"D\"', 1.5)]) Cache entries:16 Total Fitness Evaluations:500000 Fitness Values:9\n",
      "Best solution: attacker: Ind: lambda h, i: \"B\"; 0.98,defender: Ind: lambda h, i: \"B\"; 1.0\n",
      "Time: 1.527 Best solution:OrderedDict([('attacker', <heuristics.donkey_ge.Individual object at 0x127c7bf50>), ('defender', <heuristics.donkey_ge.Individual object at 0x127c7b890>)])\n"
     ],
     "output_type": "stream"
    },
    {
     "data": {
      "text/plain": "<Figure size 432x288 with 0 Axes>"
     },
     "metadata": {},
     "output_type": "display_data"
    }
   ],
   "source": [
    "# try coevolution\n",
    "args = [\"-o\", \"tmp_coev_intrusive\", \"-f\" \"tests/configurations/coevolution_intrusive_hawk_dove.yml\", \"--coev\"]\n",
    "_ = main.main(args)\n",
    "pdg.plot_population_freqs(out_path=\"tmp_coev_intrusive\", \n",
    "                          in_path=\"tmp_coev_intrusive\", \n",
    "                          title=\"Intrusive coevolution\")\n"
   ],
   "metadata": {
    "collapsed": false,
    "pycharm": {
     "name": "#%% \n",
     "is_executing": false
    }
   }
  },
  {
   "cell_type": "code",
   "execution_count": 14,
   "outputs": [
    {
     "name": "stdout",
     "text": [
      "Namespace(coev=True, configuration_file='tests/configurations/coevolution_nonintrusive_hawk_dove.yml', output_dir='tmp_coev_nonintrusive')\n",
      "Setting random seed: 1579899646 0.63116\n",
      "donkey_ge settings: {'population_size': 100, 'max_length': 100, 'generations': 10, 'tournament_size': 2, 'crossover_probability': 0.8, 'mutation_probability': 0.1, 'codon_size': 127, 'integer_input_element_max': 1000, 'elite_size': 15, 'populations': {'attacker': {'adversary': 'defender', 'bnf_grammar': 'tests/grammars/simple_hawk_dove.bnf', 'fitness_function': {'name': 'NonIntrusiveHawkAndDove', 'opponent': 'None', 'n_iterations': 1}}, 'defender': {'adversary': 'attacker', 'bnf_grammar': 'tests/grammars/simple_hawk_dove.bnf', 'fitness_function': {'name': 'NonIntrusiveHawkAndDove', 'opponent': 'None', 'n_iterations': 1}}}, 'output_dir': 'tmp_coev_nonintrusive', 'coev': True, 'seed': 1579899646}\n",
      "attacker 16\n",
      "Gen:0 t:0.012 fit_ave:-0.07+-0.490 size_ave:1.00+-0.000 length_ave:100.00+-0.000 Ind: lambda h, i: \"D\"; 0.53\n",
      "defender 16\n",
      "Gen:0 t:0.010 fit_ave:-0.02+-0.488 size_ave:1.00+-0.000 length_ave:100.00+-0.000 Ind: lambda h, i: \"D\"; 0.57\n",
      "attacker 16\n",
      "Gen:1 t:0.013 fit_ave:0.18+-0.401 size_ave:1.00+-0.000 length_ave:100.00+-0.000 Ind: lambda h, i: \"D\"; 0.53\n",
      "defender 16\n",
      "Gen:1 t:0.012 fit_ave:0.57+-0.330 size_ave:1.00+-0.000 length_ave:100.00+-0.000 Ind: lambda h, i: \"X\"; 0.93\n",
      "attacker 16\n",
      "Gen:2 t:0.012 fit_ave:0.67+-0.290 size_ave:1.00+-0.000 length_ave:100.00+-0.000 Ind: lambda h, i: \"X\"; 1.03\n",
      "defender 16\n",
      "Gen:2 t:0.012 fit_ave:1.04+-0.310 size_ave:1.00+-0.000 length_ave:100.00+-0.000 Ind: lambda h, i: \"X\"; 1.29\n",
      "attacker 16\n",
      "Gen:3 t:0.012 fit_ave:0.64+-0.569 size_ave:1.00+-0.000 length_ave:100.00+-0.000 Ind: lambda h, i: \"X\"; 1.19\n",
      "defender 16\n",
      "Gen:3 t:0.014 fit_ave:0.95+-0.313 size_ave:1.00+-0.000 length_ave:100.00+-0.000 Ind: lambda h, i: \"X\"; 1.08\n",
      "attacker 16\n",
      "Gen:4 t:0.012 fit_ave:0.69+-0.518 size_ave:1.00+-0.000 length_ave:100.00+-0.000 Ind: lambda h, i: \"X\"; 0.97\n",
      "defender 16\n",
      "Gen:4 t:0.011 fit_ave:1.08+-0.396 size_ave:1.00+-0.000 length_ave:100.00+-0.000 Ind: lambda h, i: \"X\"; 1.18\n",
      "attacker 16\n",
      "Gen:5 t:0.011 fit_ave:0.82+-0.522 size_ave:1.00+-0.000 length_ave:100.00+-0.000 Ind: lambda h, i: \"X\"; 0.97\n",
      "defender 16\n",
      "Gen:5 t:0.011 fit_ave:0.79+-0.465 size_ave:1.00+-0.000 length_ave:100.00+-0.000 Ind: lambda h, i: \"X\"; 0.91\n",
      "attacker 16\n",
      "Gen:6 t:0.011 fit_ave:0.74+-0.488 size_ave:1.00+-0.000 length_ave:100.00+-0.000 Ind: lambda h, i: \"X\"; 0.88\n",
      "defender 16\n",
      "Gen:6 t:0.012 fit_ave:0.83+-0.379 size_ave:1.00+-0.000 length_ave:100.00+-0.000 Ind: lambda h, i: \"X\"; 0.9\n",
      "attacker 16\n",
      "Gen:7 t:0.012 fit_ave:0.78+-0.532 size_ave:1.00+-0.000 length_ave:100.00+-0.000 Ind: lambda h, i: \"X\"; 0.92\n",
      "defender 16\n",
      "Gen:7 t:0.016 fit_ave:0.78+-0.512 size_ave:1.00+-0.000 length_ave:100.00+-0.000 Ind: lambda h, i: \"X\"; 0.89\n",
      "attacker 16\n",
      "Gen:8 t:0.013 fit_ave:0.83+-0.471 size_ave:1.00+-0.000 length_ave:100.00+-0.000 Ind: lambda h, i: \"X\"; 0.92\n",
      "defender 16\n",
      "Gen:8 t:0.014 fit_ave:0.79+-0.472 size_ave:1.00+-0.000 length_ave:100.00+-0.000 Ind: lambda h, i: \"X\"; 0.9\n",
      "attacker 16\n",
      "Gen:9 t:0.013 fit_ave:0.72+-0.515 size_ave:1.00+-0.000 length_ave:100.00+-0.000 Ind: lambda h, i: \"X\"; 0.86\n",
      "defender 16\n",
      "Gen:9 t:0.012 fit_ave:0.75+-0.436 size_ave:1.00+-0.000 length_ave:100.00+-0.000 Ind: lambda h, i: \"X\"; 0.84\n",
      "Cache:OrderedDict([('lambda h, i: \"B\"-lambda h, i: \"X\"', -2.0), ('lambda h, i: \"B\"-lambda h, i: \"H\"', -2.0), ('lambda h, i: \"B\"-lambda h, i: \"D\"', 1.0), ('lambda h, i: \"B\"-lambda h, i: \"B\"', 1.0), ('lambda h, i: \"D\"-lambda h, i: \"X\"', 0.0), ('lambda h, i: \"D\"-lambda h, i: \"H\"', 0.0), ('lambda h, i: \"D\"-lambda h, i: \"D\"', 1.0), ('lambda h, i: \"D\"-lambda h, i: \"B\"', 1.0), ('lambda h, i: \"X\"-lambda h, i: \"X\"', 1.0), ('lambda h, i: \"X\"-lambda h, i: \"H\"', -2.0), ('lambda h, i: \"X\"-lambda h, i: \"D\"', 2.0), ('lambda h, i: \"X\"-lambda h, i: \"B\"', -1.0), ('lambda h, i: \"H\"-lambda h, i: \"X\"', -1.0), ('lambda h, i: \"H\"-lambda h, i: \"H\"', -4.0), ('lambda h, i: \"H\"-lambda h, i: \"D\"', 2.0), ('lambda h, i: \"H\"-lambda h, i: \"B\"', -1.0)]) Cache entries:16 Total Fitness Evaluations:100000 Fitness Values:6\n",
      "Best solution: attacker: Ind: lambda h, i: \"X\"; 0.86,defender: Ind: lambda h, i: \"X\"; 0.84\n",
      "Time: 0.312 Best solution:OrderedDict([('attacker', <heuristics.donkey_ge.Individual object at 0x124fcb790>), ('defender', <heuristics.donkey_ge.Individual object at 0x12712e6d0>)])\n"
     ],
     "output_type": "stream"
    },
    {
     "data": {
      "text/plain": "<Figure size 432x288 with 0 Axes>"
     },
     "metadata": {},
     "output_type": "display_data"
    }
   ],
   "source": [
    "# try coevolution\n",
    "args = [\"-o\", \"tmp_coev_nonintrusive\", \"-f\" \"tests/configurations/coevolution_nonintrusive_hawk_dove.yml\", \"--coev\"]\n",
    "_ = main.main(args)\n",
    "pdg.plot_population_freqs(out_path=\"tmp_coev_nonintrusive\", \n",
    "                          in_path=\"tmp_coev_nonintrusive\", \n",
    "                          title=\"Nonintrusive coevolution\")\n"
   ],
   "metadata": {
    "collapsed": false,
    "pycharm": {
     "name": "#%% \n",
     "is_executing": false
    }
   }
  },
  {
   "cell_type": "code",
   "execution_count": 8,
   "outputs": [
    {
     "name": "stdout",
     "text": [
      "Namespace(coev=False, configuration_file='tests/configurations/nonintrusive_hawk_dove.yml', output_dir='tmp2')\n",
      "Setting random seed: 1579881214 0.48427\n",
      "donkey_ge settings: {'population_size': 50, 'max_length': 15, 'elite_size': 20, 'generations': 15, 'tournament_size': 2, 'crossover_probability': 0.8, 'mutation_probability': 0.1, 'codon_size': 127, 'integer_input_element_max': 1000, 'bnf_grammar': 'tests/grammars/simple_hawk_dove.bnf', 'fitness_function': {'name': 'NonIntrusiveHawkAndDove', 'opponent': \"lambda h, i: 'B'\", 'n_iterations': 1}, 'output_dir': 'tmp2', 'coev': False, 'seed': 1579881214}\n",
      "Gen:0 t:0.001 fit_ave:0.78+-0.248 size_ave:1.00+-0.000 length_ave:15.00+-0.000 Ind: lambda h, i: \"B\"; 1.0\n",
      "Gen:1 t:0.003 fit_ave:1.00+-0.000 size_ave:1.00+-0.000 length_ave:15.00+-0.000 Ind: lambda h, i: \"D\"; 1.0\n",
      "Gen:2 t:0.003 fit_ave:1.00+-0.000 size_ave:1.00+-0.000 length_ave:15.00+-0.000 Ind: lambda h, i: \"D\"; 1.0\n",
      "Gen:3 t:0.003 fit_ave:1.00+-0.000 size_ave:1.00+-0.000 length_ave:15.00+-0.000 Ind: lambda h, i: \"B\"; 1.0\n",
      "Gen:4 t:0.002 fit_ave:1.00+-0.000 size_ave:1.00+-0.000 length_ave:15.00+-0.000 Ind: lambda h, i: \"B\"; 1.0\n",
      "Gen:5 t:0.002 fit_ave:1.00+-0.000 size_ave:1.00+-0.000 length_ave:15.00+-0.000 Ind: lambda h, i: \"B\"; 1.0\n",
      "Gen:6 t:0.002 fit_ave:1.00+-0.000 size_ave:1.00+-0.000 length_ave:15.00+-0.000 Ind: lambda h, i: \"B\"; 1.0\n",
      "Gen:7 t:0.002 fit_ave:1.00+-0.000 size_ave:1.00+-0.000 length_ave:15.00+-0.000 Ind: lambda h, i: \"B\"; 1.0\n",
      "Gen:8 t:0.002 fit_ave:1.00+-0.000 size_ave:1.00+-0.000 length_ave:15.00+-0.000 Ind: lambda h, i: \"B\"; 1.0\n",
      "Gen:9 t:0.002 fit_ave:1.00+-0.000 size_ave:1.00+-0.000 length_ave:15.00+-0.000 Ind: lambda h, i: \"B\"; 1.0\n",
      "Gen:10 t:0.002 fit_ave:1.00+-0.000 size_ave:1.00+-0.000 length_ave:15.00+-0.000 Ind: lambda h, i: \"B\"; 1.0\n",
      "Gen:11 t:0.002 fit_ave:1.00+-0.000 size_ave:1.00+-0.000 length_ave:15.00+-0.000 Ind: lambda h, i: \"B\"; 1.0\n",
      "Gen:12 t:0.003 fit_ave:1.00+-0.000 size_ave:1.00+-0.000 length_ave:15.00+-0.000 Ind: lambda h, i: \"B\"; 1.0\n",
      "Gen:13 t:0.003 fit_ave:1.00+-0.000 size_ave:1.00+-0.000 length_ave:15.00+-0.000 Ind: lambda h, i: \"B\"; 1.0\n",
      "Gen:14 t:0.003 fit_ave:1.00+-0.000 size_ave:1.00+-0.000 length_ave:15.00+-0.000 Ind: lambda h, i: \"D\"; 1.0\n",
      "Cache:OrderedDict([('lambda h, i: \"X\"-lambda h, i: \\'B\\'', 0.5), ('lambda h, i: \"B\"-lambda h, i: \\'B\\'', 1.0), ('lambda h, i: \"D\"-lambda h, i: \\'B\\'', 1.0), ('lambda h, i: \"H\"-lambda h, i: \\'B\\'', 0.5)]) Cache entries:4 Total Fitness Evaluations:37500 Fitness Values:2\n",
      "Time: 0.059 Best solution:Ind: lambda h, i: \"D\"; 1.0\n"
     ],
     "output_type": "stream"
    }
   ],
   "source": [
    "args = [\"-o\", \"tmp2\", \"-f\", \"tests/configurations/nonintrusive_hawk_dove.yml\"]\n",
    "_ = main.main(args)\n"
   ],
   "metadata": {
    "collapsed": false,
    "pycharm": {
     "name": "#%%\n",
     "is_executing": false
    }
   }
  },
  {
   "cell_type": "code",
   "execution_count": 9,
   "outputs": [
    {
     "data": {
      "text/plain": "<Figure size 432x288 with 0 Axes>"
     },
     "metadata": {},
     "output_type": "display_data"
    }
   ],
   "source": [
    "pdg.plot_population_freqs(out_path=\"tmp2\", in_path=\"tmp2\", title=\"Unintrusive opponent: B\")\n"
   ],
   "metadata": {
    "collapsed": false,
    "pycharm": {
     "name": "#%%\n",
     "is_executing": false
    }
   }
  }
 ],
 "metadata": {
  "kernelspec": {
   "display_name": "Python 3",
   "language": "python",
   "name": "python3"
  },
  "language_info": {
   "codemirror_mode": {
    "name": "ipython",
    "version": 3
   },
   "file_extension": ".py",
   "mimetype": "text/x-python",
   "name": "python",
   "nbconvert_exporter": "python",
   "pygments_lexer": "ipython3",
   "version": "3.7.4"
  },
  "pycharm": {
   "stem_cell": {
    "cell_type": "raw",
    "source": [],
    "metadata": {
     "collapsed": false
    }
   }
  }
 },
 "nbformat": 4,
 "nbformat_minor": 2
}