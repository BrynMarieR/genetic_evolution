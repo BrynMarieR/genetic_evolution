{
 "cells": [
  {
   "cell_type": "markdown",
   "metadata": {},
   "source": [
    "# Set working directory and import modules"
   ]
  },
  {
   "cell_type": "code",
   "execution_count": 1,
   "metadata": {
    "pycharm": {
     "is_executing": false
    }
   },
   "outputs": [],
   "source": [
    "import os\n",
    "import util.plotting_util as pdg\n",
    "# Change working directory to the root of the repository (assumes notebook working directory is `tutorials`)\n",
    "os.chdir('/Users/breinsta/Desktop/alfa_research/donkey_ge/')\n",
    "import main\n",
    "from fitness.game_theory_game import IntrusiveHawkAndDoveGame, NonIntrusiveHawkAndDoveGame, \\\n",
    "    PrisonersDilemma, HawkAndDove\n",
    "from typing import List, Tuple"
   ]
  },
  {
   "cell_type": "code",
   "execution_count": 2,
   "outputs": [
    {
     "name": "stdout",
     "text": [
      "Namespace(coev=False, configuration_file='tests/configurations/iterated_prisoners_dilemma.yml', output_dir='tmp_pd', spatial=False)\n",
      "Setting random seed: 1580246869 0.07544\n",
      "ge_run settings: {'population_size': 500, 'max_length': 10, 'elite_size': 25, 'generations': 25, 'tournament_size': 2, 'crossover_probability': 0.8, 'mutation_probability': 0.1, 'codon_size': 127, 'integer_input_element_max': 1000, 'bnf_grammar': 'tests/grammars/simple_iterated_prisoners_dilemma.bnf', 'fitness_function': {'name': 'IteratedPrisonersDilemma', 'opponent': \"lambda h, i: 'D'\", 'n_iterations': 4}, 'output_dir': 'tmp_pd', 'coev': False, 'spatial': False, 'seed': 1580246869}\n",
      "Gen:0 t:0.010 fit_ave:-2.50+-0.500 size_ave:1.00+-0.000 length_ave:10.00+-0.000 Ind: lambda h, i: \"D\"; -2.0\n",
      "Gen:1 t:0.019 fit_ave:-2.21+-0.406 size_ave:1.00+-0.000 length_ave:10.00+-0.000 Ind: lambda h, i: \"D\"; -2.0\n",
      "Gen:2 t:0.020 fit_ave:-2.06+-0.234 size_ave:1.00+-0.000 length_ave:10.00+-0.000 Ind: lambda h, i: \"D\"; -2.0\n",
      "Gen:3 t:0.017 fit_ave:-2.00+-0.000 size_ave:1.00+-0.000 length_ave:10.00+-0.000 Ind: lambda h, i: \"D\"; -2.0\n",
      "Gen:4 t:0.013 fit_ave:-2.00+-0.000 size_ave:1.00+-0.000 length_ave:10.00+-0.000 Ind: lambda h, i: \"D\"; -2.0\n",
      "Gen:5 t:0.011 fit_ave:-2.00+-0.000 size_ave:1.00+-0.000 length_ave:10.00+-0.000 Ind: lambda h, i: \"D\"; -2.0\n",
      "Gen:6 t:0.010 fit_ave:-2.00+-0.000 size_ave:1.00+-0.000 length_ave:10.00+-0.000 Ind: lambda h, i: \"D\"; -2.0\n",
      "Gen:7 t:0.011 fit_ave:-2.00+-0.000 size_ave:1.00+-0.000 length_ave:10.00+-0.000 Ind: lambda h, i: \"D\"; -2.0\n",
      "Gen:8 t:0.012 fit_ave:-2.00+-0.045 size_ave:1.00+-0.000 length_ave:10.00+-0.000 Ind: lambda h, i: \"D\"; -2.0\n",
      "Gen:9 t:0.012 fit_ave:-2.00+-0.000 size_ave:1.00+-0.000 length_ave:10.00+-0.000 Ind: lambda h, i: \"D\"; -2.0\n",
      "Gen:10 t:0.010 fit_ave:-2.00+-0.000 size_ave:1.00+-0.000 length_ave:10.00+-0.000 Ind: lambda h, i: \"D\"; -2.0\n",
      "Gen:11 t:0.010 fit_ave:-2.00+-0.000 size_ave:1.00+-0.000 length_ave:10.00+-0.000 Ind: lambda h, i: \"D\"; -2.0\n",
      "Gen:12 t:0.010 fit_ave:-2.01+-0.077 size_ave:1.00+-0.000 length_ave:10.00+-0.000 Ind: lambda h, i: \"D\"; -2.0\n",
      "Gen:13 t:0.011 fit_ave:-2.00+-0.000 size_ave:1.00+-0.000 length_ave:10.00+-0.000 Ind: lambda h, i: \"D\"; -2.0\n",
      "Gen:14 t:0.012 fit_ave:-2.00+-0.000 size_ave:1.00+-0.000 length_ave:10.00+-0.000 Ind: lambda h, i: \"D\"; -2.0\n",
      "Gen:15 t:0.014 fit_ave:-2.00+-0.000 size_ave:1.00+-0.000 length_ave:10.00+-0.000 Ind: lambda h, i: \"D\"; -2.0\n",
      "Gen:16 t:0.018 fit_ave:-2.01+-0.077 size_ave:1.00+-0.000 length_ave:10.00+-0.000 Ind: lambda h, i: \"D\"; -2.0\n",
      "Gen:17 t:0.013 fit_ave:-2.02+-0.125 size_ave:1.00+-0.000 length_ave:10.00+-0.000 Ind: lambda h, i: \"D\"; -2.0\n",
      "Gen:18 t:0.018 fit_ave:-2.02+-0.133 size_ave:1.00+-0.000 length_ave:10.00+-0.000 Ind: lambda h, i: \"D\"; -2.0\n",
      "Gen:19 t:0.015 fit_ave:-2.00+-0.000 size_ave:1.00+-0.000 length_ave:10.00+-0.000 Ind: lambda h, i: \"D\"; -2.0\n",
      "Gen:20 t:0.016 fit_ave:-2.00+-0.000 size_ave:1.00+-0.000 length_ave:10.00+-0.000 Ind: lambda h, i: \"D\"; -2.0\n",
      "Gen:21 t:0.027 fit_ave:-2.00+-0.000 size_ave:1.00+-0.000 length_ave:10.00+-0.000 Ind: lambda h, i: \"D\"; -2.0\n",
      "Gen:22 t:0.038 fit_ave:-2.00+-0.045 size_ave:1.00+-0.000 length_ave:10.00+-0.000 Ind: lambda h, i: \"D\"; -2.0\n",
      "Gen:23 t:0.022 fit_ave:-2.00+-0.000 size_ave:1.00+-0.000 length_ave:10.00+-0.000 Ind: lambda h, i: \"D\"; -2.0\n",
      "Gen:24 t:0.015 fit_ave:-2.00+-0.000 size_ave:1.00+-0.000 length_ave:10.00+-0.000 Ind: lambda h, i: \"D\"; -2.0\n",
      "Cache:OrderedDict([('lambda h, i: \"D\"-lambda h, i: \\'D\\'', -2.0), ('lambda h, i: \"C\"-lambda h, i: \\'D\\'', -3.0)]) Cache entries:2 Total Fitness Evaluations:6250000 Fitness Values:2\n",
      "Time: 0.506 Best solution:Ind: lambda h, i: \"D\"; -2.0\n"
     ],
     "output_type": "stream"
    },
    {
     "data": {
      "text/plain": "<Figure size 432x288 with 1 Axes>",
      "image/png": "[encoded data removed]"
     },
     "metadata": {
      "needs_background": "light"
     },
     "output_type": "display_data"
    },
    {
     "data": {
      "text/plain": "<Figure size 432x288 with 0 Axes>"
     },
     "metadata": {},
     "output_type": "display_data"
    }
   ],
   "source": [
    "# prisoner's dilemma\n",
    "args = [\"-o\", \"tmp_pd\", \"-f\", \"tests/configurations/iterated_prisoners_dilemma.yml\"]\n",
    "_ = main.main(args)\n",
    "pdg.plot_population_freqs(out_path=\"tmp_pd\", in_path=\"tmp_pd\", title=\"Opponent: D\")\n"
   ],
   "metadata": {
    "collapsed": false,
    "pycharm": {
     "name": "#%%\n",
     "is_executing": false
    }
   }
  },
  {
   "cell_type": "code",
   "execution_count": null,
   "outputs": [],
   "source": [
    "# hawk-dove (2-player)\n",
    "args = [\"-o\", \"tmp_hd\", \"-f\", \"tests/configurations/hawk_and_dove.yml\"]\n",
    "_ = main.main(args)\n",
    "pdg.plot_population_freqs(out_path=\"tmp_hd\", in_path=\"tmp_hd\", title=\"Opponent: D\")"
   ],
   "metadata": {
    "collapsed": false,
    "pycharm": {
     "name": "#%%\n",
     "is_executing": false
    }
   }
  },
  {
   "cell_type": "code",
   "execution_count": null,
   "outputs": [],
   "source": [
    "# hawk-dove (2-player)\n",
    "args = [\"-o\", \"tmp_coev_int_onepop\", \n",
    "        \"-f\", \"tests/configurations/coevolution_single_pop_intrusive_hawk_dove.yml\",\n",
    "        \"--coev\"]\n",
    "_ = main.main(args)\n",
    "pdg.plot_population_freqs(out_path=\"tmp_coev_int_onepop\", in_path=\"tmp_coev_int_onepop\", \n",
    "                          title=\"Opponent: Self\")\n",
    "\n"
   ],
   "metadata": {
    "collapsed": false,
    "pycharm": {
     "name": "#%%\n",
     "is_executing": false
    }
   }
  },
  {
   "cell_type": "code",
   "execution_count": null,
   "metadata": {
    "pycharm": {
     "is_executing": false
    }
   },
   "outputs": [],
   "source": [
    "# Set to use the configuration file and output directory\n",
    "args = [\"-o\", \"tmp\", \"-f\", \"tests/configurations/intrusive_hawk_dove.yml\"]\n",
    "_ = main.main(args)"
   ]
  },
  {
   "cell_type": "code",
   "execution_count": null,
   "metadata": {
    "pycharm": {
     "is_executing": false,
     "name": "#%%\n"
    }
   },
   "outputs": [],
   "source": [
    "pdg.plot_population_freqs(out_path=\"tmp\", in_path=\"tmp\", title=\"Intrusive opponent: B\")\n"
   ]
  },
  {
   "cell_type": "code",
   "execution_count": null,
   "outputs": [],
   "source": [
    "# try coevolution\n",
    "args = [\"-o\", \"tmp_coev_intrusive\", \"-f\" \"tests/configurations/coevolution_intrusive_hawk_dove.yml\", \"--coev\"]\n",
    "_ = main.main(args)\n",
    "pdg.plot_population_freqs(out_path=\"tmp_coev_intrusive\", \n",
    "                          in_path=\"tmp_coev_intrusive\", \n",
    "                          title=\"Intrusive coevolution\")\n"
   ],
   "metadata": {
    "collapsed": false,
    "pycharm": {
     "name": "#%% \n",
     "is_executing": false
    }
   }
  },
  {
   "cell_type": "code",
   "execution_count": null,
   "outputs": [],
   "source": [
    "# try coevolution\n",
    "args = [\"-o\", \"tmp_coev_nonintrusive\", \"-f\" \"tests/configurations/coevolution_nonintrusive_hawk_dove.yml\", \"--coev\"]\n",
    "_ = main.main(args)\n",
    "pdg.plot_population_freqs(out_path=\"tmp_coev_nonintrusive\", \n",
    "                          in_path=\"tmp_coev_nonintrusive\", \n",
    "                          title=\"Nonintrusive coevolution\")\n"
   ],
   "metadata": {
    "collapsed": false,
    "pycharm": {
     "name": "#%% \n",
     "is_executing": false
    }
   }
  },
  {
   "cell_type": "code",
   "execution_count": null,
   "outputs": [],
   "source": [
    "args = [\"-o\", \"tmp2\", \"-f\", \"tests/configurations/nonintrusive_hawk_dove.yml\"]\n",
    "_ = main.main(args)\n"
   ],
   "metadata": {
    "collapsed": false,
    "pycharm": {
     "name": "#%%\n",
     "is_executing": false
    }
   }
  },
  {
   "cell_type": "code",
   "execution_count": null,
   "outputs": [],
   "source": [
    "pdg.plot_population_freqs(out_path=\"tmp2\", in_path=\"tmp2\", title=\"Unintrusive opponent: B\")\n"
   ],
   "metadata": {
    "collapsed": false,
    "pycharm": {
     "name": "#%%\n",
     "is_executing": false
    }
   }
  }
 ],
 "metadata": {
  "kernelspec": {
   "display_name": "Python 3",
   "language": "python",
   "name": "python3"
  },
  "language_info": {
   "codemirror_mode": {
    "name": "ipython",
    "version": 3
   },
   "file_extension": ".py",
   "mimetype": "text/x-python",
   "name": "python",
   "nbconvert_exporter": "python",
   "pygments_lexer": "ipython3",
   "version": "3.7.4"
  },
  "pycharm": {
   "stem_cell": {
    "cell_type": "raw",
    "source": [],
    "metadata": {
     "collapsed": false
    }
   }
  }
 },
 "nbformat": 4,
 "nbformat_minor": 2
}