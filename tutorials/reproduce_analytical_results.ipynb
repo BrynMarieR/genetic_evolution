{
 "cells": [
  {
   "cell_type": "markdown",
   "metadata": {},
   "source": [
    "# Set working directory and import modules"
   ]
  },
  {
   "cell_type": "code",
   "execution_count": 1,
   "metadata": {
    "pycharm": {
     "is_executing": false
    }
   },
   "outputs": [],
   "source": [
    "import os\n",
    "import util.plotting_util as pdg\n",
    "# Change working directory to the root of the repository (assumes notebook working directory is `tutorials`)\n",
    "os.chdir('/Users/breinsta/Desktop/alfa_research/donkey_ge/')\n",
    "import main\n",
    "from fitness.game_theory_game import IntrusiveHawkAndDoveGame, NonIntrusiveHawkAndDoveGame, \\\n",
    "    PrisonersDilemma, HawkAndDove\n",
    "from typing import List, Tuple"
   ]
  },
  {
   "cell_type": "code",
   "execution_count": 5,
   "outputs": [
    {
     "name": "stdout",
     "text": [
      "Namespace(coev=False, configuration_file='tests/configurations/spatial_hd.yml', output_dir='tmp_spatial', spatial=True)\n",
      "Setting random seed: 1 0.13436\n",
      "ge_run settings: {'population_size': 100, 'max_length': 100, 'generations': 20, 'tournament_size': 2, 'seed': 1, 'crossover_probability': 0.8, 'mutation_probability': 0.1, 'codon_size': 127, 'integer_input_element_max': 1000, 'elite_proportion': 0.98, 'bnf_grammar': 'tests/grammars/simple_hawk_dove.bnf', 'graph_file': 'tests/graphs/lattice_graph.json', 'fitness_function': {'name': 'IntrusiveHawkAndDove', 'opponent': 'None', 'n_iterations': 1, 'payoff_dict': {'V': 6.0, 'C': 8.0}}, 'elite_size': 98, 'output_dir': 'tmp_spatial', 'coev': False, 'spatial': True}\n",
      "{'name': 'IntrusiveHawkAndDove', 'opponent': 'None', 'n_iterations': 1, 'payoff_dict': {'V': 6.0, 'C': 8.0}}\n",
      "Gen:0 t:0.001 fit_ave:-inf+-nan size_ave:1.00+-0.000 length_ave:100.00+-0.000 Ind: lambda h, i: \"X\"; -inf\n",
      "Cache:OrderedDict() Cache entries:0 Total Fitness Evaluations:0 Fitness Values:0\n",
      "Gen:1 t:0.005 fit_ave:1.60+-1.062 size_ave:1.00+-0.000 length_ave:100.00+-0.000 Ind: lambda h, i: \"B\"; 3.75\n",
      "Cache:OrderedDict([('lambda h, i: \"X\"-lambda h, i: \"H\"', -0.5), ('lambda h, i: \"X\"-lambda h, i: \"B\"', 1.0), ('lambda h, i: \"H\"-lambda h, i: \"X\"', 2.5), ('lambda h, i: \"H\"-lambda h, i: \"H\"', -1.0), ('lambda h, i: \"B\"-lambda h, i: \"D\"', 4.5), ('lambda h, i: \"B\"-lambda h, i: \"X\"', 1.0), ('lambda h, i: \"D\"-lambda h, i: \"H\"', 0.0), ('lambda h, i: \"D\"-lambda h, i: \"B\"', 1.5), ('lambda h, i: \"D\"-lambda h, i: \"D\"', 3.0), ('lambda h, i: \"H\"-lambda h, i: \"D\"', 6.0), ('lambda h, i: \"H\"-lambda h, i: \"B\"', 2.5), ('lambda h, i: \"B\"-lambda h, i: \"B\"', 3.0), ('lambda h, i: \"B\"-lambda h, i: \"H\"', -0.5), ('lambda h, i: \"X\"-lambda h, i: \"D\"', 4.5), ('lambda h, i: \"D\"-lambda h, i: \"X\"', 1.5), ('lambda h, i: \"X\"-lambda h, i: \"X\"', 3.0)]) Cache entries:16 Total Fitness Evaluations:10000 Fitness Values:9\n",
      "Gen:2 t:0.003 fit_ave:0.85+-0.874 size_ave:1.00+-0.000 length_ave:100.00+-0.000 Ind: lambda h, i: \"B\"; 3.0\n",
      "Cache:OrderedDict([('lambda h, i: \"X\"-lambda h, i: \"H\"', -0.5), ('lambda h, i: \"X\"-lambda h, i: \"B\"', 1.0), ('lambda h, i: \"H\"-lambda h, i: \"X\"', 2.5), ('lambda h, i: \"H\"-lambda h, i: \"H\"', -1.0), ('lambda h, i: \"B\"-lambda h, i: \"D\"', 4.5), ('lambda h, i: \"B\"-lambda h, i: \"X\"', 1.0), ('lambda h, i: \"D\"-lambda h, i: \"H\"', 0.0), ('lambda h, i: \"D\"-lambda h, i: \"B\"', 1.5), ('lambda h, i: \"D\"-lambda h, i: \"D\"', 3.0), ('lambda h, i: \"H\"-lambda h, i: \"D\"', 6.0), ('lambda h, i: \"H\"-lambda h, i: \"B\"', 2.5), ('lambda h, i: \"B\"-lambda h, i: \"B\"', 3.0), ('lambda h, i: \"B\"-lambda h, i: \"H\"', -0.5), ('lambda h, i: \"X\"-lambda h, i: \"D\"', 4.5), ('lambda h, i: \"D\"-lambda h, i: \"X\"', 1.5), ('lambda h, i: \"X\"-lambda h, i: \"X\"', 3.0)]) Cache entries:16 Total Fitness Evaluations:20000 Fitness Values:9\n",
      "Gen:3 t:0.004 fit_ave:0.77+-0.799 size_ave:1.00+-0.000 length_ave:100.00+-0.000 Ind: lambda h, i: \"H\"; 2.5\n",
      "Cache:OrderedDict([('lambda h, i: \"X\"-lambda h, i: \"H\"', -0.5), ('lambda h, i: \"X\"-lambda h, i: \"B\"', 1.0), ('lambda h, i: \"H\"-lambda h, i: \"X\"', 2.5), ('lambda h, i: \"H\"-lambda h, i: \"H\"', -1.0), ('lambda h, i: \"B\"-lambda h, i: \"D\"', 4.5), ('lambda h, i: \"B\"-lambda h, i: \"X\"', 1.0), ('lambda h, i: \"D\"-lambda h, i: \"H\"', 0.0), ('lambda h, i: \"D\"-lambda h, i: \"B\"', 1.5), ('lambda h, i: \"D\"-lambda h, i: \"D\"', 3.0), ('lambda h, i: \"H\"-lambda h, i: \"D\"', 6.0), ('lambda h, i: \"H\"-lambda h, i: \"B\"', 2.5), ('lambda h, i: \"B\"-lambda h, i: \"B\"', 3.0), ('lambda h, i: \"B\"-lambda h, i: \"H\"', -0.5), ('lambda h, i: \"X\"-lambda h, i: \"D\"', 4.5), ('lambda h, i: \"D\"-lambda h, i: \"X\"', 1.5), ('lambda h, i: \"X\"-lambda h, i: \"X\"', 3.0)]) Cache entries:16 Total Fitness Evaluations:30000 Fitness Values:9\n",
      "Gen:4 t:0.003 fit_ave:0.74+-0.854 size_ave:1.00+-0.000 length_ave:100.00+-0.000 Ind: lambda h, i: \"B\"; 3.0\n",
      "Cache:OrderedDict([('lambda h, i: \"X\"-lambda h, i: \"H\"', -0.5), ('lambda h, i: \"X\"-lambda h, i: \"B\"', 1.0), ('lambda h, i: \"H\"-lambda h, i: \"X\"', 2.5), ('lambda h, i: \"H\"-lambda h, i: \"H\"', -1.0), ('lambda h, i: \"B\"-lambda h, i: \"D\"', 4.5), ('lambda h, i: \"B\"-lambda h, i: \"X\"', 1.0), ('lambda h, i: \"D\"-lambda h, i: \"H\"', 0.0), ('lambda h, i: \"D\"-lambda h, i: \"B\"', 1.5), ('lambda h, i: \"D\"-lambda h, i: \"D\"', 3.0), ('lambda h, i: \"H\"-lambda h, i: \"D\"', 6.0), ('lambda h, i: \"H\"-lambda h, i: \"B\"', 2.5), ('lambda h, i: \"B\"-lambda h, i: \"B\"', 3.0), ('lambda h, i: \"B\"-lambda h, i: \"H\"', -0.5), ('lambda h, i: \"X\"-lambda h, i: \"D\"', 4.5), ('lambda h, i: \"D\"-lambda h, i: \"X\"', 1.5), ('lambda h, i: \"X\"-lambda h, i: \"X\"', 3.0)]) Cache entries:16 Total Fitness Evaluations:40000 Fitness Values:9\n",
      "Gen:5 t:0.002 fit_ave:0.69+-0.827 size_ave:1.00+-0.000 length_ave:100.00+-0.000 Ind: lambda h, i: \"B\"; 3.0\n",
      "Cache:OrderedDict([('lambda h, i: \"X\"-lambda h, i: \"H\"', -0.5), ('lambda h, i: \"X\"-lambda h, i: \"B\"', 1.0), ('lambda h, i: \"H\"-lambda h, i: \"X\"', 2.5), ('lambda h, i: \"H\"-lambda h, i: \"H\"', -1.0), ('lambda h, i: \"B\"-lambda h, i: \"D\"', 4.5), ('lambda h, i: \"B\"-lambda h, i: \"X\"', 1.0), ('lambda h, i: \"D\"-lambda h, i: \"H\"', 0.0), ('lambda h, i: \"D\"-lambda h, i: \"B\"', 1.5), ('lambda h, i: \"D\"-lambda h, i: \"D\"', 3.0), ('lambda h, i: \"H\"-lambda h, i: \"D\"', 6.0), ('lambda h, i: \"H\"-lambda h, i: \"B\"', 2.5), ('lambda h, i: \"B\"-lambda h, i: \"B\"', 3.0), ('lambda h, i: \"B\"-lambda h, i: \"H\"', -0.5), ('lambda h, i: \"X\"-lambda h, i: \"D\"', 4.5), ('lambda h, i: \"D\"-lambda h, i: \"X\"', 1.5), ('lambda h, i: \"X\"-lambda h, i: \"X\"', 3.0)]) Cache entries:16 Total Fitness Evaluations:50000 Fitness Values:9\n",
      "Gen:6 t:0.002 fit_ave:0.66+-0.831 size_ave:1.00+-0.000 length_ave:100.00+-0.000 Ind: lambda h, i: \"B\"; 3.0\n",
      "Cache:OrderedDict([('lambda h, i: \"X\"-lambda h, i: \"H\"', -0.5), ('lambda h, i: \"X\"-lambda h, i: \"B\"', 1.0), ('lambda h, i: \"H\"-lambda h, i: \"X\"', 2.5), ('lambda h, i: \"H\"-lambda h, i: \"H\"', -1.0), ('lambda h, i: \"B\"-lambda h, i: \"D\"', 4.5), ('lambda h, i: \"B\"-lambda h, i: \"X\"', 1.0), ('lambda h, i: \"D\"-lambda h, i: \"H\"', 0.0), ('lambda h, i: \"D\"-lambda h, i: \"B\"', 1.5), ('lambda h, i: \"D\"-lambda h, i: \"D\"', 3.0), ('lambda h, i: \"H\"-lambda h, i: \"D\"', 6.0), ('lambda h, i: \"H\"-lambda h, i: \"B\"', 2.5), ('lambda h, i: \"B\"-lambda h, i: \"B\"', 3.0), ('lambda h, i: \"B\"-lambda h, i: \"H\"', -0.5), ('lambda h, i: \"X\"-lambda h, i: \"D\"', 4.5), ('lambda h, i: \"D\"-lambda h, i: \"X\"', 1.5), ('lambda h, i: \"X\"-lambda h, i: \"X\"', 3.0)]) Cache entries:16 Total Fitness Evaluations:60000 Fitness Values:9\n",
      "Gen:7 t:0.002 fit_ave:0.73+-0.871 size_ave:1.00+-0.000 length_ave:100.00+-0.000 Ind: lambda h, i: \"B\"; 3.0\n",
      "Cache:OrderedDict([('lambda h, i: \"X\"-lambda h, i: \"H\"', -0.5), ('lambda h, i: \"X\"-lambda h, i: \"B\"', 1.0), ('lambda h, i: \"H\"-lambda h, i: \"X\"', 2.5), ('lambda h, i: \"H\"-lambda h, i: \"H\"', -1.0), ('lambda h, i: \"B\"-lambda h, i: \"D\"', 4.5), ('lambda h, i: \"B\"-lambda h, i: \"X\"', 1.0), ('lambda h, i: \"D\"-lambda h, i: \"H\"', 0.0), ('lambda h, i: \"D\"-lambda h, i: \"B\"', 1.5), ('lambda h, i: \"D\"-lambda h, i: \"D\"', 3.0), ('lambda h, i: \"H\"-lambda h, i: \"D\"', 6.0), ('lambda h, i: \"H\"-lambda h, i: \"B\"', 2.5), ('lambda h, i: \"B\"-lambda h, i: \"B\"', 3.0), ('lambda h, i: \"B\"-lambda h, i: \"H\"', -0.5), ('lambda h, i: \"X\"-lambda h, i: \"D\"', 4.5), ('lambda h, i: \"D\"-lambda h, i: \"X\"', 1.5), ('lambda h, i: \"X\"-lambda h, i: \"X\"', 3.0)]) Cache entries:16 Total Fitness Evaluations:70000 Fitness Values:9\n",
      "Gen:8 t:0.002 fit_ave:0.74+-0.881 size_ave:1.00+-0.000 length_ave:100.00+-0.000 Ind: lambda h, i: \"B\"; 3.0\n",
      "Cache:OrderedDict([('lambda h, i: \"X\"-lambda h, i: \"H\"', -0.5), ('lambda h, i: \"X\"-lambda h, i: \"B\"', 1.0), ('lambda h, i: \"H\"-lambda h, i: \"X\"', 2.5), ('lambda h, i: \"H\"-lambda h, i: \"H\"', -1.0), ('lambda h, i: \"B\"-lambda h, i: \"D\"', 4.5), ('lambda h, i: \"B\"-lambda h, i: \"X\"', 1.0), ('lambda h, i: \"D\"-lambda h, i: \"H\"', 0.0), ('lambda h, i: \"D\"-lambda h, i: \"B\"', 1.5), ('lambda h, i: \"D\"-lambda h, i: \"D\"', 3.0), ('lambda h, i: \"H\"-lambda h, i: \"D\"', 6.0), ('lambda h, i: \"H\"-lambda h, i: \"B\"', 2.5), ('lambda h, i: \"B\"-lambda h, i: \"B\"', 3.0), ('lambda h, i: \"B\"-lambda h, i: \"H\"', -0.5), ('lambda h, i: \"X\"-lambda h, i: \"D\"', 4.5), ('lambda h, i: \"D\"-lambda h, i: \"X\"', 1.5), ('lambda h, i: \"X\"-lambda h, i: \"X\"', 3.0)]) Cache entries:16 Total Fitness Evaluations:80000 Fitness Values:9\n",
      "Gen:9 t:0.002 fit_ave:0.76+-0.911 size_ave:1.00+-0.000 length_ave:100.00+-0.000 Ind: lambda h, i: \"B\"; 3.0\n",
      "Cache:OrderedDict([('lambda h, i: \"X\"-lambda h, i: \"H\"', -0.5), ('lambda h, i: \"X\"-lambda h, i: \"B\"', 1.0), ('lambda h, i: \"H\"-lambda h, i: \"X\"', 2.5), ('lambda h, i: \"H\"-lambda h, i: \"H\"', -1.0), ('lambda h, i: \"B\"-lambda h, i: \"D\"', 4.5), ('lambda h, i: \"B\"-lambda h, i: \"X\"', 1.0), ('lambda h, i: \"D\"-lambda h, i: \"H\"', 0.0), ('lambda h, i: \"D\"-lambda h, i: \"B\"', 1.5), ('lambda h, i: \"D\"-lambda h, i: \"D\"', 3.0), ('lambda h, i: \"H\"-lambda h, i: \"D\"', 6.0), ('lambda h, i: \"H\"-lambda h, i: \"B\"', 2.5), ('lambda h, i: \"B\"-lambda h, i: \"B\"', 3.0), ('lambda h, i: \"B\"-lambda h, i: \"H\"', -0.5), ('lambda h, i: \"X\"-lambda h, i: \"D\"', 4.5), ('lambda h, i: \"D\"-lambda h, i: \"X\"', 1.5), ('lambda h, i: \"X\"-lambda h, i: \"X\"', 3.0)]) Cache entries:16 Total Fitness Evaluations:90000 Fitness Values:9\n",
      "Gen:10 t:0.002 fit_ave:0.77+-0.932 size_ave:1.00+-0.000 length_ave:100.00+-0.000 Ind: lambda h, i: \"B\"; 3.0\n",
      "Cache:OrderedDict([('lambda h, i: \"X\"-lambda h, i: \"H\"', -0.5), ('lambda h, i: \"X\"-lambda h, i: \"B\"', 1.0), ('lambda h, i: \"H\"-lambda h, i: \"X\"', 2.5), ('lambda h, i: \"H\"-lambda h, i: \"H\"', -1.0), ('lambda h, i: \"B\"-lambda h, i: \"D\"', 4.5), ('lambda h, i: \"B\"-lambda h, i: \"X\"', 1.0), ('lambda h, i: \"D\"-lambda h, i: \"H\"', 0.0), ('lambda h, i: \"D\"-lambda h, i: \"B\"', 1.5), ('lambda h, i: \"D\"-lambda h, i: \"D\"', 3.0), ('lambda h, i: \"H\"-lambda h, i: \"D\"', 6.0), ('lambda h, i: \"H\"-lambda h, i: \"B\"', 2.5), ('lambda h, i: \"B\"-lambda h, i: \"B\"', 3.0), ('lambda h, i: \"B\"-lambda h, i: \"H\"', -0.5), ('lambda h, i: \"X\"-lambda h, i: \"D\"', 4.5), ('lambda h, i: \"D\"-lambda h, i: \"X\"', 1.5), ('lambda h, i: \"X\"-lambda h, i: \"X\"', 3.0)]) Cache entries:16 Total Fitness Evaluations:100000 Fitness Values:9\n",
      "Gen:11 t:0.003 fit_ave:0.77+-0.932 size_ave:1.00+-0.000 length_ave:100.00+-0.000 Ind: lambda h, i: \"B\"; 3.0\n",
      "Cache:OrderedDict([('lambda h, i: \"X\"-lambda h, i: \"H\"', -0.5), ('lambda h, i: \"X\"-lambda h, i: \"B\"', 1.0), ('lambda h, i: \"H\"-lambda h, i: \"X\"', 2.5), ('lambda h, i: \"H\"-lambda h, i: \"H\"', -1.0), ('lambda h, i: \"B\"-lambda h, i: \"D\"', 4.5), ('lambda h, i: \"B\"-lambda h, i: \"X\"', 1.0), ('lambda h, i: \"D\"-lambda h, i: \"H\"', 0.0), ('lambda h, i: \"D\"-lambda h, i: \"B\"', 1.5), ('lambda h, i: \"D\"-lambda h, i: \"D\"', 3.0), ('lambda h, i: \"H\"-lambda h, i: \"D\"', 6.0), ('lambda h, i: \"H\"-lambda h, i: \"B\"', 2.5), ('lambda h, i: \"B\"-lambda h, i: \"B\"', 3.0), ('lambda h, i: \"B\"-lambda h, i: \"H\"', -0.5), ('lambda h, i: \"X\"-lambda h, i: \"D\"', 4.5), ('lambda h, i: \"D\"-lambda h, i: \"X\"', 1.5), ('lambda h, i: \"X\"-lambda h, i: \"X\"', 3.0)]) Cache entries:16 Total Fitness Evaluations:110000 Fitness Values:9\n",
      "Gen:12 t:0.004 fit_ave:0.77+-0.932 size_ave:1.00+-0.000 length_ave:100.00+-0.000 Ind: lambda h, i: \"B\"; 3.0\n",
      "Cache:OrderedDict([('lambda h, i: \"X\"-lambda h, i: \"H\"', -0.5), ('lambda h, i: \"X\"-lambda h, i: \"B\"', 1.0), ('lambda h, i: \"H\"-lambda h, i: \"X\"', 2.5), ('lambda h, i: \"H\"-lambda h, i: \"H\"', -1.0), ('lambda h, i: \"B\"-lambda h, i: \"D\"', 4.5), ('lambda h, i: \"B\"-lambda h, i: \"X\"', 1.0), ('lambda h, i: \"D\"-lambda h, i: \"H\"', 0.0), ('lambda h, i: \"D\"-lambda h, i: \"B\"', 1.5), ('lambda h, i: \"D\"-lambda h, i: \"D\"', 3.0), ('lambda h, i: \"H\"-lambda h, i: \"D\"', 6.0), ('lambda h, i: \"H\"-lambda h, i: \"B\"', 2.5), ('lambda h, i: \"B\"-lambda h, i: \"B\"', 3.0), ('lambda h, i: \"B\"-lambda h, i: \"H\"', -0.5), ('lambda h, i: \"X\"-lambda h, i: \"D\"', 4.5), ('lambda h, i: \"D\"-lambda h, i: \"X\"', 1.5), ('lambda h, i: \"X\"-lambda h, i: \"X\"', 3.0)]) Cache entries:16 Total Fitness Evaluations:120000 Fitness Values:9\n",
      "Gen:13 t:0.002 fit_ave:0.77+-0.932 size_ave:1.00+-0.000 length_ave:100.00+-0.000 Ind: lambda h, i: \"B\"; 3.0\n",
      "Cache:OrderedDict([('lambda h, i: \"X\"-lambda h, i: \"H\"', -0.5), ('lambda h, i: \"X\"-lambda h, i: \"B\"', 1.0), ('lambda h, i: \"H\"-lambda h, i: \"X\"', 2.5), ('lambda h, i: \"H\"-lambda h, i: \"H\"', -1.0), ('lambda h, i: \"B\"-lambda h, i: \"D\"', 4.5), ('lambda h, i: \"B\"-lambda h, i: \"X\"', 1.0), ('lambda h, i: \"D\"-lambda h, i: \"H\"', 0.0), ('lambda h, i: \"D\"-lambda h, i: \"B\"', 1.5), ('lambda h, i: \"D\"-lambda h, i: \"D\"', 3.0), ('lambda h, i: \"H\"-lambda h, i: \"D\"', 6.0), ('lambda h, i: \"H\"-lambda h, i: \"B\"', 2.5), ('lambda h, i: \"B\"-lambda h, i: \"B\"', 3.0), ('lambda h, i: \"B\"-lambda h, i: \"H\"', -0.5), ('lambda h, i: \"X\"-lambda h, i: \"D\"', 4.5), ('lambda h, i: \"D\"-lambda h, i: \"X\"', 1.5), ('lambda h, i: \"X\"-lambda h, i: \"X\"', 3.0)]) Cache entries:16 Total Fitness Evaluations:130000 Fitness Values:9\n",
      "Gen:14 t:0.002 fit_ave:0.77+-0.932 size_ave:1.00+-0.000 length_ave:100.00+-0.000 Ind: lambda h, i: \"B\"; 3.0\n",
      "Cache:OrderedDict([('lambda h, i: \"X\"-lambda h, i: \"H\"', -0.5), ('lambda h, i: \"X\"-lambda h, i: \"B\"', 1.0), ('lambda h, i: \"H\"-lambda h, i: \"X\"', 2.5), ('lambda h, i: \"H\"-lambda h, i: \"H\"', -1.0), ('lambda h, i: \"B\"-lambda h, i: \"D\"', 4.5), ('lambda h, i: \"B\"-lambda h, i: \"X\"', 1.0), ('lambda h, i: \"D\"-lambda h, i: \"H\"', 0.0), ('lambda h, i: \"D\"-lambda h, i: \"B\"', 1.5), ('lambda h, i: \"D\"-lambda h, i: \"D\"', 3.0), ('lambda h, i: \"H\"-lambda h, i: \"D\"', 6.0), ('lambda h, i: \"H\"-lambda h, i: \"B\"', 2.5), ('lambda h, i: \"B\"-lambda h, i: \"B\"', 3.0), ('lambda h, i: \"B\"-lambda h, i: \"H\"', -0.5), ('lambda h, i: \"X\"-lambda h, i: \"D\"', 4.5), ('lambda h, i: \"D\"-lambda h, i: \"X\"', 1.5), ('lambda h, i: \"X\"-lambda h, i: \"X\"', 3.0)]) Cache entries:16 Total Fitness Evaluations:140000 Fitness Values:9\n",
      "Gen:15 t:0.002 fit_ave:0.77+-0.932 size_ave:1.00+-0.000 length_ave:100.00+-0.000 Ind: lambda h, i: \"B\"; 3.0\n",
      "Cache:OrderedDict([('lambda h, i: \"X\"-lambda h, i: \"H\"', -0.5), ('lambda h, i: \"X\"-lambda h, i: \"B\"', 1.0), ('lambda h, i: \"H\"-lambda h, i: \"X\"', 2.5), ('lambda h, i: \"H\"-lambda h, i: \"H\"', -1.0), ('lambda h, i: \"B\"-lambda h, i: \"D\"', 4.5), ('lambda h, i: \"B\"-lambda h, i: \"X\"', 1.0), ('lambda h, i: \"D\"-lambda h, i: \"H\"', 0.0), ('lambda h, i: \"D\"-lambda h, i: \"B\"', 1.5), ('lambda h, i: \"D\"-lambda h, i: \"D\"', 3.0), ('lambda h, i: \"H\"-lambda h, i: \"D\"', 6.0), ('lambda h, i: \"H\"-lambda h, i: \"B\"', 2.5), ('lambda h, i: \"B\"-lambda h, i: \"B\"', 3.0), ('lambda h, i: \"B\"-lambda h, i: \"H\"', -0.5), ('lambda h, i: \"X\"-lambda h, i: \"D\"', 4.5), ('lambda h, i: \"D\"-lambda h, i: \"X\"', 1.5), ('lambda h, i: \"X\"-lambda h, i: \"X\"', 3.0)]) Cache entries:16 Total Fitness Evaluations:150000 Fitness Values:9\n",
      "Gen:16 t:0.002 fit_ave:0.77+-0.932 size_ave:1.00+-0.000 length_ave:100.00+-0.000 Ind: lambda h, i: \"B\"; 3.0\n",
      "Cache:OrderedDict([('lambda h, i: \"X\"-lambda h, i: \"H\"', -0.5), ('lambda h, i: \"X\"-lambda h, i: \"B\"', 1.0), ('lambda h, i: \"H\"-lambda h, i: \"X\"', 2.5), ('lambda h, i: \"H\"-lambda h, i: \"H\"', -1.0), ('lambda h, i: \"B\"-lambda h, i: \"D\"', 4.5), ('lambda h, i: \"B\"-lambda h, i: \"X\"', 1.0), ('lambda h, i: \"D\"-lambda h, i: \"H\"', 0.0), ('lambda h, i: \"D\"-lambda h, i: \"B\"', 1.5), ('lambda h, i: \"D\"-lambda h, i: \"D\"', 3.0), ('lambda h, i: \"H\"-lambda h, i: \"D\"', 6.0), ('lambda h, i: \"H\"-lambda h, i: \"B\"', 2.5), ('lambda h, i: \"B\"-lambda h, i: \"B\"', 3.0), ('lambda h, i: \"B\"-lambda h, i: \"H\"', -0.5), ('lambda h, i: \"X\"-lambda h, i: \"D\"', 4.5), ('lambda h, i: \"D\"-lambda h, i: \"X\"', 1.5), ('lambda h, i: \"X\"-lambda h, i: \"X\"', 3.0)]) Cache entries:16 Total Fitness Evaluations:160000 Fitness Values:9\n",
      "Gen:17 t:0.002 fit_ave:0.77+-0.932 size_ave:1.00+-0.000 length_ave:100.00+-0.000 Ind: lambda h, i: \"B\"; 3.0\n",
      "Cache:OrderedDict([('lambda h, i: \"X\"-lambda h, i: \"H\"', -0.5), ('lambda h, i: \"X\"-lambda h, i: \"B\"', 1.0), ('lambda h, i: \"H\"-lambda h, i: \"X\"', 2.5), ('lambda h, i: \"H\"-lambda h, i: \"H\"', -1.0), ('lambda h, i: \"B\"-lambda h, i: \"D\"', 4.5), ('lambda h, i: \"B\"-lambda h, i: \"X\"', 1.0), ('lambda h, i: \"D\"-lambda h, i: \"H\"', 0.0), ('lambda h, i: \"D\"-lambda h, i: \"B\"', 1.5), ('lambda h, i: \"D\"-lambda h, i: \"D\"', 3.0), ('lambda h, i: \"H\"-lambda h, i: \"D\"', 6.0), ('lambda h, i: \"H\"-lambda h, i: \"B\"', 2.5), ('lambda h, i: \"B\"-lambda h, i: \"B\"', 3.0), ('lambda h, i: \"B\"-lambda h, i: \"H\"', -0.5), ('lambda h, i: \"X\"-lambda h, i: \"D\"', 4.5), ('lambda h, i: \"D\"-lambda h, i: \"X\"', 1.5), ('lambda h, i: \"X\"-lambda h, i: \"X\"', 3.0)]) Cache entries:16 Total Fitness Evaluations:170000 Fitness Values:9\n",
      "Gen:18 t:0.002 fit_ave:0.77+-0.932 size_ave:1.00+-0.000 length_ave:100.00+-0.000 Ind: lambda h, i: \"B\"; 3.0\n",
      "Cache:OrderedDict([('lambda h, i: \"X\"-lambda h, i: \"H\"', -0.5), ('lambda h, i: \"X\"-lambda h, i: \"B\"', 1.0), ('lambda h, i: \"H\"-lambda h, i: \"X\"', 2.5), ('lambda h, i: \"H\"-lambda h, i: \"H\"', -1.0), ('lambda h, i: \"B\"-lambda h, i: \"D\"', 4.5), ('lambda h, i: \"B\"-lambda h, i: \"X\"', 1.0), ('lambda h, i: \"D\"-lambda h, i: \"H\"', 0.0), ('lambda h, i: \"D\"-lambda h, i: \"B\"', 1.5), ('lambda h, i: \"D\"-lambda h, i: \"D\"', 3.0), ('lambda h, i: \"H\"-lambda h, i: \"D\"', 6.0), ('lambda h, i: \"H\"-lambda h, i: \"B\"', 2.5), ('lambda h, i: \"B\"-lambda h, i: \"B\"', 3.0), ('lambda h, i: \"B\"-lambda h, i: \"H\"', -0.5), ('lambda h, i: \"X\"-lambda h, i: \"D\"', 4.5), ('lambda h, i: \"D\"-lambda h, i: \"X\"', 1.5), ('lambda h, i: \"X\"-lambda h, i: \"X\"', 3.0)]) Cache entries:16 Total Fitness Evaluations:180000 Fitness Values:9\n",
      "Gen:19 t:0.002 fit_ave:0.77+-0.932 size_ave:1.00+-0.000 length_ave:100.00+-0.000 Ind: lambda h, i: \"B\"; 3.0\n",
      "Cache:OrderedDict([('lambda h, i: \"X\"-lambda h, i: \"H\"', -0.5), ('lambda h, i: \"X\"-lambda h, i: \"B\"', 1.0), ('lambda h, i: \"H\"-lambda h, i: \"X\"', 2.5), ('lambda h, i: \"H\"-lambda h, i: \"H\"', -1.0), ('lambda h, i: \"B\"-lambda h, i: \"D\"', 4.5), ('lambda h, i: \"B\"-lambda h, i: \"X\"', 1.0), ('lambda h, i: \"D\"-lambda h, i: \"H\"', 0.0), ('lambda h, i: \"D\"-lambda h, i: \"B\"', 1.5), ('lambda h, i: \"D\"-lambda h, i: \"D\"', 3.0), ('lambda h, i: \"H\"-lambda h, i: \"D\"', 6.0), ('lambda h, i: \"H\"-lambda h, i: \"B\"', 2.5), ('lambda h, i: \"B\"-lambda h, i: \"B\"', 3.0), ('lambda h, i: \"B\"-lambda h, i: \"H\"', -0.5), ('lambda h, i: \"X\"-lambda h, i: \"D\"', 4.5), ('lambda h, i: \"D\"-lambda h, i: \"X\"', 1.5), ('lambda h, i: \"X\"-lambda h, i: \"X\"', 3.0)]) Cache entries:16 Total Fitness Evaluations:190000 Fitness Values:9\n",
      "Cache:OrderedDict([('lambda h, i: \"X\"-lambda h, i: \"H\"', -0.5), ('lambda h, i: \"X\"-lambda h, i: \"B\"', 1.0), ('lambda h, i: \"H\"-lambda h, i: \"X\"', 2.5), ('lambda h, i: \"H\"-lambda h, i: \"H\"', -1.0), ('lambda h, i: \"B\"-lambda h, i: \"D\"', 4.5), ('lambda h, i: \"B\"-lambda h, i: \"X\"', 1.0), ('lambda h, i: \"D\"-lambda h, i: \"H\"', 0.0), ('lambda h, i: \"D\"-lambda h, i: \"B\"', 1.5), ('lambda h, i: \"D\"-lambda h, i: \"D\"', 3.0), ('lambda h, i: \"H\"-lambda h, i: \"D\"', 6.0), ('lambda h, i: \"H\"-lambda h, i: \"B\"', 2.5), ('lambda h, i: \"B\"-lambda h, i: \"B\"', 3.0), ('lambda h, i: \"B\"-lambda h, i: \"H\"', -0.5), ('lambda h, i: \"X\"-lambda h, i: \"D\"', 4.5), ('lambda h, i: \"D\"-lambda h, i: \"X\"', 1.5), ('lambda h, i: \"X\"-lambda h, i: \"X\"', 3.0)]) Cache entries:16 Total Fitness Evaluations:200000 Fitness Values:9\n",
      "Time: 0.177 Best solution:Ind: lambda h, i: \"X\"; 0.25\n"
     ],
     "output_type": "stream"
    }
   ],
   "source": [
    "args = [\"-o\", \"tmp_spatial\", \"-f\", \"tests/configurations/spatial_hd.yml\", \"--spatial\"]\n",
    "_ = main.main(args)\n"
   ],
   "metadata": {
    "collapsed": false,
    "pycharm": {
     "name": "#%%\n",
     "is_executing": false
    }
   }
  },
  {
   "cell_type": "code",
   "execution_count": null,
   "outputs": [],
   "source": [
    "# prisoner's dilemma\n",
    "args = [\"-o\", \"tmp_pd\", \"-f\", \"tests/configurations/iterated_prisoners_dilemma.yml\"]\n",
    "_ = main.main(args)\n",
    "pdg.plot_population_freqs(out_path=\"tmp_pd\", in_path=\"tmp_pd\", title=\"Opponent: D\")"
   ],
   "metadata": {
    "collapsed": false,
    "pycharm": {
     "name": "#%%\n",
     "is_executing": false
    }
   }
  },
  {
   "cell_type": "code",
   "execution_count": null,
   "outputs": [],
   "source": [
    "# hawk-dove (2-player)\n",
    "args = [\"-o\", \"tmp_hd\", \"-f\", \"tests/configurations/hawk_and_dove.yml\"]\n",
    "_ = main.main(args)\n",
    "pdg.plot_population_freqs(out_path=\"tmp_hd\", in_path=\"tmp_hd\", title=\"Opponent: D\")"
   ],
   "metadata": {
    "collapsed": false,
    "pycharm": {
     "name": "#%%\n",
     "is_executing": false
    }
   }
  },
  {
   "cell_type": "code",
   "execution_count": null,
   "outputs": [],
   "source": [
    "# hawk-dove (2-player)\n",
    "args = [\"-o\", \"tmp_coev_int_onepop\", \n",
    "        \"-f\", \"tests/configurations/coevolution_single_pop_intrusive_hawk_dove.yml\",\n",
    "        \"--coev\"]\n",
    "_ = main.main(args)\n",
    "pdg.plot_population_freqs(out_path=\"tmp_coev_int_onepop\", in_path=\"tmp_coev_int_onepop\", \n",
    "                          title=\"Opponent: Self\")"
   ],
   "metadata": {
    "collapsed": false,
    "pycharm": {
     "name": "#%%\n",
     "is_executing": false
    }
   }
  },
  {
   "cell_type": "code",
   "execution_count": null,
   "metadata": {
    "pycharm": {
     "is_executing": false
    }
   },
   "outputs": [],
   "source": [
    "args = [\"-o\", \"tmp\", \"-f\", \"tests/configurations/intrusive_hawk_dove.yml\"]\n",
    "_ = main.main(args)\n",
    "pdg.plot_population_freqs(out_path=\"tmp\", in_path=\"tmp\", title=\"Intrusive opponent: B\")\n"
   ]
  },
  {
   "cell_type": "code",
   "execution_count": null,
   "outputs": [],
   "source": [
    "# try coevolution\n",
    "args = [\"-o\", \"tmp_coev_intrusive\", \"-f\" \"tests/configurations/coevolution_intrusive_hawk_dove.yml\", \"--coev\"]\n",
    "_ = main.main(args)\n",
    "pdg.plot_population_freqs(out_path=\"tmp_coev_intrusive\", \n",
    "                          in_path=\"tmp_coev_intrusive\", \n",
    "                          title=\"Intrusive coevolution\")"
   ],
   "metadata": {
    "collapsed": false,
    "pycharm": {
     "name": "#%% \n",
     "is_executing": false
    }
   }
  },
  {
   "cell_type": "code",
   "execution_count": null,
   "outputs": [],
   "source": [
    "args = [\"-o\", \"tmp2\", \"-f\", \"tests/configurations/nonintrusive_hawk_dove.yml\"]\n",
    "_ = main.main(args)\n",
    "\n",
    "pdg.plot_population_freqs(out_path=\"tmp2\", in_path=\"tmp2\", title=\"Unintrusive opponent: B\")\n"
   ],
   "metadata": {
    "collapsed": false,
    "pycharm": {
     "name": "#%%\n",
     "is_executing": false
    }
   }
  }
 ],
 "metadata": {
  "kernelspec": {
   "display_name": "Python 3",
   "language": "python",
   "name": "python3"
  },
  "language_info": {
   "codemirror_mode": {
    "name": "ipython",
    "version": 3
   },
   "file_extension": ".py",
   "mimetype": "text/x-python",
   "name": "python",
   "nbconvert_exporter": "python",
   "pygments_lexer": "ipython3",
   "version": "3.7.4"
  },
  "pycharm": {
   "stem_cell": {
    "cell_type": "raw",
    "source": [],
    "metadata": {
     "collapsed": false
    }
   }
  }
 },
 "nbformat": 4,
 "nbformat_minor": 2
}