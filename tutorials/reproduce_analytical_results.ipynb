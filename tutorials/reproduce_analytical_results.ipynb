{
 "cells": [
  {
   "cell_type": "markdown",
   "metadata": {},
   "source": [
    "# Set working directory and import modules"
   ]
  },
  {
   "cell_type": "code",
   "execution_count": 1,
   "metadata": {
    "pycharm": {
     "is_executing": false
    }
   },
   "outputs": [],
   "source": [
    "import os\n",
    "import util.plotting_util as pdg\n",
    "# Change working directory to the root of the repository (assumes notebook working directory is `tutorials`)\n",
    "os.chdir('/Users/breinsta/Desktop/alfa_research/donkey_ge/')\n",
    "import main\n",
    "from fitness.game_theory_game import IntrusiveHawkAndDoveGame, NonIntrusiveHawkAndDoveGame, \\\n",
    "    PrisonersDilemma, HawkAndDove\n",
    "from typing import List, Tuple"
   ]
  },
  {
   "cell_type": "code",
   "execution_count": 2,
   "outputs": [
    {
     "name": "stdout",
     "text": [
      "Namespace(coev=False, configuration_file='tests/configurations/spatial_ipd.yml', output_dir='tmp_spatial', spatial=True)\n",
      "Setting random seed: 1 0.13436\n",
      "ge_run settings: {'population_size': 4, 'max_length': 100, 'generations': 2, 'tournament_size': 2, 'seed': 1, 'crossover_probability': 0.8, 'mutation_probability': 0.1, 'codon_size': 127, 'integer_input_element_max': 1000, 'elite_proportion': 0.98, 'bnf_grammar': 'tests/grammars/simple_iterated_prisoners_dilemma.bnf', 'graph_file': 'tests/graphs/lattice_graph.json', 'fitness_function': {'name': 'IteratedPrisonersDilemma', 'opponent': 'None', 'n_iterations': 1, 'payoff_dict': {'DEFAULT': 0}}, 'elite_size': 3, 'output_dir': 'tmp_spatial', 'coev': False, 'spatial': True}\n",
      "{'name': 'IteratedPrisonersDilemma', 'opponent': 'None', 'n_iterations': 1, 'payoff_dict': {'DEFAULT': 0}}\n",
      "Gen:0 t:0.001 fit_ave:-inf+-nan size_ave:1.00+-0.000 length_ave:100.00+-0.000 Ind: lambda h, i: \"D\"; -inf\n",
      "Cache:OrderedDict() Cache entries:0 Total Fitness Evaluations:0 Fitness Values:0\n",
      "Gen:1 t:0.002 fit_ave:-1.41+-0.814 size_ave:1.00+-0.000 length_ave:100.00+-0.000 Ind: lambda h, i: \"D\"; 0.0\n",
      "Cache:OrderedDict([('lambda h, i: \"D\"-lambda h, i: \"C\"', 0.0), ('lambda h, i: \"C\"-lambda h, i: \"D\"', -3.0), ('lambda h, i: \"C\"-lambda h, i: \"C\"', -1.0), ('lambda h, i: \"D\"-lambda h, i: \"D\"', -2.0)]) Cache entries:4 Total Fitness Evaluations:16 Fitness Values:4\n",
      "Cache:OrderedDict([('lambda h, i: \"D\"-lambda h, i: \"C\"', 0.0), ('lambda h, i: \"C\"-lambda h, i: \"D\"', -3.0), ('lambda h, i: \"C\"-lambda h, i: \"C\"', -1.0), ('lambda h, i: \"D\"-lambda h, i: \"D\"', -2.0)]) Cache entries:4 Total Fitness Evaluations:32 Fitness Values:4\n",
      "Time: 0.042 Best solution:Ind: lambda h, i: \"D\"; 0.0\n"
     ],
     "output_type": "stream"
    }
   ],
   "source": [
    "args = [\"-o\", \"tmp_spatial\", \"-f\", \"tests/configurations/spatial_ipd.yml\", \"--spatial\"]\n",
    "_ = main.main(args)\n"
   ],
   "metadata": {
    "collapsed": false,
    "pycharm": {
     "name": "#%%\n",
     "is_executing": false
    }
   }
  },
  {
   "cell_type": "code",
   "execution_count": null,
   "outputs": [],
   "source": [
    "# prisoner's dilemma\n",
    "args = [\"-o\", \"tmp_pd\", \"-f\", \"tests/configurations/iterated_prisoners_dilemma.yml\"]\n",
    "_ = main.main(args)\n",
    "pdg.plot_population_freqs(out_path=\"tmp_pd\", in_path=\"tmp_pd\", title=\"Opponent: D\")"
   ],
   "metadata": {
    "collapsed": false,
    "pycharm": {
     "name": "#%%\n",
     "is_executing": false
    }
   }
  },
  {
   "cell_type": "code",
   "execution_count": null,
   "outputs": [],
   "source": [
    "# hawk-dove (2-player)\n",
    "args = [\"-o\", \"tmp_hd\", \"-f\", \"tests/configurations/hawk_and_dove.yml\"]\n",
    "_ = main.main(args)\n",
    "pdg.plot_population_freqs(out_path=\"tmp_hd\", in_path=\"tmp_hd\", title=\"Opponent: D\")"
   ],
   "metadata": {
    "collapsed": false,
    "pycharm": {
     "name": "#%%\n",
     "is_executing": false
    }
   }
  },
  {
   "cell_type": "code",
   "execution_count": null,
   "outputs": [],
   "source": [
    "# hawk-dove (2-player)\n",
    "args = [\"-o\", \"tmp_coev_int_onepop\", \n",
    "        \"-f\", \"tests/configurations/coevolution_single_pop_intrusive_hawk_dove.yml\",\n",
    "        \"--coev\"]\n",
    "_ = main.main(args)\n",
    "pdg.plot_population_freqs(out_path=\"tmp_coev_int_onepop\", in_path=\"tmp_coev_int_onepop\", \n",
    "                          title=\"Opponent: Self\")"
   ],
   "metadata": {
    "collapsed": false,
    "pycharm": {
     "name": "#%%\n",
     "is_executing": false
    }
   }
  },
  {
   "cell_type": "code",
   "execution_count": null,
   "metadata": {
    "pycharm": {
     "is_executing": false
    }
   },
   "outputs": [],
   "source": [
    "args = [\"-o\", \"tmp\", \"-f\", \"tests/configurations/intrusive_hawk_dove.yml\"]\n",
    "_ = main.main(args)\n",
    "pdg.plot_population_freqs(out_path=\"tmp\", in_path=\"tmp\", title=\"Intrusive opponent: B\")\n"
   ]
  },
  {
   "cell_type": "code",
   "execution_count": null,
   "outputs": [],
   "source": [
    "# try coevolution\n",
    "args = [\"-o\", \"tmp_coev_intrusive\", \"-f\" \"tests/configurations/coevolution_intrusive_hawk_dove.yml\", \"--coev\"]\n",
    "_ = main.main(args)\n",
    "pdg.plot_population_freqs(out_path=\"tmp_coev_intrusive\", \n",
    "                          in_path=\"tmp_coev_intrusive\", \n",
    "                          title=\"Intrusive coevolution\")"
   ],
   "metadata": {
    "collapsed": false,
    "pycharm": {
     "name": "#%% \n",
     "is_executing": false
    }
   }
  },
  {
   "cell_type": "code",
   "execution_count": null,
   "outputs": [],
   "source": [
    "args = [\"-o\", \"tmp2\", \"-f\", \"tests/configurations/nonintrusive_hawk_dove.yml\"]\n",
    "_ = main.main(args)\n",
    "\n",
    "pdg.plot_population_freqs(out_path=\"tmp2\", in_path=\"tmp2\", title=\"Unintrusive opponent: B\")\n"
   ],
   "metadata": {
    "collapsed": false,
    "pycharm": {
     "name": "#%%\n",
     "is_executing": false
    }
   }
  }
 ],
 "metadata": {
  "kernelspec": {
   "display_name": "Python 3",
   "language": "python",
   "name": "python3"
  },
  "language_info": {
   "codemirror_mode": {
    "name": "ipython",
    "version": 3
   },
   "file_extension": ".py",
   "mimetype": "text/x-python",
   "name": "python",
   "nbconvert_exporter": "python",
   "pygments_lexer": "ipython3",
   "version": "3.7.4"
  },
  "pycharm": {
   "stem_cell": {
    "cell_type": "raw",
    "source": [],
    "metadata": {
     "collapsed": false
    }
   }
  }
 },
 "nbformat": 4,
 "nbformat_minor": 2
}