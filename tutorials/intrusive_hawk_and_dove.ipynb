{
 "cells": [
  {
   "cell_type": "markdown",
   "metadata": {},
   "source": [
    "# Set working directory and import modules"
   ]
  },
  {
   "cell_type": "code",
   "execution_count": 1,
   "metadata": {
    "pycharm": {
     "is_executing": false
    }
   },
   "outputs": [],
   "source": [
    "import os\n",
    "import util.plot_donkey_ge as pdg\n",
    "# Change working directory to the root of the repository (assumes notebook working directory is `tutorials`)\n",
    "os.chdir('/Users/breinsta/Desktop/alfa_research/donkey_ge/')\n",
    "import main\n",
    "from util.plot_hd import plot_hawk_and_dove\n",
    "from fitness.game_theory_game import IntrusiveHawkAndDoveGame\n",
    "from typing import List, Tuple"
   ]
  },
  {
   "cell_type": "code",
   "execution_count": 2,
   "outputs": [
    {
     "name": "stdout",
     "text": [
      "[(-0.5, 0.5), (-0.5, 0.5), (-0.5, 0.5), (-0.5, 0.5), (-0.5, 0.5)]\n",
      "{'player_1': {'strategy_history': ['X', 'X', 'X', 'X', 'X']}, 'player_2': {'strategy_history': ['H', 'H', 'H', 'H', 'H']}}\n"
     ],
     "output_type": "stream"
    }
   ],
   "source": [
    "# Run manually \n",
    "player_1 = lambda h, i: \"X\"\n",
    "player_2 = lambda h, i: \"H\"\n",
    "n_iterations = 5\n",
    "memory_size = 1\n",
    "# Setup a prisoners dilemma engagment\n",
    "ihd = IntrusiveHawkAndDoveGame(n_iterations=n_iterations, memory_size=memory_size, \n",
    "                               store_stats=True, out_file_name=IntrusiveHawkAndDoveGame.DEFAULT_OUT_FILE)\n",
    "# Run the strategies against each other\n",
    "sentences, histories = ihd.run(player_1=player_1, player_2=player_2)\n",
    "# Plot the choices and the payoffs from the engagement\n",
    "print(sentences) \n",
    "print(histories)\n"
   ],
   "metadata": {
    "collapsed": false,
    "pycharm": {
     "name": "#%%\n",
     "is_executing": false
    }
   }
  },
  {
   "cell_type": "markdown",
   "metadata": {},
   "source": [
    "# Run the heuristic search"
   ]
  },
  {
   "cell_type": "code",
   "execution_count": 3,
   "metadata": {
    "pycharm": {
     "is_executing": false
    }
   },
   "outputs": [
    {
     "name": "stdout",
     "text": [
      "Namespace(coev=False, configuration_file='tests/configurations/intrusive_hawk_dove.yml', output_dir='tmp')\n",
      "Setting random seed: 1579877729 0.56284\n",
      "donkey_ge settings: {'population_size': 50, 'max_length': 15, 'elite_size': 20, 'generations': 15, 'tournament_size': 2, 'crossover_probability': 0.8, 'mutation_probability': 0.1, 'codon_size': 127, 'integer_input_element_max': 1000, 'bnf_grammar': 'tests/grammars/simple_hawk_dove.bnf', 'fitness_function': {'name': 'IntrusiveHawkAndDove', 'opponent': \"lambda h, i: 'B'\", 'n_iterations': 1}, 'output_dir': 'tmp', 'coev': False, 'seed': 1579877729}\n",
      "Gen:0 t:0.002 fit_ave:0.54+-0.358 size_ave:1.00+-0.000 length_ave:15.00+-0.000 Ind: lambda h, i: \"B\"; 1.0\n",
      "Gen:1 t:0.004 fit_ave:0.87+-0.219 size_ave:1.00+-0.000 length_ave:15.00+-0.000 Ind: lambda h, i: \"B\"; 1.0\n",
      "Gen:2 t:0.004 fit_ave:1.00+-0.000 size_ave:1.00+-0.000 length_ave:15.00+-0.000 Ind: lambda h, i: \"B\"; 1.0\n",
      "Gen:3 t:0.006 fit_ave:1.00+-0.000 size_ave:1.00+-0.000 length_ave:15.00+-0.000 Ind: lambda h, i: \"B\"; 1.0\n",
      "Gen:4 t:0.004 fit_ave:1.00+-0.000 size_ave:1.00+-0.000 length_ave:15.00+-0.000 Ind: lambda h, i: \"B\"; 1.0\n",
      "Gen:5 t:0.004 fit_ave:1.00+-0.000 size_ave:1.00+-0.000 length_ave:15.00+-0.000 Ind: lambda h, i: \"B\"; 1.0\n",
      "Gen:6 t:0.004 fit_ave:1.00+-0.000 size_ave:1.00+-0.000 length_ave:15.00+-0.000 Ind: lambda h, i: \"B\"; 1.0\n",
      "Gen:7 t:0.003 fit_ave:1.00+-0.000 size_ave:1.00+-0.000 length_ave:15.00+-0.000 Ind: lambda h, i: \"B\"; 1.0\n",
      "Gen:8 t:0.004 fit_ave:1.00+-0.000 size_ave:1.00+-0.000 length_ave:15.00+-0.000 Ind: lambda h, i: \"B\"; 1.0\n",
      "Gen:9 t:0.004 fit_ave:1.00+-0.000 size_ave:1.00+-0.000 length_ave:15.00+-0.000 Ind: lambda h, i: \"B\"; 1.0\n",
      "Gen:10 t:0.004 fit_ave:1.00+-0.000 size_ave:1.00+-0.000 length_ave:15.00+-0.000 Ind: lambda h, i: \"B\"; 1.0\n",
      "Gen:11 t:0.003 fit_ave:1.00+-0.000 size_ave:1.00+-0.000 length_ave:15.00+-0.000 Ind: lambda h, i: \"B\"; 1.0\n",
      "Gen:12 t:0.004 fit_ave:1.00+-0.000 size_ave:1.00+-0.000 length_ave:15.00+-0.000 Ind: lambda h, i: \"B\"; 1.0\n",
      "Gen:13 t:0.004 fit_ave:1.00+-0.000 size_ave:1.00+-0.000 length_ave:15.00+-0.000 Ind: lambda h, i: \"B\"; 1.0\n",
      "Gen:14 t:0.004 fit_ave:1.00+-0.000 size_ave:1.00+-0.000 length_ave:15.00+-0.000 Ind: lambda h, i: \"B\"; 1.0\n",
      "Cache:OrderedDict([('lambda h, i: \"X\"-<function <lambda> at 0x12ccde440>', 0.0), ('lambda h, i: \"B\"-<function <lambda> at 0x12ccde440>', 1.0), ('lambda h, i: \"H\"-<function <lambda> at 0x12ccde440>', 0.5), ('lambda h, i: \"D\"-<function <lambda> at 0x12ccde440>', 0.5)]) Cache entries:4 Total Fitness Evaluations:37500 Fitness Values:3\n",
      "Time: 0.086 Best solution:Ind: lambda h, i: \"B\"; 1.0\n"
     ],
     "output_type": "stream"
    }
   ],
   "source": [
    "# Set to use the configuration file and output directory\n",
    "args = [\"-o\", \"tmp\", \"-f\", \"tests/configurations/intrusive_hawk_dove.yml\"]\n",
    "_ = main.main(args)"
   ]
  },
  {
   "cell_type": "code",
   "execution_count": 4,
   "metadata": {
    "pycharm": {
     "is_executing": false,
     "name": "#%%\n"
    }
   },
   "outputs": [
    {
     "data": {
      "text/plain": "<Figure size 432x288 with 0 Axes>"
     },
     "metadata": {},
     "output_type": "display_data"
    }
   ],
   "source": [
    "pdg.plot_population_freqs(out_path=\"tmp\", in_path=\"tmp\", title=\"Intrusive opponent: B\")\n"
   ]
  },
  {
   "cell_type": "code",
   "execution_count": 5,
   "outputs": [
    {
     "name": "stdout",
     "text": [
      "Namespace(coev=True, configuration_file='tests/configurations/coevolution_intrusive_hawk_dove.yml', output_dir='tmp_coev_intrusive')\n",
      "Setting random seed: 1 0.13436\n",
      "donkey_ge settings: {'population_size': 100, 'max_length': 100, 'generations': 2, 'tournament_size': 2, 'seed': 1, 'crossover_probability': 0.8, 'mutation_probability': 0.1, 'codon_size': 127, 'integer_input_element_max': 1000, 'elite_size': 15, 'populations': {'attacker': {'adversary': 'defender', 'bnf_grammar': 'tests/grammars/simple_hawk_dove.bnf', 'fitness_function': {'name': 'IntrusiveHawkAndDove', 'opponent': 'None', 'n_iterations': 1}}, 'defender': {'adversary': 'attacker', 'bnf_grammar': 'tests/grammars/simple_hawk_dove.bnf', 'fitness_function': {'name': 'IntrusiveHawkAndDove', 'opponent': 'None', 'n_iterations': 1}}}, 'output_dir': 'tmp_coev_intrusive', 'coev': True}\n",
      "attacker 32\n",
      "Gen:0 t:0.600 fit_ave:0.36+-0.190 size_ave:1.00+-0.000 length_ave:100.00+-0.000 Ind: lambda h, i: \"X\"; 1.0\n",
      "defender 54\n",
      "Gen:0 t:0.744 fit_ave:0.32+-0.156 size_ave:1.00+-0.000 length_ave:100.00+-0.000 Ind: lambda h, i: \"X\"; 1.0\n",
      "attacker 56\n",
      "Gen:1 t:0.299 fit_ave:0.56+-0.191 size_ave:1.00+-0.000 length_ave:100.00+-0.000 Ind: lambda h, i: \"X\"; 0.8\n",
      "defender 56\n",
      "Gen:1 t:0.752 fit_ave:0.43+-0.173 size_ave:1.00+-0.000 length_ave:100.00+-0.000 Ind: lambda h, i: \"X\"; 0.8\n",
      "Cache:OrderedDict([('lambda h, i: \"X\"-<function <lambda> at 0x12ee23200>', 1.0), ('lambda h, i: \"X\"-<function <lambda> at 0x12cc9acb0>', 0.0), ('lambda h, i: \"X\"-<function <lambda> at 0x12ed95b90>', 1.0), ('lambda h, i: \"X\"-<function <lambda> at 0x12ca7bcb0>', 1.0), ('lambda h, i: \"X\"-<function <lambda> at 0x12ee23170>', 1.5), ('lambda h, i: \"X\"-<function <lambda> at 0x12ee16830>', 1.0), ('lambda h, i: \"X\"-<function <lambda> at 0x12ee07f80>', -0.5), ('lambda h, i: \"H\"-<function <lambda> at 0x12ee07f80>', 0.5), ('lambda h, i: \"H\"-<function <lambda> at 0x12cc9acb0>', 0.5), ('lambda h, i: \"H\"-<function <lambda> at 0x12ee23200>', 0.5), ('lambda h, i: \"H\"-<function <lambda> at 0x12ee16830>', 0.5), ('lambda h, i: \"H\"-<function <lambda> at 0x12ca7bcb0>', 0.5), ('lambda h, i: \"H\"-<function <lambda> at 0x12ed95b90>', 0.5), ('lambda h, i: \"H\"-<function <lambda> at 0x12ee23170>', -1.0), ('lambda h, i: \"B\"-<function <lambda> at 0x12ee23200>', 0.0), ('lambda h, i: \"B\"-<function <lambda> at 0x12ee07f80>', 1.0), ('lambda h, i: \"B\"-<function <lambda> at 0x12ca7bcb0>', 0.0), ('lambda h, i: \"B\"-<function <lambda> at 0x12ee16830>', 0.0), ('lambda h, i: \"B\"-<function <lambda> at 0x12ee23170>', 0.0), ('lambda h, i: \"B\"-<function <lambda> at 0x12ed95b90>', 0.0), ('lambda h, i: \"B\"-<function <lambda> at 0x12cc9acb0>', -0.5), ('lambda h, i: \"D\"-<function <lambda> at 0x12ca7bcb0>', 0.5), ('lambda h, i: \"D\"-<function <lambda> at 0x12ee23200>', 0.5), ('lambda h, i: \"D\"-<function <lambda> at 0x12ee23170>', 0.5), ('lambda h, i: \"D\"-<function <lambda> at 0x12ee16830>', 0.5), ('lambda h, i: \"D\"-<function <lambda> at 0x12cc9acb0>', 0.5), ('lambda h, i: \"D\"-<function <lambda> at 0x12ed95b90>', 0.5), ('lambda h, i: \"D\"-<function <lambda> at 0x12ee07f80>', 0.0), ('lambda h, i: \"B\"-<function <lambda> at 0x112a3fa70>', 0.0), ('lambda h, i: \"X\"-<function <lambda> at 0x112a3fa70>', 1.0), ('lambda h, i: \"D\"-<function <lambda> at 0x112a3fa70>', 0.5), ('lambda h, i: \"H\"-<function <lambda> at 0x112a3fa70>', 0.5), ('lambda h, i: \"X\"-<function <lambda> at 0x12ccc0440>', 1.0), ('lambda h, i: \"X\"-<function <lambda> at 0x12ed8c680>', 1.0), ('lambda h, i: \"X\"-<function <lambda> at 0x12ed8c3b0>', 1.0), ('lambda h, i: \"X\"-<function <lambda> at 0x112a3f4d0>', 1.0), ('lambda h, i: \"X\"-<function <lambda> at 0x12ca7f050>', 1.0), ('lambda h, i: \"B\"-<function <lambda> at 0x12ed8c3b0>', 0.0), ('lambda h, i: \"B\"-<function <lambda> at 0x12ed8c680>', 0.0), ('lambda h, i: \"B\"-<function <lambda> at 0x12ca7f050>', 0.0), ('lambda h, i: \"B\"-<function <lambda> at 0x112a3f4d0>', 0.0), ('lambda h, i: \"B\"-<function <lambda> at 0x12ccc0440>', 0.0), ('lambda h, i: \"B\"-<function <lambda> at 0x112a3f830>', -0.5), ('lambda h, i: \"B\"-<function <lambda> at 0x112a3f200>', -0.5), ('lambda h, i: \"X\"-<function <lambda> at 0x112a3f200>', 1.0), ('lambda h, i: \"X\"-<function <lambda> at 0x112a3f830>', 1.0), ('lambda h, i: \"X\"-<function <lambda> at 0x12ccc08c0>', -0.5), ('lambda h, i: \"H\"-<function <lambda> at 0x112a3f200>', 0.5), ('lambda h, i: \"H\"-<function <lambda> at 0x12ccc0440>', 0.5), ('lambda h, i: \"H\"-<function <lambda> at 0x12ccc08c0>', -1.0), ('lambda h, i: \"D\"-<function <lambda> at 0x12ccc08c0>', 0.5), ('lambda h, i: \"D\"-<function <lambda> at 0x12ccc0440>', 0.5), ('lambda h, i: \"D\"-<function <lambda> at 0x112a3f200>', 0.5), ('lambda h, i: \"B\"-<function <lambda> at 0x12ccc08c0>', 0.0), ('lambda h, i: \"D\"-<function <lambda> at 0x12ca7f050>', 0.5), ('lambda h, i: \"H\"-<function <lambda> at 0x12ca7f050>', 0.5)]) Cache entries:56 Total Fitness Evaluations:20000 Fitness Values:6\n",
      "Best solution: attacker: Ind: lambda h, i: \"X\"; 0.8,defender: Ind: lambda h, i: \"X\"; 0.8\n",
      "Time: 2.456 Best solution:OrderedDict([('attacker', <heuristics.donkey_ge.Individual object at 0x12ccbb290>), ('defender', <heuristics.donkey_ge.Individual object at 0x12cd0e790>)])\n"
     ],
     "output_type": "stream"
    },
    {
     "data": {
      "text/plain": "<Figure size 432x288 with 0 Axes>"
     },
     "metadata": {},
     "output_type": "display_data"
    }
   ],
   "source": [
    "# try coevolution\n",
    "args = [\"-o\", \"tmp_coev_intrusive\", \"-f\" \"tests/configurations/coevolution_intrusive_hawk_dove.yml\", \"--coev\"]\n",
    "_ = main.main(args)\n",
    "pdg.plot_population_freqs(out_path=\"tmp_coev_intrusive\", \n",
    "                          in_path=\"tmp_coev_intrusive\", \n",
    "                          title=\"Intrusive coevolution\")\n"
   ],
   "metadata": {
    "collapsed": false,
    "pycharm": {
     "name": "#%% \n",
     "is_executing": false
    }
   }
  },
  {
   "cell_type": "code",
   "execution_count": 6,
   "outputs": [
    {
     "name": "stdout",
     "text": [
      "Namespace(coev=True, configuration_file='tests/configurations/coevolution_nonintrusive_hawk_dove.yml', output_dir='tmp_coev_nonintrusive')\n",
      "Setting random seed: 1 0.13436\n",
      "donkey_ge settings: {'population_size': 100, 'max_length': 100, 'generations': 2, 'tournament_size': 2, 'seed': 1, 'crossover_probability': 0.8, 'mutation_probability': 0.1, 'codon_size': 127, 'integer_input_element_max': 1000, 'elite_size': 15, 'populations': {'attacker': {'adversary': 'defender', 'bnf_grammar': 'tests/grammars/simple_hawk_dove.bnf', 'fitness_function': {'name': 'NonIntrusiveHawkAndDove', 'opponent': 'None', 'n_iterations': 1}}, 'defender': {'adversary': 'attacker', 'bnf_grammar': 'tests/grammars/simple_hawk_dove.bnf', 'fitness_function': {'name': 'NonIntrusiveHawkAndDove', 'opponent': 'None', 'n_iterations': 1}}}, 'output_dir': 'tmp_coev_nonintrusive', 'coev': True}\n"
     ],
     "output_type": "stream"
    },
    {
     "traceback": [
      "\u001b[0;31m---------------------------------------------------------------------------\u001b[0m",
      "\u001b[0;31mNameError\u001b[0m                                 Traceback (most recent call last)",
      "\u001b[0;32m<ipython-input-6-bffd550c92c4>\u001b[0m in \u001b[0;36m<module>\u001b[0;34m\u001b[0m\n\u001b[1;32m      1\u001b[0m \u001b[0;31m# try coevolution\u001b[0m\u001b[0;34m\u001b[0m\u001b[0;34m\u001b[0m\u001b[0;34m\u001b[0m\u001b[0m\n\u001b[1;32m      2\u001b[0m \u001b[0margs\u001b[0m \u001b[0;34m=\u001b[0m \u001b[0;34m[\u001b[0m\u001b[0;34m\"-o\"\u001b[0m\u001b[0;34m,\u001b[0m \u001b[0;34m\"tmp_coev_nonintrusive\"\u001b[0m\u001b[0;34m,\u001b[0m \u001b[0;34m\"-f\"\u001b[0m \u001b[0;34m\"tests/configurations/coevolution_nonintrusive_hawk_dove.yml\"\u001b[0m\u001b[0;34m,\u001b[0m \u001b[0;34m\"--coev\"\u001b[0m\u001b[0;34m]\u001b[0m\u001b[0;34m\u001b[0m\u001b[0;34m\u001b[0m\u001b[0m\n\u001b[0;32m----> 3\u001b[0;31m \u001b[0m_\u001b[0m \u001b[0;34m=\u001b[0m \u001b[0mmain\u001b[0m\u001b[0;34m.\u001b[0m\u001b[0mmain\u001b[0m\u001b[0;34m(\u001b[0m\u001b[0margs\u001b[0m\u001b[0;34m)\u001b[0m\u001b[0;34m\u001b[0m\u001b[0;34m\u001b[0m\u001b[0m\n\u001b[0m\u001b[1;32m      4\u001b[0m pdg.plot_population_freqs(out_path=\"tmp_coev_nonintrusive\", \n\u001b[1;32m      5\u001b[0m                           \u001b[0min_path\u001b[0m\u001b[0;34m=\u001b[0m\u001b[0;34m\"tmp_coev_nonintrusive\"\u001b[0m\u001b[0;34m,\u001b[0m\u001b[0;34m\u001b[0m\u001b[0;34m\u001b[0m\u001b[0m\n",
      "\u001b[0;32m~/Desktop/alfa_research/donkey_ge/main.py\u001b[0m in \u001b[0;36mmain\u001b[0;34m(args)\u001b[0m\n\u001b[1;32m     67\u001b[0m     \u001b[0;31m# Run heuristic search\u001b[0m\u001b[0;34m\u001b[0m\u001b[0;34m\u001b[0m\u001b[0;34m\u001b[0m\u001b[0m\n\u001b[1;32m     68\u001b[0m     \u001b[0;32mif\u001b[0m \u001b[0margs\u001b[0m\u001b[0;34m[\u001b[0m\u001b[0;34m\"coev\"\u001b[0m\u001b[0;34m]\u001b[0m\u001b[0;34m:\u001b[0m\u001b[0;34m\u001b[0m\u001b[0;34m\u001b[0m\u001b[0m\n\u001b[0;32m---> 69\u001b[0;31m         \u001b[0mdonkey_ge_coev\u001b[0m\u001b[0;34m.\u001b[0m\u001b[0mrun\u001b[0m\u001b[0;34m(\u001b[0m\u001b[0margs\u001b[0m\u001b[0;34m)\u001b[0m\u001b[0;34m\u001b[0m\u001b[0;34m\u001b[0m\u001b[0m\n\u001b[0m\u001b[1;32m     70\u001b[0m     \u001b[0;32melse\u001b[0m\u001b[0;34m:\u001b[0m\u001b[0;34m\u001b[0m\u001b[0;34m\u001b[0m\u001b[0m\n\u001b[1;32m     71\u001b[0m         \u001b[0mdonkey_ge\u001b[0m\u001b[0;34m.\u001b[0m\u001b[0mrun\u001b[0m\u001b[0;34m(\u001b[0m\u001b[0margs\u001b[0m\u001b[0;34m)\u001b[0m\u001b[0;34m\u001b[0m\u001b[0;34m\u001b[0m\u001b[0m\n",
      "\u001b[0;32m~/Desktop/alfa_research/donkey_ge/heuristics/donkey_ge_coev.py\u001b[0m in \u001b[0;36mrun\u001b[0;34m(param)\u001b[0m\n\u001b[1;32m    330\u001b[0m     \u001b[0;31m# Evolutionary search\u001b[0m\u001b[0;34m\u001b[0m\u001b[0;34m\u001b[0m\u001b[0;34m\u001b[0m\u001b[0m\n\u001b[1;32m    331\u001b[0m     \u001b[0;31m###########################\u001b[0m\u001b[0;34m\u001b[0m\u001b[0;34m\u001b[0m\u001b[0;34m\u001b[0m\u001b[0m\n\u001b[0;32m--> 332\u001b[0;31m     \u001b[0mbest_ever\u001b[0m \u001b[0;34m=\u001b[0m \u001b[0msearch_loop_coevolution\u001b[0m\u001b[0;34m(\u001b[0m\u001b[0mpopulations\u001b[0m\u001b[0;34m,\u001b[0m \u001b[0mparam\u001b[0m\u001b[0;34m)\u001b[0m\u001b[0;34m\u001b[0m\u001b[0;34m\u001b[0m\u001b[0m\n\u001b[0m\u001b[1;32m    333\u001b[0m \u001b[0;34m\u001b[0m\u001b[0m\n\u001b[1;32m    334\u001b[0m     \u001b[0;31m# Display results\u001b[0m\u001b[0;34m\u001b[0m\u001b[0;34m\u001b[0m\u001b[0;34m\u001b[0m\u001b[0m\n",
      "\u001b[0;32m~/Desktop/alfa_research/donkey_ge/heuristics/donkey_ge_coev.py\u001b[0m in \u001b[0;36msearch_loop_coevolution\u001b[0;34m(populations, param)\u001b[0m\n\u001b[1;32m    173\u001b[0m \u001b[0;34m\u001b[0m\u001b[0m\n\u001b[1;32m    174\u001b[0m         population.individuals = evaluate_fitness(\n\u001b[0;32m--> 175\u001b[0;31m             \u001b[0mpopulation\u001b[0m\u001b[0;34m.\u001b[0m\u001b[0mindividuals\u001b[0m\u001b[0;34m,\u001b[0m \u001b[0mgrammar\u001b[0m\u001b[0;34m,\u001b[0m \u001b[0mfitness_function\u001b[0m\u001b[0;34m,\u001b[0m \u001b[0madversary\u001b[0m\u001b[0;34m.\u001b[0m\u001b[0mindividuals\u001b[0m\u001b[0;34m,\u001b[0m \u001b[0mparam\u001b[0m\u001b[0;34m\u001b[0m\u001b[0;34m\u001b[0m\u001b[0m\n\u001b[0m\u001b[1;32m    176\u001b[0m         )\n\u001b[1;32m    177\u001b[0m         \u001b[0;31m# Set best solution\u001b[0m\u001b[0;34m\u001b[0m\u001b[0;34m\u001b[0m\u001b[0;34m\u001b[0m\u001b[0m\n",
      "\u001b[0;32m~/Desktop/alfa_research/donkey_ge/heuristics/donkey_ge_coev.py\u001b[0m in \u001b[0;36mevaluate_fitness\u001b[0;34m(individuals, grammar, fitness_function, adversaries, param)\u001b[0m\n\u001b[1;32m    135\u001b[0m         \u001b[0;32mif\u001b[0m \u001b[0mind\u001b[0m\u001b[0;34m.\u001b[0m\u001b[0mphenotype\u001b[0m \u001b[0;32mis\u001b[0m \u001b[0;32mnot\u001b[0m \u001b[0;34m\"\"\u001b[0m\u001b[0;34m:\u001b[0m\u001b[0;34m\u001b[0m\u001b[0;34m\u001b[0m\u001b[0m\n\u001b[1;32m    136\u001b[0m             \u001b[0;31m# Execute the fitness function\u001b[0m\u001b[0;34m\u001b[0m\u001b[0;34m\u001b[0m\u001b[0;34m\u001b[0m\u001b[0m\n\u001b[0;32m--> 137\u001b[0;31m             \u001b[0mevaluate\u001b[0m\u001b[0;34m(\u001b[0m\u001b[0mind\u001b[0m\u001b[0;34m,\u001b[0m \u001b[0mfitness_function\u001b[0m\u001b[0;34m,\u001b[0m \u001b[0madversaries\u001b[0m\u001b[0;34m,\u001b[0m \u001b[0mcache\u001b[0m\u001b[0;34m)\u001b[0m\u001b[0;34m\u001b[0m\u001b[0;34m\u001b[0m\u001b[0m\n\u001b[0m\u001b[1;32m    138\u001b[0m             \u001b[0;32massert\u001b[0m \u001b[0mind\u001b[0m\u001b[0;34m.\u001b[0m\u001b[0mfitness\u001b[0m \u001b[0;32mis\u001b[0m \u001b[0;32mnot\u001b[0m \u001b[0;32mNone\u001b[0m\u001b[0;34m\u001b[0m\u001b[0;34m\u001b[0m\u001b[0m\n\u001b[1;32m    139\u001b[0m \u001b[0;34m\u001b[0m\u001b[0m\n",
      "\u001b[0;32m~/Desktop/alfa_research/donkey_ge/heuristics/donkey_ge_coev.py\u001b[0m in \u001b[0;36mevaluate\u001b[0;34m(individual, fitness_function, inds, cache)\u001b[0m\n\u001b[1;32m     95\u001b[0m     \"\"\"\n\u001b[1;32m     96\u001b[0m \u001b[0;34m\u001b[0m\u001b[0m\n\u001b[0;32m---> 97\u001b[0;31m     \u001b[0mindividual\u001b[0m\u001b[0;34m.\u001b[0m\u001b[0mfitness\u001b[0m \u001b[0;34m=\u001b[0m \u001b[0mfitness_function\u001b[0m\u001b[0;34m.\u001b[0m\u001b[0mcoev\u001b[0m\u001b[0;34m(\u001b[0m\u001b[0mindividual\u001b[0m\u001b[0;34m.\u001b[0m\u001b[0mphenotype\u001b[0m\u001b[0;34m,\u001b[0m \u001b[0minds\u001b[0m\u001b[0;34m,\u001b[0m \u001b[0mcache\u001b[0m\u001b[0;34m)\u001b[0m\u001b[0;34m\u001b[0m\u001b[0;34m\u001b[0m\u001b[0m\n\u001b[0m\u001b[1;32m     98\u001b[0m \u001b[0;34m\u001b[0m\u001b[0m\n\u001b[1;32m     99\u001b[0m     \u001b[0;32massert\u001b[0m \u001b[0mindividual\u001b[0m\u001b[0;34m.\u001b[0m\u001b[0mfitness\u001b[0m \u001b[0;32mis\u001b[0m \u001b[0;32mnot\u001b[0m \u001b[0;32mNone\u001b[0m\u001b[0;34m\u001b[0m\u001b[0;34m\u001b[0m\u001b[0m\n",
      "\u001b[0;32m~/Desktop/alfa_research/donkey_ge/fitness/fitness.py\u001b[0m in \u001b[0;36mcoev\u001b[0;34m(self, fcn_str, strategies, cache)\u001b[0m\n\u001b[1;32m    349\u001b[0m         \u001b[0mfitnesses\u001b[0m\u001b[0;34m:\u001b[0m \u001b[0mList\u001b[0m\u001b[0;34m[\u001b[0m\u001b[0mfloat\u001b[0m\u001b[0;34m]\u001b[0m \u001b[0;34m=\u001b[0m \u001b[0;34m[\u001b[0m\u001b[0mDEFAULT_FITNESS\u001b[0m\u001b[0;34m]\u001b[0m \u001b[0;34m*\u001b[0m \u001b[0mlen\u001b[0m\u001b[0;34m(\u001b[0m\u001b[0mstrategies\u001b[0m\u001b[0;34m)\u001b[0m\u001b[0;34m\u001b[0m\u001b[0;34m\u001b[0m\u001b[0m\n\u001b[1;32m    350\u001b[0m         \u001b[0;32mfor\u001b[0m \u001b[0mi\u001b[0m\u001b[0;34m,\u001b[0m \u001b[0mstrategy\u001b[0m \u001b[0;32min\u001b[0m \u001b[0menumerate\u001b[0m\u001b[0;34m(\u001b[0m\u001b[0mstrategies\u001b[0m\u001b[0;34m)\u001b[0m\u001b[0;34m:\u001b[0m\u001b[0;34m\u001b[0m\u001b[0;34m\u001b[0m\u001b[0m\n\u001b[0;32m--> 351\u001b[0;31m             \u001b[0mfitnesses\u001b[0m\u001b[0;34m[\u001b[0m\u001b[0mi\u001b[0m\u001b[0;34m]\u001b[0m \u001b[0;34m=\u001b[0m \u001b[0mself\u001b[0m\u001b[0;34m.\u001b[0m\u001b[0m__call__\u001b[0m\u001b[0;34m(\u001b[0m\u001b[0mfcn_str\u001b[0m\u001b[0;34m,\u001b[0m \u001b[0mstrategy\u001b[0m\u001b[0;34m.\u001b[0m\u001b[0mphenotype\u001b[0m\u001b[0;34m,\u001b[0m \u001b[0mcache\u001b[0m\u001b[0;34m)\u001b[0m\u001b[0;34m\u001b[0m\u001b[0;34m\u001b[0m\u001b[0m\n\u001b[0m\u001b[1;32m    352\u001b[0m \u001b[0;34m\u001b[0m\u001b[0m\n\u001b[1;32m    353\u001b[0m         \u001b[0;31m# Mean Expected Utility\u001b[0m\u001b[0;34m\u001b[0m\u001b[0;34m\u001b[0m\u001b[0;34m\u001b[0m\u001b[0m\n",
      "\u001b[0;32m~/Desktop/alfa_research/donkey_ge/fitness/fitness.py\u001b[0m in \u001b[0;36m__call__\u001b[0;34m(self, fcn_str, strat_str, cache)\u001b[0m\n\u001b[1;32m    325\u001b[0m         \"\"\" Evaluate the strategy against the opponent and return fitness.\n\u001b[1;32m    326\u001b[0m         \"\"\"\n\u001b[0;32m--> 327\u001b[0;31m         \u001b[0mkey\u001b[0m\u001b[0;34m:\u001b[0m \u001b[0mstr\u001b[0m \u001b[0;34m=\u001b[0m \u001b[0;34m\"{}-{}\"\u001b[0m\u001b[0;34m.\u001b[0m\u001b[0mformat\u001b[0m\u001b[0;34m(\u001b[0m\u001b[0mfcn_str\u001b[0m\u001b[0;34m,\u001b[0m \u001b[0mstrat_phenotype\u001b[0m\u001b[0;34m)\u001b[0m\u001b[0;34m\u001b[0m\u001b[0;34m\u001b[0m\u001b[0m\n\u001b[0m\u001b[1;32m    328\u001b[0m         \u001b[0;32mif\u001b[0m \u001b[0mkey\u001b[0m \u001b[0;32min\u001b[0m \u001b[0mcache\u001b[0m\u001b[0;34m:\u001b[0m\u001b[0;34m\u001b[0m\u001b[0;34m\u001b[0m\u001b[0m\n\u001b[1;32m    329\u001b[0m             \u001b[0mfitness\u001b[0m\u001b[0;34m:\u001b[0m \u001b[0mfloat\u001b[0m \u001b[0;34m=\u001b[0m \u001b[0mcache\u001b[0m\u001b[0;34m[\u001b[0m\u001b[0mkey\u001b[0m\u001b[0;34m]\u001b[0m\u001b[0;34m\u001b[0m\u001b[0;34m\u001b[0m\u001b[0m\n",
      "\u001b[0;31mNameError\u001b[0m: name 'strat_phenotype' is not defined"
     ],
     "ename": "NameError",
     "evalue": "name 'strat_phenotype' is not defined",
     "output_type": "error"
    }
   ],
   "source": [
    "# try coevolution\n",
    "args = [\"-o\", \"tmp_coev_nonintrusive\", \"-f\" \"tests/configurations/coevolution_nonintrusive_hawk_dove.yml\", \"--coev\"]\n",
    "_ = main.main(args)\n",
    "pdg.plot_population_freqs(out_path=\"tmp_coev_nonintrusive\", \n",
    "                          in_path=\"tmp_coev_nonintrusive\", \n",
    "                          title=\"Nonintrusive coevolution\")\n"
   ],
   "metadata": {
    "collapsed": false,
    "pycharm": {
     "name": "#%% \n",
     "is_executing": false
    }
   }
  },
  {
   "cell_type": "code",
   "execution_count": null,
   "outputs": [],
   "source": [
    "args = [\"-o\", \"tmp2\", \"-f\", \"tests/configurations/nonintrusive_hawk_dove.yml\"]\n",
    "_ = main.main(args)\n"
   ],
   "metadata": {
    "collapsed": false,
    "pycharm": {
     "name": "#%%\n",
     "is_executing": false
    }
   }
  },
  {
   "cell_type": "code",
   "execution_count": null,
   "outputs": [],
   "source": [
    "pdg.plot_population_freqs(out_path=\"tmp2\", in_path=\"tmp2\", title=\"Unintrusive opponent: B\")\n"
   ],
   "metadata": {
    "collapsed": false,
    "pycharm": {
     "name": "#%%\n",
     "is_executing": false
    }
   }
  },
  {
   "cell_type": "code",
   "execution_count": null,
   "outputs": [],
   "source": [
    "# Set to use the configuration file and output directory\n",
    "args = [\"-o\", \"tmp_pd\", \"-f\", \"tests/configurations/iterated_prisoners_dilemma.yml\"]\n",
    "_ = main.main(args)"
   ],
   "metadata": {
    "collapsed": false,
    "pycharm": {
     "name": "#%%\n",
     "is_executing": false
    }
   }
  },
  {
   "cell_type": "code",
   "execution_count": null,
   "outputs": [],
   "source": [
    "pdg.plot_population_freqs(out_path=\"tmp\", in_path=\"tmp_pd\", title=\"Opponent: C\")"
   ],
   "metadata": {
    "collapsed": false,
    "pycharm": {
     "name": "#%%\n",
     "is_executing": false
    }
   }
  }
 ],
 "metadata": {
  "kernelspec": {
   "display_name": "Python 3",
   "language": "python",
   "name": "python3"
  },
  "language_info": {
   "codemirror_mode": {
    "name": "ipython",
    "version": 3
   },
   "file_extension": ".py",
   "mimetype": "text/x-python",
   "name": "python",
   "nbconvert_exporter": "python",
   "pygments_lexer": "ipython3",
   "version": "3.7.4"
  },
  "pycharm": {
   "stem_cell": {
    "cell_type": "raw",
    "source": [],
    "metadata": {
     "collapsed": false
    }
   }
  }
 },
 "nbformat": 4,
 "nbformat_minor": 2
}