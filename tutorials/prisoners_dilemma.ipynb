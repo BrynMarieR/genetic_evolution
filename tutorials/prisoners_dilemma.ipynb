{
 "cells": [
  {
   "cell_type": "markdown",
   "metadata": {},
   "source": [
    "# Set working directory and import modules"
   ]
  },
  {
   "cell_type": "code",
   "execution_count": 1,
   "metadata": {},
   "outputs": [],
   "source": [
    "import os\n",
    "# Change working directory to the root of the repository (assumes notebook working directory is `tutorials`)\n",
    "os.chdir('..')\n",
    "import main\n",
    "from util.plot_ipd import plot_iterated_prisoners_dilemma, plot_ipd_from_file\n",
    "from fitness.game_theory_game import PrisonersDilemma\n",
    "from typing import List, Tuple"
   ]
  },
  {
   "cell_type": "markdown",
   "metadata": {},
   "source": [
    "# Run Iterated Prisoners Dilemma with two different player strategies"
   ]
  },
  {
   "cell_type": "code",
   "execution_count": 2,
   "metadata": {},
   "outputs": [
    {
     "name": "stderr",
     "output_type": "stream",
     "text": [
      "/Users/erikhemberg/mypy37/lib/python3.7/site-packages/networkx/drawing/nx_pylab.py:611: MatplotlibDeprecationWarning: isinstance(..., numbers.Number)\n",
      "  if cb.is_numlike(alpha):\n"
     ]
    },
    {
     "data": {
      "image/png": "[encoded data removed]",
      "text/plain": [
       "<Figure size 432x288 with 1 Axes>"
      ]
     },
     "metadata": {
      "needs_background": "light"
     },
     "output_type": "display_data"
    }
   ],
   "source": [
    "# Strategy for always cooperate\n",
    "player_1 = lambda h, i: \"C\"\n",
    "# Strategy for cooperate if opponent cooperated previous turn\n",
    "player_2 = lambda h, i: \"C\" if h[i] == \"C\" else \"D\"\n",
    "n_iterations = 2\n",
    "memory_size = 1\n",
    "# Setup a prisoners dilemma engagment\n",
    "pd = PrisonersDilemma(n_iterations=n_iterations, memory_size=memory_size, store_stats=True, out_file_name=PrisonersDilemma.DEFAULT_OUT_FILE)\n",
    "# Run the strategies against each other\n",
    "sentences, histories = pd.run(player_1=player_1, player_2=player_2)\n",
    "# Plot the choices and the payoffs from the engagement\n",
    "plot_iterated_prisoners_dilemma(sentences, pd.revise_history(histories), out_path='.')"
   ]
  },
  {
   "cell_type": "markdown",
   "metadata": {},
   "source": [
    "# Run the heuristic search"
   ]
  },
  {
   "cell_type": "code",
   "execution_count": 3,
   "metadata": {},
   "outputs": [
    {
     "name": "stdout",
     "output_type": "stream",
     "text": [
      "Setting random seed: 1 0.13436\n",
      "donkey_ge settings: {'population_size': 4, 'max_length': 10, 'elite_size': 1, 'generations': 3, 'tournament_size': 2, 'seed': 1, 'crossover_probability': 0.8, 'mutation_probability': 0.1, 'codon_size': 127, 'integer_input_element_max': 1000, 'bnf_grammar': 'tests/grammars/iterated_prisoners_dilemma.bnf', 'fitness_function': {'name': 'IteratedPrisonersDilemma', 'opponent': \"lambda h, i: 'C'\", 'n_iterations': 4}, 'output_dir': 'tmp', 'coev': False}\n",
      "Gen:0 t:0.001 fit_ave:-2.00+-1.581 size_ave:3.50+-0.866 length_ave:10.00+-0.000 Ind: lambda h, i: \"D\"; -0.0\n",
      "Gen:1 t:0.001 fit_ave:-1.00+-1.732 size_ave:3.00+-1.000 length_ave:10.50+-0.866 Ind: lambda h, i: \"D\"; -0.0\n",
      "Gen:2 t:0.000 fit_ave:0.00+-0.000 size_ave:3.00+-1.000 length_ave:11.50+-0.866 Ind: lambda h, i: \"D\"; -0.0\n",
      "Cache entries:7 Total Fitness Evaluations:48 Fitness Values:4\n",
      "Time: 0.012 Best solution:Ind: lambda h, i: \"D\"; -0.0\n"
     ]
    }
   ],
   "source": [
    "# Set to use the configuration file and output directory\n",
    "args = [\"-o\", \"tmp\", \"-f\", \"tests/configurations/iterated_prisoners_dilemma.yml\"]\n",
    "_ = main.main(args)"
   ]
  },
  {
   "cell_type": "code",
   "execution_count": 4,
   "metadata": {},
   "outputs": [
    {
     "data": {
      "image/png": "[encoded data removed]",
      "text/plain": [
       "<Figure size 432x288 with 1 Axes>"
      ]
     },
     "metadata": {
      "needs_background": "light"
     },
     "output_type": "display_data"
    }
   ],
   "source": [
    "from util.plot_donkey_ge import plot_fitness\n",
    "# Plot fitness from a search\n",
    "plot_fitness()"
   ]
  },
  {
   "cell_type": "markdown",
   "metadata": {},
   "source": [
    "# Run the coevlutionary search"
   ]
  },
  {
   "cell_type": "code",
   "execution_count": 5,
   "metadata": {},
   "outputs": [
    {
     "name": "stdout",
     "output_type": "stream",
     "text": [
      "Setting random seed: 1 0.13436\n",
      "donkey_ge settings: {'population_size': 4, 'max_length': 100, 'generations': 2, 'tournament_size': 2, 'seed': 1, 'crossover_probability': 0.8, 'mutation_probability': 0.1, 'codon_size': 127, 'integer_input_element_max': 1000, 'elite_size': 1, 'populations': {'attacker': {'adversary': 'defender', 'bnf_grammar': 'tests/grammars/iterated_prisoners_dilemma.bnf', 'fitness_function': {'name': 'IteratedPrisonersDilemma', 'opponent': 'None', 'n_iterations': 4}}, 'defender': {'adversary': 'attacker', 'bnf_grammar': 'tests/grammars/iterated_prisoners_dilemma.bnf', 'fitness_function': {'name': 'IteratedPrisonersDilemma', 'opponent': 'None', 'n_iterations': 4}}}, 'output_dir': 'tmp', 'coev': True}\n",
      "attacker 12\n",
      "Gen:0 t:0.009 fit_ave:-5.56+-0.942 size_ave:4.00+-1.414 length_ave:100.00+-0.000 Ind: lambda h, i: [\"D\", \"C\", \"D\", \"D\"][i]; -4.5\n",
      "defender 24\n",
      "Gen:0 t:0.002 fit_ave:-6.19+-1.451 size_ave:5.00+-1.000 length_ave:100.00+-0.000 Ind: lambda h, i: [\"D\", \"C\", \"D\", \"D\"][i]; -4.5\n",
      "attacker 26\n",
      "Gen:1 t:0.002 fit_ave:-6.00+-2.000 size_ave:5.00+-1.000 length_ave:100.25+-0.829 Ind: lambda h, i: [\"D\", \"C\", \"D\", \"D\"][i]; -4.0\n",
      "defender 34\n",
      "Gen:1 t:0.002 fit_ave:-6.19+-1.362 size_ave:4.50+-1.658 length_ave:100.00+-0.707 Ind: lambda h, i: [\"D\", \"C\", \"D\", \"D\"][i]; -5.0\n",
      "Cache entries:34 Total Fitness Evaluations:32 Fitness Values:9\n",
      "Best solution: attacker: Ind: lambda h, i: [\"D\", \"C\", \"D\", \"D\"][i]; -4.0,defender: Ind: lambda h, i: [\"D\", \"C\", \"D\", \"D\"][i]; -5.0\n",
      "Time: 0.035 Best solution:OrderedDict([('attacker', <heuristics.donkey_ge.Individual object at 0x116b9f390>), ('defender', <heuristics.donkey_ge.Individual object at 0x116b7d9e8>)])\n"
     ]
    }
   ],
   "source": [
    "args = [\"-o\", \"tmp\", \"-f\", \"tests/configurations/coevolution_iterated_prisoners_dilemma.yml\", \"--coev\"]\n",
    "_ = main.main(args)"
   ]
  }
 ],
 "metadata": {
  "kernelspec": {
   "display_name": "Python 3",
   "language": "python",
   "name": "python3"
  },
  "language_info": {
   "codemirror_mode": {
    "name": "ipython",
    "version": 3
   },
   "file_extension": ".py",
   "mimetype": "text/x-python",
   "name": "python",
   "nbconvert_exporter": "python",
   "pygments_lexer": "ipython3",
   "version": "3.7.0"
  }
 },
 "nbformat": 4,
 "nbformat_minor": 2
}
