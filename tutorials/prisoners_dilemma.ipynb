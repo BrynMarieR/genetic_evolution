{
 "cells": [
  {
   "cell_type": "markdown",
   "metadata": {},
   "source": [
    "# Set working directory and import modules"
   ]
  },
  {
   "cell_type": "code",
   "execution_count": 48,
   "metadata": {
    "pycharm": {
     "is_executing": false
    }
   },
   "outputs": [],
   "source": [
    "import os\n",
    "# Change working directory to the root of the repository (assumes notebook working directory is `tutorials`)\n",
    "os.chdir('/Users/breinsta/Desktop/alfa_research/donkey_ge/')\n",
    "import main\n",
    "from util.plot_ipd import plot_iterated_prisoners_dilemma, plot_ipd_from_file\n",
    "from fitness.game_theory_game import PrisonersDilemma\n",
    "from typing import List, Tuple"
   ]
  },
  {
   "cell_type": "markdown",
   "metadata": {},
   "source": [
    "# Run Iterated Prisoners Dilemma with two different player strategies"
   ]
  },
  {
   "cell_type": "code",
   "execution_count": 49,
   "metadata": {
    "pycharm": {
     "is_executing": false
    }
   },
   "outputs": [
    {
     "name": "stderr",
     "text": [
      "/usr/local/lib/python3.7/site-packages/networkx/drawing/nx_pylab.py:563: MatplotlibDeprecationWarning: \n",
      "The iterable function was deprecated in Matplotlib 3.1 and will be removed in 3.3. Use np.iterable instead.\n",
      "  if not cb.iterable(width):\n",
      "/usr/local/lib/python3.7/site-packages/networkx/drawing/nx_pylab.py:611: MatplotlibDeprecationWarning: \n",
      "The is_numlike function was deprecated in Matplotlib 3.0 and will be removed in 3.2. Use isinstance(..., numbers.Number) instead.\n",
      "  if cb.is_numlike(alpha):\n"
     ],
     "output_type": "stream"
    },
    {
     "data": {
      "text/plain": "<Figure size 432x288 with 1 Axes>",
      "image/png": "[encoded data removed]"
     },
     "metadata": {
      "needs_background": "light"
     },
     "output_type": "display_data"
    }
   ],
   "source": [
    "# Strategy for always cooperate\n",
    "player_1 = lambda h, i: [\"D\",\"D\",\"D\",\"C\"][i % 4]\n",
    "# Strategy for cooperate if opponent cooperated previous turn\n",
    "player_2 = lambda h, i: [\"C\",\"D\",\"C\",\"C\"][i % 4]\n",
    "n_iterations = 5\n",
    "memory_size = 1\n",
    "# Setup a prisoners dilemma engagment\n",
    "pd = PrisonersDilemma(n_iterations=n_iterations, memory_size=memory_size, store_stats=True, out_file_name=PrisonersDilemma.DEFAULT_OUT_FILE)\n",
    "# Run the strategies against each other\n",
    "sentences, histories = pd.run(player_1=player_1, player_2=player_2)\n",
    "# Plot the choices and the payoffs from the engagement\n",
    "plot_iterated_prisoners_dilemma(sentences, pd.revise_history(histories), out_path='.')"
   ]
  },
  {
   "cell_type": "markdown",
   "metadata": {},
   "source": [
    "# Run the heuristic search"
   ]
  },
  {
   "cell_type": "code",
   "execution_count": 50,
   "metadata": {
    "pycharm": {
     "is_executing": false
    }
   },
   "outputs": [
    {
     "name": "stdout",
     "text": [
      "Namespace(coev=False, configuration_file='tests/configurations/iterated_prisoners_dilemma.yml', output_dir='tmp')\n",
      "Setting random seed: 1 0.13436\n",
      "donkey_ge settings: {'population_size': 4, 'max_length': 10, 'elite_size': 1, 'generations': 5, 'tournament_size': 2, 'seed': 1, 'crossover_probability': 0.8, 'mutation_probability': 0.1, 'codon_size': 127, 'integer_input_element_max': 1000, 'bnf_grammar': 'tests/grammars/iterated_prisoners_dilemma.bnf', 'fitness_function': {'name': 'IteratedPrisonersDilemma', 'opponent': \"lambda h, i: 'C'\", 'n_iterations': 10}, 'output_dir': 'tmp', 'coev': False, 'brynset': 'hello'}\n",
      "Gen:0 t:0.001 fit_ave:-5.00+-4.528 size_ave:3.50+-0.866 length_ave:10.00+-0.000 Ind: lambda h, i: \"D\"; -0.0\n",
      "Gen:1 t:0.001 fit_ave:-2.50+-4.330 size_ave:3.00+-1.000 length_ave:10.50+-0.866 Ind: lambda h, i: \"D\"; -0.0\n",
      "Gen:2 t:0.000 fit_ave:0.00+-0.000 size_ave:3.00+-1.000 length_ave:11.50+-0.866 Ind: lambda h, i: \"D\"; -0.0\n",
      "Gen:3 t:0.000 fit_ave:0.00+-0.000 size_ave:2.50+-0.866 length_ave:11.75+-0.433 Ind: lambda h, i: \"D\" if h[i] == \"C\" else \"D\"; -0.0\n",
      "Gen:4 t:0.001 fit_ave:-0.25+-0.433 size_ave:3.00+-1.000 length_ave:12.00+-0.707 Ind: lambda h, i: \"D\"; -0.0\n",
      "Cache entries:8 Total Fitness Evaluations:80 Fitness Values:5\n",
      "Time: 0.010 Best solution:Ind: lambda h, i: \"D\"; -0.0\n"
     ],
     "output_type": "stream"
    }
   ],
   "source": [
    "# Set to use the configuration file and output directory\n",
    "args = [\"-o\", \"tmp\", \"-f\", \"tests/configurations/iterated_prisoners_dilemma.yml\"]\n",
    "_ = main.main(args)"
   ]
  },
  {
   "cell_type": "code",
   "execution_count": null,
   "metadata": {
    "pycharm": {
     "is_executing": false
    }
   },
   "outputs": [],
   "source": [
    "from util.plot_donkey_ge import plot_fitness\n",
    "# Plot fitness from a search\n",
    "plot_fitness(in_path=\"tmp\")"
   ]
  },
  {
   "cell_type": "markdown",
   "metadata": {},
   "source": [
    "# Run the coevlutionary search"
   ]
  },
  {
   "cell_type": "code",
   "execution_count": null,
   "metadata": {
    "pycharm": {
     "is_executing": false
    }
   },
   "outputs": [],
   "source": [
    "args = [\"-o\", \"tmpcoev\", \"-f\", \"tests/configurations/coevolution_iterated_prisoners_dilemma.yml\", \"--coev\"]\n",
    "_ = main.main(args)"
   ]
  },
  {
   "cell_type": "code",
   "execution_count": null,
   "metadata": {
    "pycharm": {
     "is_executing": false
    }
   },
   "outputs": [],
   "source": [
    "plot_fitness(in_path=\"tmpcoev\")"
   ]
  },
  {
   "cell_type": "code",
   "execution_count": null,
   "metadata": {
    "pycharm": {
     "is_executing": false
    }
   },
   "outputs": [],
   "source": []
  }
 ],
 "metadata": {
  "kernelspec": {
   "display_name": "Python 3",
   "language": "python",
   "name": "python3"
  },
  "language_info": {
   "codemirror_mode": {
    "name": "ipython",
    "version": 3
   },
   "file_extension": ".py",
   "mimetype": "text/x-python",
   "name": "python",
   "nbconvert_exporter": "python",
   "pygments_lexer": "ipython3",
   "version": "3.7.4"
  },
  "pycharm": {
   "stem_cell": {
    "cell_type": "raw",
    "source": [],
    "metadata": {
     "collapsed": false
    }
   }
  }
 },
 "nbformat": 4,
 "nbformat_minor": 2
}