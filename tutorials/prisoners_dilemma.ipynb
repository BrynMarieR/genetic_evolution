{
 "cells": [
  {
   "cell_type": "markdown",
   "metadata": {},
   "source": [
    "# Set working directory and import modules"
   ]
  },
  {
   "cell_type": "code",
   "execution_count": 1,
   "metadata": {
    "pycharm": {
     "is_executing": false
    }
   },
   "outputs": [],
   "source": [
    "import os\n",
    "# Change working directory to the root of the repository (assumes notebook working directory is `tutorials`)\n",
    "os.chdir('/Users/breinsta/Desktop/alfa_research/donkey_ge/')\n",
    "import main\n",
    "from fitness.game_theory_game import PrisonersDilemma\n",
    "from typing import List, Tuple"
   ]
  },
  {
   "cell_type": "markdown",
   "metadata": {},
   "source": [
    "# Run Iterated Prisoners Dilemma with two different player strategies"
   ]
  },
  {
   "cell_type": "code",
   "execution_count": 2,
   "metadata": {
    "pycharm": {
     "is_executing": false
    }
   },
   "outputs": [
    {
     "name": "stdout",
     "text": [
      "[(0.0, -3.0), (0.0, -3.0), (0.0, -3.0), (-1.0, -1.0), (0.0, -3.0)]\n",
      "{'player_1': {'strategy_history': ['D', 'D', 'D', 'C', 'D']}, 'player_2': {'strategy_history': ['C', 'C', 'C', 'C', 'C']}}\n"
     ],
     "output_type": "stream"
    }
   ],
   "source": [
    "# Strategy for always cooperate\n",
    "player_1 = lambda h, i: [\"D\",\"D\",\"D\",\"C\"][i % 4]\n",
    "# Strategy for cooperate if opponent cooperated previous turn\n",
    "player_2 = lambda h, i: \"C\"\n",
    "n_iterations = 5\n",
    "memory_size = 1\n",
    "# Setup a prisoners dilemma engagment\n",
    "pd = PrisonersDilemma(n_iterations=n_iterations, memory_size=memory_size, store_stats=False, \n",
    "                      out_file_name=PrisonersDilemma.DEFAULT_OUT_FILE)\n",
    "# Run the strategies against each other\n",
    "sentences, histories = pd.run(player_1=player_1, player_2=player_2)\n",
    "# Plot the choices and the payoffs from the engagement\n",
    "print(sentences) \n",
    "print(histories)"
   ]
  },
  {
   "cell_type": "code",
   "execution_count": 3,
   "outputs": [
    {
     "name": "stderr",
     "text": [
      "/usr/local/lib/python3.7/site-packages/networkx/drawing/nx_pylab.py:563: MatplotlibDeprecationWarning: \n",
      "The iterable function was deprecated in Matplotlib 3.1 and will be removed in 3.3. Use np.iterable instead.\n",
      "  if not cb.iterable(width):\n",
      "/usr/local/lib/python3.7/site-packages/networkx/drawing/nx_pylab.py:611: MatplotlibDeprecationWarning: \n",
      "The is_numlike function was deprecated in Matplotlib 3.0 and will be removed in 3.2. Use isinstance(..., numbers.Number) instead.\n",
      "  if cb.is_numlike(alpha):\n"
     ],
     "output_type": "stream"
    },
    {
     "data": {
      "text/plain": "<Figure size 432x288 with 1 Axes>",
      "image/png": "[encoded data removed]"
     },
     "metadata": {
      "needs_background": "light"
     },
     "output_type": "display_data"
    }
   ],
   "source": [
    "def reformat_history(histories): \n",
    "    return list(map(lambda x, y: (x,y), \n",
    "                    histories[\"player_1\"][\"strategy_history\"], \n",
    "                    histories[\"player_2\"][\"strategy_history\"]))\n",
    "\n",
    "plot_iterated_prisoners_dilemma(sentences, reformat_history(histories), out_path='.')"
   ],
   "metadata": {
    "collapsed": false,
    "pycharm": {
     "name": "#%%\n",
     "is_executing": false
    }
   }
  },
  {
   "cell_type": "markdown",
   "metadata": {},
   "source": [
    "# Run the heuristic search"
   ]
  },
  {
   "cell_type": "code",
   "execution_count": 4,
   "metadata": {
    "pycharm": {
     "is_executing": false
    }
   },
   "outputs": [
    {
     "name": "stdout",
     "text": [
      "Namespace(coev=False, configuration_file='tests/configurations/iterated_prisoners_dilemma.yml', output_dir='results')\n",
      "Setting random seed: 1579877793 0.20160\n",
      "donkey_ge settings: {'population_size': 500, 'max_length': 10, 'elite_size': 25, 'generations': 25, 'tournament_size': 2, 'crossover_probability': 0.8, 'mutation_probability': 0.1, 'codon_size': 127, 'integer_input_element_max': 1000, 'bnf_grammar': 'tests/grammars/simple_iterated_prisoners_dilemma.bnf', 'fitness_function': {'name': 'IteratedPrisonersDilemma', 'opponent': \"lambda h, i: 'C'\", 'n_iterations': 4}, 'output_dir': 'results', 'coev': False, 'seed': 1579877793}\n",
      "Gen:0 t:0.005 fit_ave:-0.50+-0.500 size_ave:1.00+-0.000 length_ave:10.00+-0.000 Ind: lambda h, i: \"D\"; 0.0\n",
      "Gen:1 t:0.018 fit_ave:-0.23+-0.421 size_ave:1.00+-0.000 length_ave:10.00+-0.000 Ind: lambda h, i: \"D\"; 0.0\n",
      "Gen:2 t:0.015 fit_ave:-0.02+-0.125 size_ave:1.00+-0.000 length_ave:10.00+-0.000 Ind: lambda h, i: \"D\"; 0.0\n",
      "Gen:3 t:0.015 fit_ave:0.00+-0.000 size_ave:1.00+-0.000 length_ave:10.00+-0.000 Ind: lambda h, i: \"D\"; 0.0\n",
      "Gen:4 t:0.012 fit_ave:0.00+-0.000 size_ave:1.00+-0.000 length_ave:10.00+-0.000 Ind: lambda h, i: \"D\"; 0.0\n",
      "Gen:5 t:0.012 fit_ave:0.00+-0.000 size_ave:1.00+-0.000 length_ave:10.00+-0.000 Ind: lambda h, i: \"D\"; 0.0\n",
      "Gen:6 t:0.012 fit_ave:-0.01+-0.089 size_ave:1.00+-0.000 length_ave:10.00+-0.000 Ind: lambda h, i: \"D\"; 0.0\n",
      "Gen:7 t:0.013 fit_ave:0.00+-0.000 size_ave:1.00+-0.000 length_ave:10.00+-0.000 Ind: lambda h, i: \"D\"; 0.0\n",
      "Gen:8 t:0.012 fit_ave:0.00+-0.000 size_ave:1.00+-0.000 length_ave:10.00+-0.000 Ind: lambda h, i: \"D\"; 0.0\n",
      "Gen:9 t:0.012 fit_ave:0.00+-0.000 size_ave:1.00+-0.000 length_ave:10.00+-0.000 Ind: lambda h, i: \"D\"; 0.0\n",
      "Gen:10 t:0.012 fit_ave:0.00+-0.000 size_ave:1.00+-0.000 length_ave:10.00+-0.000 Ind: lambda h, i: \"D\"; 0.0\n",
      "Gen:11 t:0.012 fit_ave:-0.00+-0.045 size_ave:1.00+-0.000 length_ave:10.00+-0.000 Ind: lambda h, i: \"D\"; 0.0\n",
      "Gen:12 t:0.012 fit_ave:-0.01+-0.077 size_ave:1.00+-0.000 length_ave:10.00+-0.000 Ind: lambda h, i: \"D\"; 0.0\n",
      "Gen:13 t:0.012 fit_ave:0.00+-0.000 size_ave:1.00+-0.000 length_ave:10.00+-0.000 Ind: lambda h, i: \"D\"; 0.0\n",
      "Gen:14 t:0.018 fit_ave:-0.02+-0.125 size_ave:1.00+-0.000 length_ave:10.00+-0.000 Ind: lambda h, i: \"D\"; 0.0\n",
      "Gen:15 t:0.016 fit_ave:-0.00+-0.063 size_ave:1.00+-0.000 length_ave:10.00+-0.000 Ind: lambda h, i: \"D\"; 0.0\n",
      "Gen:16 t:0.015 fit_ave:0.00+-0.000 size_ave:1.00+-0.000 length_ave:10.00+-0.000 Ind: lambda h, i: \"D\"; 0.0\n",
      "Gen:17 t:0.014 fit_ave:0.00+-0.000 size_ave:1.00+-0.000 length_ave:10.00+-0.000 Ind: lambda h, i: \"D\"; 0.0\n",
      "Gen:18 t:0.016 fit_ave:-0.02+-0.125 size_ave:1.00+-0.000 length_ave:10.00+-0.000 Ind: lambda h, i: \"D\"; 0.0\n",
      "Gen:19 t:0.015 fit_ave:-0.01+-0.089 size_ave:1.00+-0.000 length_ave:10.00+-0.000 Ind: lambda h, i: \"D\"; 0.0\n",
      "Gen:20 t:0.014 fit_ave:-0.00+-0.063 size_ave:1.00+-0.000 length_ave:10.00+-0.000 Ind: lambda h, i: \"D\"; 0.0\n",
      "Gen:21 t:0.023 fit_ave:0.00+-0.000 size_ave:1.00+-0.000 length_ave:10.00+-0.000 Ind: lambda h, i: \"D\"; 0.0\n",
      "Gen:22 t:0.022 fit_ave:-0.00+-0.045 size_ave:1.00+-0.000 length_ave:10.00+-0.000 Ind: lambda h, i: \"D\"; 0.0\n",
      "Gen:23 t:0.015 fit_ave:0.00+-0.000 size_ave:1.00+-0.000 length_ave:10.00+-0.000 Ind: lambda h, i: \"D\"; 0.0\n",
      "Gen:24 t:0.014 fit_ave:0.00+-0.000 size_ave:1.00+-0.000 length_ave:10.00+-0.000 Ind: lambda h, i: \"D\"; 0.0\n",
      "Cache:OrderedDict([('lambda h, i: \"C\"-<function <lambda> at 0x1277efef0>', -1.0), ('lambda h, i: \"D\"-<function <lambda> at 0x1277efef0>', 0.0)]) Cache entries:2 Total Fitness Evaluations:6250000 Fitness Values:2\n",
      "Time: 0.458 Best solution:Ind: lambda h, i: \"D\"; 0.0\n"
     ],
     "output_type": "stream"
    }
   ],
   "source": [
    "# Set to use the configuration file and output directory\n",
    "args = [\"-o\", \"results\", \"-f\", \"tests/configurations/iterated_prisoners_dilemma.yml\"]\n",
    "_ = main.main(args)"
   ]
  },
  {
   "cell_type": "code",
   "execution_count": 5,
   "metadata": {
    "pycharm": {
     "is_executing": false
    }
   },
   "outputs": [
    {
     "data": {
      "text/plain": "<Figure size 432x288 with 1 Axes>",
      "image/png": "[encoded data removed]"
     },
     "metadata": {
      "needs_background": "light"
     },
     "output_type": "display_data"
    }
   ],
   "source": [
    "from util.plot_donkey_ge import plot_fitness\n",
    "# Plot fitness from a search\n",
    "plot_fitness(in_path=\"tmp\")"
   ]
  },
  {
   "cell_type": "markdown",
   "metadata": {},
   "source": [
    "# Run the coevolutionary search"
   ]
  },
  {
   "cell_type": "code",
   "execution_count": 6,
   "metadata": {
    "pycharm": {
     "is_executing": false
    }
   },
   "outputs": [
    {
     "name": "stdout",
     "text": [
      "Namespace(coev=True, configuration_file='tests/configurations/coevolution_iterated_prisoners_dilemma.yml', output_dir='tmpcoev')\n",
      "Setting random seed: 1 0.13436\n",
      "donkey_ge settings: {'population_size': 4, 'max_length': 100, 'generations': 2, 'tournament_size': 2, 'seed': 1, 'crossover_probability': 0.8, 'mutation_probability': 0.1, 'codon_size': 127, 'integer_input_element_max': 1000, 'elite_size': 1, 'populations': {'attacker': {'adversary': 'defender', 'bnf_grammar': 'tests/grammars/iterated_prisoners_dilemma.bnf', 'fitness_function': {'name': 'IteratedPrisonersDilemma', 'opponent': 'None', 'n_iterations': 4}}, 'defender': {'adversary': 'attacker', 'bnf_grammar': 'tests/grammars/iterated_prisoners_dilemma.bnf', 'fitness_function': {'name': 'IteratedPrisonersDilemma', 'opponent': 'None', 'n_iterations': 4}}}, 'output_dir': 'tmpcoev', 'coev': True}\n",
      "attacker 14\n",
      "Gen:0 t:0.002 fit_ave:-1.00+-0.293 size_ave:5.00+-0.000 length_ave:100.00+-0.000 Ind: lambda h, i: [\"D\", \"D\", \"C\", \"D\"][i % 4]; -0.5\n",
      "defender 25\n",
      "Gen:0 t:0.003 fit_ave:-1.75+-0.375 size_ave:2.00+-1.732 length_ave:100.00+-0.000 Ind: lambda h, i: \"D\"; -1.125\n",
      "attacker 30\n",
      "Gen:1 t:0.002 fit_ave:-0.97+-0.358 size_ave:5.00+-0.000 length_ave:100.25+-0.433 Ind: lambda h, i: [\"D\", \"D\", \"C\", \"D\"][i % 4]; -0.5\n",
      "defender 39\n",
      "Gen:1 t:0.003 fit_ave:-1.72+-0.347 size_ave:2.00+-1.732 length_ave:100.00+-0.000 Ind: lambda h, i: \"D\"; -1.375\n",
      "Cache:OrderedDict([('lambda h, i: [\"D\", \"C\", \"C\", \"D\"][i % 4]-<function <lambda> at 0x12a501b90>', -1.0), ('lambda h, i: [\"D\", \"C\", \"C\", \"D\"][i % 4]-<function <lambda> at 0x12a523170>', -0.5), ('lambda h, i: [\"D\", \"C\", \"C\", \"D\"][i % 4]-<function <lambda> at 0x12a5230e0>', -0.5), ('lambda h, i: [\"D\", \"C\", \"C\", \"D\"][i % 4]-<function <lambda> at 0x12a501560>', -2.5), ('lambda h, i: [\"D\", \"D\", \"C\", \"D\"][i % 4]-<function <lambda> at 0x12a523170>', -0.75), ('lambda h, i: [\"D\", \"D\", \"C\", \"D\"][i % 4]-<function <lambda> at 0x12a5230e0>', -0.25), ('lambda h, i: [\"D\", \"D\", \"C\", \"D\"][i % 4]-<function <lambda> at 0x12a5014d0>', -0.25), ('lambda h, i: [\"C\", \"D\", \"C\", \"D\"][i % 4]-<function <lambda> at 0x12a501560>', -1.0), ('lambda h, i: [\"C\", \"D\", \"C\", \"D\"][i % 4]-<function <lambda> at 0x12a5230e0>', -0.5), ('lambda h, i: [\"C\", \"D\", \"C\", \"D\"][i % 4]-<function <lambda> at 0x12a523170>', -0.5), ('lambda h, i: [\"C\", \"D\", \"C\", \"D\"][i % 4]-<function <lambda> at 0x12a5014d0>', -2.5), ('lambda h, i: [\"C\", \"C\", \"C\", \"C\"][i % 4]-<function <lambda> at 0x12a5230e0>', -1.5), ('lambda h, i: [\"C\", \"C\", \"C\", \"C\"][i % 4]-<function <lambda> at 0x12a523170>', -1.0), ('lambda h, i: [\"C\", \"C\", \"C\", \"C\"][i % 4]-<function <lambda> at 0x12a501b90>', -1.0), ('lambda h, i: [\"C\", \"C\", \"D\", \"C\"][i % 4]-<function <lambda> at 0x12a5234d0>', -2.25), ('lambda h, i: [\"C\", \"C\", \"D\", \"C\"][i % 4]-<function <lambda> at 0x12a523680>', -1.75), ('lambda h, i: [\"C\", \"C\", \"D\", \"C\"][i % 4]-<function <lambda> at 0x12a523290>', -1.75), ('lambda h, i: \"C\"-<function <lambda> at 0x12a5234d0>', -2.5), ('lambda h, i: \"C\"-<function <lambda> at 0x12a523560>', -2.0), ('lambda h, i: \"C\"-<function <lambda> at 0x12a523290>', -2.0), ('lambda h, i: \"C\"-<function <lambda> at 0x12a5235f0>', -2.0), ('lambda h, i: \"C\"-<function <lambda> at 0x12a523680>', -1.0), ('lambda h, i: \"D\"-<function <lambda> at 0x12a523290>', -1.5), ('lambda h, i: \"D\"-<function <lambda> at 0x12a5235f0>', -1.0), ('lambda h, i: \"D\"-<function <lambda> at 0x12a523440>', -1.0), ('lambda h, i: [\"D\", \"D\", \"C\", \"D\"][i % 4]-<function <lambda> at 0x12a5234d0>', -2.25), ('lambda h, i: [\"D\", \"D\", \"C\", \"D\"][i % 4]-<function <lambda> at 0x12a523440>', -0.25), ('lambda h, i: [\"D\", \"D\", \"C\", \"D\"][i % 4]-<function <lambda> at 0x12a523200>', -0.75), ('lambda h, i: [\"D\", \"C\", \"C\", \"D\"][i % 4]-<function <lambda> at 0x12a523200>', -2.5), ('lambda h, i: [\"D\", \"C\", \"C\", \"D\"][i % 4]-<function <lambda> at 0x12a523440>', -0.5), ('lambda h, i: \"D\"-<function <lambda> at 0x12a523200>', -1.5), ('lambda h, i: \"D\"-<function <lambda> at 0x12a523560>', -1.5), ('lambda h, i: \"D\"-<function <lambda> at 0x12a523170>', -1.0), ('lambda h, i: \"C\"-<function <lambda> at 0x12a523200>', -2.5), ('lambda h, i: \"C\"-<function <lambda> at 0x12a523170>', -2.5), ('lambda h, i: \"D\"-<function <lambda> at 0x12a5230e0>', -1.5), ('lambda h, i: [\"C\", \"C\", \"D\", \"C\"][i % 4]-<function <lambda> at 0x12a523200>', -2.25), ('lambda h, i: [\"C\", \"C\", \"D\", \"C\"][i % 4]-<function <lambda> at 0x12a5230e0>', -2.25), ('lambda h, i: [\"C\", \"C\", \"D\", \"C\"][i % 4]-<function <lambda> at 0x12a5235f0>', -2.25)]) Cache entries:39 Total Fitness Evaluations:32 Fitness Values:9\n",
      "Best solution: attacker: Ind: lambda h, i: [\"D\", \"D\", \"C\", \"D\"][i % 4]; -0.5,defender: Ind: lambda h, i: \"D\"; -1.375\n",
      "Time: 0.022 Best solution:OrderedDict([('attacker', <heuristics.donkey_ge.Individual object at 0x12a4f75d0>), ('defender', <heuristics.donkey_ge.Individual object at 0x12a4f1cd0>)])\n"
     ],
     "output_type": "stream"
    }
   ],
   "source": [
    "args = [\"-o\", \"tmpcoev\", \"-f\", \"tests/configurations/coevolution_iterated_prisoners_dilemma.yml\", \"--coev\"]\n",
    "_ = main.main(args)"
   ]
  },
  {
   "cell_type": "code",
   "execution_count": 7,
   "metadata": {
    "pycharm": {
     "is_executing": false
    }
   },
   "outputs": [
    {
     "data": {
      "text/plain": "<Figure size 432x288 with 0 Axes>"
     },
     "metadata": {},
     "output_type": "display_data"
    }
   ],
   "source": [
    "import util.plot_donkey_ge as pdg\n",
    "pdg.plot_population_freqs(out_path=\"tmpcoev\", in_path=\"tmpcoev\",title=\"pd coev\")"
   ]
  },
  {
   "cell_type": "code",
   "execution_count": 7,
   "metadata": {
    "pycharm": {
     "is_executing": false
    }
   },
   "outputs": [],
   "source": []
  }
 ],
 "metadata": {
  "kernelspec": {
   "display_name": "Python 3",
   "language": "python",
   "name": "python3"
  },
  "language_info": {
   "codemirror_mode": {
    "name": "ipython",
    "version": 3
   },
   "file_extension": ".py",
   "mimetype": "text/x-python",
   "name": "python",
   "nbconvert_exporter": "python",
   "pygments_lexer": "ipython3",
   "version": "3.7.4"
  },
  "pycharm": {
   "stem_cell": {
    "cell_type": "raw",
    "source": [],
    "metadata": {
     "collapsed": false
    }
   }
  }
 },
 "nbformat": 4,
 "nbformat_minor": 2
}